{
 "cells": [
  {
   "cell_type": "code",
   "execution_count": 1,
   "id": "cc90d563",
   "metadata": {
    "scrolled": true
   },
   "outputs": [
    {
     "name": "stderr",
     "output_type": "stream",
     "text": [
      "Using Spark's default log4j profile: org/apache/spark/log4j-defaults.properties\n",
      "22/06/02 20:43:02 INFO SparkContext: Running Spark version 3.2.0\n",
      "22/06/02 20:43:02 WARN NativeCodeLoader: Unable to load native-hadoop library for your platform... using builtin-java classes where applicable\n",
      "22/06/02 20:43:02 INFO ResourceUtils: ==============================================================\n",
      "22/06/02 20:43:02 INFO ResourceUtils: No custom resources configured for spark.driver.\n",
      "22/06/02 20:43:02 INFO ResourceUtils: ==============================================================\n",
      "22/06/02 20:43:02 INFO SparkContext: Submitted application: beb3f7e7-7040-4f94-a6d3-f22bfcb66f91\n",
      "22/06/02 20:43:02 INFO ResourceProfile: Default ResourceProfile created, executor resources: Map(cores -> name: cores, amount: 1, script: , vendor: , memory -> name: memory, amount: 1024, script: , vendor: , offHeap -> name: offHeap, amount: 0, script: , vendor: ), task resources: Map(cpus -> name: cpus, amount: 1.0)\n",
      "22/06/02 20:43:02 INFO ResourceProfile: Limiting resource is cpu\n",
      "22/06/02 20:43:02 INFO ResourceProfileManager: Added ResourceProfile id: 0\n",
      "22/06/02 20:43:02 INFO SecurityManager: Changing view acls to: oscar\n",
      "22/06/02 20:43:02 INFO SecurityManager: Changing modify acls to: oscar\n",
      "22/06/02 20:43:02 INFO SecurityManager: Changing view acls groups to: \n",
      "22/06/02 20:43:02 INFO SecurityManager: Changing modify acls groups to: \n",
      "22/06/02 20:43:02 INFO SecurityManager: SecurityManager: authentication disabled; ui acls disabled; users  with view permissions: Set(oscar); groups with view permissions: Set(); users  with modify permissions: Set(oscar); groups with modify permissions: Set()\n",
      "22/06/02 20:43:02 INFO Utils: Successfully started service 'sparkDriver' on port 42869.\n",
      "22/06/02 20:43:02 INFO SparkEnv: Registering MapOutputTracker\n",
      "22/06/02 20:43:02 INFO SparkEnv: Registering BlockManagerMaster\n",
      "22/06/02 20:43:02 INFO BlockManagerMasterEndpoint: Using org.apache.spark.storage.DefaultTopologyMapper for getting topology information\n",
      "22/06/02 20:43:02 INFO BlockManagerMasterEndpoint: BlockManagerMasterEndpoint up\n",
      "22/06/02 20:43:02 INFO SparkEnv: Registering BlockManagerMasterHeartbeat\n",
      "22/06/02 20:43:02 INFO DiskBlockManager: Created local directory at /tmp/blockmgr-bec23cf1-eb94-4715-aea0-39c2967197a7\n",
      "22/06/02 20:43:02 INFO MemoryStore: MemoryStore started with capacity 4.0 GiB\n",
      "22/06/02 20:43:02 INFO SparkEnv: Registering OutputCommitCoordinator\n",
      "22/06/02 20:43:02 INFO Utils: Successfully started service 'SparkUI' on port 4040.\n",
      "22/06/02 20:43:02 INFO SparkUI: Bound SparkUI to 0.0.0.0, and started at http://netrunner:4040\n",
      "22/06/02 20:43:02 INFO Executor: Starting executor ID driver on host netrunner\n",
      "22/06/02 20:43:02 INFO Utils: Successfully started service 'org.apache.spark.network.netty.NettyBlockTransferService' on port 42517.\n",
      "22/06/02 20:43:02 INFO NettyBlockTransferService: Server created on netrunner:42517\n",
      "22/06/02 20:43:02 INFO BlockManager: Using org.apache.spark.storage.RandomBlockReplicationPolicy for block replication policy\n",
      "22/06/02 20:43:02 INFO BlockManagerMaster: Registering BlockManager BlockManagerId(driver, netrunner, 42517, None)\n",
      "22/06/02 20:43:02 INFO BlockManagerMasterEndpoint: Registering block manager netrunner:42517 with 4.0 GiB RAM, BlockManagerId(driver, netrunner, 42517, None)\n",
      "22/06/02 20:43:02 INFO BlockManagerMaster: Registered BlockManager BlockManagerId(driver, netrunner, 42517, None)\n",
      "22/06/02 20:43:02 INFO BlockManager: Initialized BlockManager: BlockManagerId(driver, netrunner, 42517, None)\n"
     ]
    },
    {
     "data": {
      "text/plain": [
       "\u001b[32mimport \u001b[39m\u001b[36m$ivy.$                                   // Or use any other 2.x version here\n",
       "\u001b[39m\n",
       "\u001b[32mimport \u001b[39m\u001b[36m$ivy.$                               \n",
       "\n",
       "\u001b[39m\n",
       "\u001b[32mimport \u001b[39m\u001b[36morg.apache.spark._\n",
       "\u001b[39m\n",
       "\u001b[32mimport \u001b[39m\u001b[36morg.apache.spark.sql.{functions => func, _}\n",
       "\u001b[39m\n",
       "\u001b[32mimport \u001b[39m\u001b[36morg.apache.spark.sql.functions._\n",
       "\u001b[39m\n",
       "\u001b[32mimport \u001b[39m\u001b[36morg.apache.spark.sql.types._\n",
       "\n",
       "\u001b[39m\n",
       "\u001b[32mimport \u001b[39m\u001b[36morg.slf4j.LoggerFactory\n",
       "\u001b[39m\n",
       "\u001b[32mimport \u001b[39m\u001b[36morg.apache.log4j.{Level, Logger}\n",
       "\n",
       "\u001b[39m\n",
       "\u001b[36mspark\u001b[39m: \u001b[32mSparkSession\u001b[39m = org.apache.spark.sql.SparkSession@45bab224\n",
       "\u001b[32mimport \u001b[39m\u001b[36mspark.implicits._\n",
       "\n",
       "\u001b[39m"
      ]
     },
     "execution_count": 1,
     "metadata": {},
     "output_type": "execute_result"
    }
   ],
   "source": [
    "import $ivy.`org.apache.spark::spark-sql:3.2.0` // Or use any other 2.x version here\n",
    "import $ivy.`sh.almond::almond-spark:0.10.1`\n",
    "\n",
    "import org.apache.spark._\n",
    "import org.apache.spark.sql.{functions => func, _}\n",
    "import org.apache.spark.sql.functions._\n",
    "import org.apache.spark.sql.types._\n",
    "\n",
    "import org.slf4j.LoggerFactory\n",
    "import org.apache.log4j.{Level, Logger}\n",
    "\n",
    "val spark = SparkSession\n",
    "      .builder()\n",
    "      .config(\"spark.sql.shuffle.partitions\", 4)\n",
    "      .master(\"local[4]\")\n",
    "      .getOrCreate()\n",
    "\n",
    "import spark.implicits._\n",
    "\n",
    "Logger.getRootLogger().setLevel(Level.ERROR)"
   ]
  },
  {
   "cell_type": "code",
   "execution_count": 4,
   "id": "d5313ffd",
   "metadata": {},
   "outputs": [
    {
     "data": {
      "text/plain": [
       "\u001b[32mimport \u001b[39m\u001b[36morg.apache.spark.sql.expressions.Window\u001b[39m"
      ]
     },
     "execution_count": 4,
     "metadata": {},
     "output_type": "execute_result"
    }
   ],
   "source": [
    "import org.apache.spark.sql.expressions.Window"
   ]
  },
  {
   "cell_type": "code",
   "execution_count": 5,
   "id": "c9a6d320",
   "metadata": {},
   "outputs": [
    {
     "data": {
      "text/plain": [
       "\u001b[36mlapTimeToMs\u001b[39m: \u001b[32mString\u001b[39m => \u001b[32mLong\u001b[39m = ammonite.$sess.cmd4$Helper$$Lambda$3730/1713426558@4864a4b9"
      ]
     },
     "execution_count": 5,
     "metadata": {},
     "output_type": "execute_result"
    }
   ],
   "source": [
    "val lapTimeToMs = (time: String) => {\n",
    "    val regex = \"\"\"([0-9]|[0-9][0-9]):([0-9][0-9])\\.([0-9][0-9][0-9])\"\"\".r\n",
    "    time match {\n",
    "        case regex(min,sec,ms) => min.toInt * 60 * 1000 + sec.toInt * 1000 + ms.toInt\n",
    "        case \"\\\\N\" => 180000\n",
    "    }\n",
    "    \n",
    "}: Long"
   ]
  },
  {
   "cell_type": "code",
   "execution_count": 6,
   "id": "51dae689",
   "metadata": {},
   "outputs": [
    {
     "data": {
      "text/plain": [
       "\u001b[36mlapTimeToMsUDF\u001b[39m: \u001b[32mexpressions\u001b[39m.\u001b[32mUserDefinedFunction\u001b[39m = \u001b[33mSparkUserDefinedFunction\u001b[39m(\n",
       "  ammonite.$sess.cmd4$Helper$$Lambda$3730/1713426558@4864a4b9,\n",
       "  LongType,\n",
       "  \u001b[33mList\u001b[39m(\n",
       "    \u001b[33mSome\u001b[39m(\n",
       "      \u001b[33mExpressionEncoder\u001b[39m(\n",
       "        \u001b[33mStaticInvoke\u001b[39m(\n",
       "          class org.apache.spark.unsafe.types.UTF8String,\n",
       "          StringType,\n",
       "          \u001b[32m\"fromString\"\u001b[39m,\n",
       "          \u001b[33mList\u001b[39m(\u001b[33mBoundReference\u001b[39m(\u001b[32m0\u001b[39m, \u001b[33mObjectType\u001b[39m(class java.lang.String), true)),\n",
       "          \u001b[33mList\u001b[39m(),\n",
       "          true,\n",
       "          false\n",
       "        ),\n",
       "        \u001b[33mInvoke\u001b[39m(\n",
       "          \u001b[33mUpCast\u001b[39m(\n",
       "            \u001b[33mGetColumnByOrdinal\u001b[39m(\u001b[32m0\u001b[39m, StringType),\n",
       "            StringType,\n",
       "            \u001b[33mList\u001b[39m(\u001b[32m\"- root class: \\\"java.lang.String\\\"\"\u001b[39m)\n",
       "          ),\n",
       "          \u001b[32m\"toString\"\u001b[39m,\n",
       "          \u001b[33mObjectType\u001b[39m(class java.lang.String),\n",
       "          \u001b[33mList\u001b[39m(),\n",
       "          \u001b[33mList\u001b[39m(),\n",
       "          true,\n",
       "          false\n",
       "        ),\n",
       "        java.lang.String\n",
       "      )\n",
       "    )\n",
       "  ),\n",
       "  \u001b[33mSome\u001b[39m(\n",
       "    \u001b[33mExpressionEncoder\u001b[39m(\n",
       "      \u001b[33mBoundReference\u001b[39m(\u001b[32m0\u001b[39m, LongType, false),\n",
       "      \u001b[33mAssertNotNull\u001b[39m(\n",
       "        \u001b[33mUpCast\u001b[39m(\n",
       "          \u001b[33mGetColumnByOrdinal\u001b[39m(\u001b[32m0\u001b[39m, LongType),\n",
       "          LongType,\n",
       "...\n",
       "\u001b[36mres5_1\u001b[39m: \u001b[32mexpressions\u001b[39m.\u001b[32mUserDefinedFunction\u001b[39m = \u001b[33mSparkUserDefinedFunction\u001b[39m(\n",
       "  ammonite.$sess.cmd4$Helper$$Lambda$3730/1713426558@4864a4b9,\n",
       "  LongType,\n",
       "  \u001b[33mList\u001b[39m(\n",
       "    \u001b[33mSome\u001b[39m(\n",
       "      \u001b[33mExpressionEncoder\u001b[39m(\n",
       "        \u001b[33mStaticInvoke\u001b[39m(\n",
       "          class org.apache.spark.unsafe.types.UTF8String,\n",
       "          StringType,\n",
       "          \u001b[32m\"fromString\"\u001b[39m,\n",
       "          \u001b[33mList\u001b[39m(\u001b[33mBoundReference\u001b[39m(\u001b[32m0\u001b[39m, \u001b[33mObjectType\u001b[39m(class java.lang.String), true)),\n",
       "          \u001b[33mList\u001b[39m(),\n",
       "          true,\n",
       "          false\n",
       "        ),\n",
       "        \u001b[33mInvoke\u001b[39m(\n",
       "          \u001b[33mUpCast\u001b[39m(\n",
       "            \u001b[33mGetColumnByOrdinal\u001b[39m(\u001b[32m0\u001b[39m, StringType),\n",
       "            StringType,\n",
       "            \u001b[33mList\u001b[39m(\u001b[32m\"- root class: \\\"java.lang.String\\\"\"\u001b[39m)\n",
       "          ),\n",
       "          \u001b[32m\"toString\"\u001b[39m,\n",
       "          \u001b[33mObjectType\u001b[39m(class java.lang.String),\n",
       "          \u001b[33mList\u001b[39m(),\n",
       "          \u001b[33mList\u001b[39m(),\n",
       "          true,\n",
       "          false\n",
       "        ),\n",
       "        java.lang.String\n",
       "      )\n",
       "    )\n",
       "  ),\n",
       "  \u001b[33mSome\u001b[39m(\n",
       "    \u001b[33mExpressionEncoder\u001b[39m(\n",
       "      \u001b[33mBoundReference\u001b[39m(\u001b[32m0\u001b[39m, LongType, false),\n",
       "      \u001b[33mAssertNotNull\u001b[39m(\n",
       "        \u001b[33mUpCast\u001b[39m(\n",
       "          \u001b[33mGetColumnByOrdinal\u001b[39m(\u001b[32m0\u001b[39m, LongType),\n",
       "          LongType,\n",
       "..."
      ]
     },
     "execution_count": 6,
     "metadata": {},
     "output_type": "execute_result"
    }
   ],
   "source": [
    "val lapTimeToMsUDF = udf(lapTimeToMs)\n",
    "spark.udf.register(\"lapTimeToMs\", lapTimeToMsUDF)"
   ]
  },
  {
   "cell_type": "code",
   "execution_count": 7,
   "id": "f6584db2",
   "metadata": {},
   "outputs": [
    {
     "data": {
      "text/plain": [
       "\u001b[36mmsToLapTime\u001b[39m: \u001b[32mLong\u001b[39m => \u001b[32mString\u001b[39m = ammonite.$sess.cmd6$Helper$$Lambda$3978/25967365@7cd86df3"
      ]
     },
     "execution_count": 7,
     "metadata": {},
     "output_type": "execute_result"
    }
   ],
   "source": [
    "val msToLapTime = (time: Long) => {\n",
    "    val mins = time / 60000\n",
    "    val secs = (time - mins*60000)/1000\n",
    "    val ms = time - mins*60000 - secs*1000\n",
    "    \n",
    "    val formattedSecs = if((secs / 10).toInt == 0) \"0\" + secs else secs\n",
    "    // if ms = 00x -> \"0\"+\"0\"+x . if ms = 0xx -> \"0\"+ms\n",
    "    val formattedMs = if((ms / 100).toInt == 0) \"0\" + (if((ms / 10).toInt == 0) \"0\" + ms else ms) else ms\n",
    "    mins + \":\" + formattedSecs + \".\" + formattedMs    \n",
    "}: String"
   ]
  },
  {
   "cell_type": "code",
   "execution_count": 8,
   "id": "c00edad7",
   "metadata": {},
   "outputs": [
    {
     "data": {
      "text/plain": [
       "\u001b[36mres7\u001b[39m: \u001b[32mString\u001b[39m = \u001b[32m\"1:30.234\"\u001b[39m"
      ]
     },
     "execution_count": 8,
     "metadata": {},
     "output_type": "execute_result"
    }
   ],
   "source": [
    "msToLapTime(lapTimeToMs(\"1:30.234\"))"
   ]
  },
  {
   "cell_type": "code",
   "execution_count": 9,
   "id": "6d7e0950",
   "metadata": {
    "scrolled": true
   },
   "outputs": [
    {
     "data": {
      "text/plain": [
       "\u001b[36mmsToLapTimeUDF\u001b[39m: \u001b[32mexpressions\u001b[39m.\u001b[32mUserDefinedFunction\u001b[39m = \u001b[33mSparkUserDefinedFunction\u001b[39m(\n",
       "  ammonite.$sess.cmd6$Helper$$Lambda$3978/25967365@7cd86df3,\n",
       "  StringType,\n",
       "  \u001b[33mList\u001b[39m(\n",
       "    \u001b[33mSome\u001b[39m(\n",
       "      \u001b[33mExpressionEncoder\u001b[39m(\n",
       "        \u001b[33mBoundReference\u001b[39m(\u001b[32m0\u001b[39m, LongType, false),\n",
       "        \u001b[33mAssertNotNull\u001b[39m(\n",
       "          \u001b[33mUpCast\u001b[39m(\n",
       "            \u001b[33mGetColumnByOrdinal\u001b[39m(\u001b[32m0\u001b[39m, LongType),\n",
       "            LongType,\n",
       "            \u001b[33mList\u001b[39m(\u001b[32m\"- root class: \\\"scala.Long\\\"\"\u001b[39m)\n",
       "          ),\n",
       "          \u001b[33mList\u001b[39m(\u001b[32m\"- root class: \\\"scala.Long\\\"\"\u001b[39m)\n",
       "        ),\n",
       "        Long\n",
       "      )\n",
       "    )\n",
       "  ),\n",
       "  \u001b[33mSome\u001b[39m(\n",
       "    \u001b[33mExpressionEncoder\u001b[39m(\n",
       "      \u001b[33mStaticInvoke\u001b[39m(\n",
       "        class org.apache.spark.unsafe.types.UTF8String,\n",
       "        StringType,\n",
       "        \u001b[32m\"fromString\"\u001b[39m,\n",
       "        \u001b[33mList\u001b[39m(\u001b[33mBoundReference\u001b[39m(\u001b[32m0\u001b[39m, \u001b[33mObjectType\u001b[39m(class java.lang.String), true)),\n",
       "        \u001b[33mList\u001b[39m(),\n",
       "        true,\n",
       "        false\n",
       "      ),\n",
       "      \u001b[33mInvoke\u001b[39m(\n",
       "        \u001b[33mUpCast\u001b[39m(\n",
       "          \u001b[33mGetColumnByOrdinal\u001b[39m(\u001b[32m0\u001b[39m, StringType),\n",
       "          StringType,\n",
       "          \u001b[33mList\u001b[39m(\u001b[32m\"- root class: \\\"java.lang.String\\\"\"\u001b[39m)\n",
       "        ),\n",
       "        \u001b[32m\"toString\"\u001b[39m,\n",
       "        \u001b[33mObjectType\u001b[39m(class java.lang.String),\n",
       "        \u001b[33mList\u001b[39m(),\n",
       "...\n",
       "\u001b[36mres8_1\u001b[39m: \u001b[32mexpressions\u001b[39m.\u001b[32mUserDefinedFunction\u001b[39m = \u001b[33mSparkUserDefinedFunction\u001b[39m(\n",
       "  ammonite.$sess.cmd6$Helper$$Lambda$3978/25967365@7cd86df3,\n",
       "  StringType,\n",
       "  \u001b[33mList\u001b[39m(\n",
       "    \u001b[33mSome\u001b[39m(\n",
       "      \u001b[33mExpressionEncoder\u001b[39m(\n",
       "        \u001b[33mBoundReference\u001b[39m(\u001b[32m0\u001b[39m, LongType, false),\n",
       "        \u001b[33mAssertNotNull\u001b[39m(\n",
       "          \u001b[33mUpCast\u001b[39m(\n",
       "            \u001b[33mGetColumnByOrdinal\u001b[39m(\u001b[32m0\u001b[39m, LongType),\n",
       "            LongType,\n",
       "            \u001b[33mList\u001b[39m(\u001b[32m\"- root class: \\\"scala.Long\\\"\"\u001b[39m)\n",
       "          ),\n",
       "          \u001b[33mList\u001b[39m(\u001b[32m\"- root class: \\\"scala.Long\\\"\"\u001b[39m)\n",
       "        ),\n",
       "        Long\n",
       "      )\n",
       "    )\n",
       "  ),\n",
       "  \u001b[33mSome\u001b[39m(\n",
       "    \u001b[33mExpressionEncoder\u001b[39m(\n",
       "      \u001b[33mStaticInvoke\u001b[39m(\n",
       "        class org.apache.spark.unsafe.types.UTF8String,\n",
       "        StringType,\n",
       "        \u001b[32m\"fromString\"\u001b[39m,\n",
       "        \u001b[33mList\u001b[39m(\u001b[33mBoundReference\u001b[39m(\u001b[32m0\u001b[39m, \u001b[33mObjectType\u001b[39m(class java.lang.String), true)),\n",
       "        \u001b[33mList\u001b[39m(),\n",
       "        true,\n",
       "        false\n",
       "      ),\n",
       "      \u001b[33mInvoke\u001b[39m(\n",
       "        \u001b[33mUpCast\u001b[39m(\n",
       "          \u001b[33mGetColumnByOrdinal\u001b[39m(\u001b[32m0\u001b[39m, StringType),\n",
       "          StringType,\n",
       "          \u001b[33mList\u001b[39m(\u001b[32m\"- root class: \\\"java.lang.String\\\"\"\u001b[39m)\n",
       "        ),\n",
       "        \u001b[32m\"toString\"\u001b[39m,\n",
       "        \u001b[33mObjectType\u001b[39m(class java.lang.String),\n",
       "        \u001b[33mList\u001b[39m(),\n",
       "..."
      ]
     },
     "execution_count": 9,
     "metadata": {},
     "output_type": "execute_result"
    }
   ],
   "source": [
    "val msToLapTimeUDF = udf(msToLapTime)\n",
    "spark.udf.register(\"msToLapTime\", msToLapTimeUDF)"
   ]
  },
  {
   "cell_type": "code",
   "execution_count": 16,
   "id": "efa6c10c",
   "metadata": {},
   "outputs": [
    {
     "data": {
      "text/plain": [
       "\u001b[36mraces\u001b[39m: \u001b[32mDataFrame\u001b[39m = [raceId: string, year: string ... 6 more fields]\n",
       "\u001b[36mlap_times\u001b[39m: \u001b[32mDataFrame\u001b[39m = [raceId: string, driverId: string ... 4 more fields]\n",
       "\u001b[36mdrivers\u001b[39m: \u001b[32mDataFrame\u001b[39m = [driverId: string, driverRef: string ... 7 more fields]\n",
       "\u001b[36mresults\u001b[39m: \u001b[32mDataset\u001b[39m[\u001b[32mRow\u001b[39m] = [resultId: string, raceId: string ... 16 more fields]"
      ]
     },
     "execution_count": 16,
     "metadata": {},
     "output_type": "execute_result"
    }
   ],
   "source": [
    "val races = spark.read.format(\"csv\")\n",
    "    .option(\"header\", \"true\")\n",
    "    .option(\"sep\", \",\")\n",
    "    .load(\"../data/races.csv\")\n",
    "\n",
    "val lap_times = spark.read.format(\"csv\")\n",
    "    .option(\"header\", \"true\")\n",
    "    .option(\"sep\", \",\")\n",
    "    .load(\"../data/lap_times.csv\")\n",
    "\n",
    "val drivers = spark.read.format(\"csv\")\n",
    "    .option(\"header\", \"true\")\n",
    "    .option(\"sep\", \",\")\n",
    "    .load(\"../data/drivers.csv\")\n",
    "\n",
    "val results = spark.read.format(\"csv\")\n",
    "    .option(\"header\", \"true\")\n",
    "    .option(\"sep\", \",\")\n",
    "    .load(\"../data/results.csv\")\n",
    "    .where(col(\"fastestLapTime\") =!= \"192.074\")"
   ]
  },
  {
   "cell_type": "code",
   "execution_count": 15,
   "id": "37e6cd1d",
   "metadata": {},
   "outputs": [
    {
     "name": "stdout",
     "output_type": "stream",
     "text": [
      "+--------+------+--------+-------------+------+----+--------+------------+-------------+------+----+---------+------------+----------+----+--------------+---------------+--------+\n",
      "|resultId|raceId|driverId|constructorId|number|grid|position|positionText|positionOrder|points|laps|     time|milliseconds|fastestLap|rank|fastestLapTime|fastestLapSpeed|statusId|\n",
      "+--------+------+--------+-------------+------+----+--------+------------+-------------+------+----+---------+------------+----------+----+--------------+---------------+--------+\n",
      "|   25174|  1062|     830|            9|    33|   3|       9|           9|            9|     2|  70|+1:20.244|     7563443|        43|   4|       192.074|        194.843|       1|\n",
      "+--------+------+--------+-------------+------+----+--------+------------+-------------+------+----+---------+------------+----------+----+--------------+---------------+--------+\n",
      "\n"
     ]
    }
   ],
   "source": [
    "results.show()"
   ]
  },
  {
   "cell_type": "code",
   "execution_count": 21,
   "id": "67ecba75",
   "metadata": {},
   "outputs": [
    {
     "data": {
      "text/plain": [
       "defined \u001b[32mfunction\u001b[39m \u001b[36mqueryConsistencia\u001b[39m"
      ]
     },
     "execution_count": 21,
     "metadata": {},
     "output_type": "execute_result"
    }
   ],
   "source": [
    "def queryConsistencia(races:DataFrame, lap_times:DataFrame, drivers:DataFrame, results:DataFrame):DataFrame = {\n",
    "    val driverWindow = Window.partitionBy(\"driverId\")\n",
    "    val seasonWindow = Window.partitionBy(\"year\")\n",
    "\n",
    "    \n",
    "    val races_filtered = races\n",
    "        .where(col(\"year\") === 2012)\n",
    "    \n",
    "    val avg_lap_times = lap_times\n",
    "        .withColumnRenamed(\"time\", \"lapTime\")\n",
    "        .join(races_filtered, Seq(\"raceId\"), \"right\")\n",
    "        .withColumn(\"milliseconds\", col(\"milliseconds\").cast(IntegerType))\n",
    "        .withColumn(\"avgMs\", avg(col(\"milliseconds\")).over(driverWindow))\n",
    "        .dropDuplicates(\"driverId\")\n",
    "        .select(\"driverId\", \"avgMs\")\n",
    "    \n",
    "    val lapCount = lap_times\n",
    "        .join(races_filtered, Seq(\"raceId\"), \"right\")\n",
    "        .withColumn(\"lapsPerDriver\", count(col(\"lap\")).over(driverWindow))\n",
    "\n",
    "        val (distinctDrivers, allLaps) = lapCount\n",
    "            .agg(\n",
    "                countDistinct(\"driverID\"),\n",
    "                count(col(\"lap\"))\n",
    "        ).as[(BigInt, BigInt)]\n",
    "        .collect()(0)\n",
    "\n",
    "    val avgLapsThisPeriod = allLaps.toInt / distinctDrivers.toInt\n",
    "\n",
    "\n",
    "    val experiencedDrivers = lapCount\n",
    "        .where(col(\"lapsPerDriver\") >= avgLapsThisPeriod)\n",
    "        .select(\"driverId\")\n",
    "        .distinct()\n",
    "        .as[String]\n",
    "        .collect()\n",
    "    \n",
    "    results.join(races, Seq(\"raceId\"), \"right\")\n",
    "        .na.drop(Seq(\"fastestLapTime\"))\n",
    "        .withColumn(\"fastestLapTimeMs\", lapTimeToMsUDF(col(\"fastestLapTime\")))\n",
    "        .withColumn(\"avgFastestLapMs\", avg(col(\"fastestLapTimeMs\")).over(driverWindow))\n",
    "        .dropDuplicates(\"driverId\")\n",
    "        .join(avg_lap_times, Seq(\"driverId\"), \"left\")\n",
    "        .withColumn(\"diffLapTimes\", abs('avgMs - 'avgFastestLapMs).cast(IntegerType))\n",
    "        .withColumn(\"avgDiff\", msToLapTimeUDF(col(\"diffLapTimes\").cast(IntegerType)))\n",
    "        .where(col(\"driverId\").isInCollection(experiencedDrivers))\n",
    "        .join(drivers, \"driverId\")\n",
    "        .withColumn(\"driver\", concat(col(\"forename\"), lit(\" \"), col(\"surname\")))\n",
    "        .select(\"driver\", \"avgDiff\")\n",
    "        .orderBy(\"avgDiff\")\n",
    "}"
   ]
  },
  {
   "cell_type": "code",
   "execution_count": 22,
   "id": "b695d5cc",
   "metadata": {},
   "outputs": [
    {
     "name": "stdout",
     "output_type": "stream",
     "text": [
      "+--------+------+--------+-------------+------+----+--------+------------+-------------+------+----+-----------+------------+----------+----+--------------+---------------+--------+----+-----+---------+---------------------+----------+--------+-------------------------------------------------------+----------------+------------------+------------------+------------+--------+-----------+------+----+---------+----------+----------+-----------+--------------------------------------------------------+-----------------+\n",
      "|driverId|raceId|resultId|constructorId|number|grid|position|positionText|positionOrder|points|laps|time       |milliseconds|fastestLap|rank|fastestLapTime|fastestLapSpeed|statusId|year|round|circuitId|name                 |date      |time    |url                                                    |fastestLapTimeMs|avgFastestLapMs   |avgMs             |diffLapTimes|avgDiff |driverRef  |number|code|forename |surname   |dob       |nationality|url                                                     |driver           |\n",
      "+--------+------+--------+-------------+------+----+--------+------------+-------------+------+----+-----------+------------+----------+----+--------------+---------------+--------+----+-----+---------+---------------------+----------+--------+-------------------------------------------------------+----------------+------------------+------------------+------------+--------+-----------+------+----+---------+----------+----------+-----------+--------------------------------------------------------+-----------------+\n",
      "|1       |18    |1       |1            |22    |1   |1       |1           |1            |10    |58  |1:34:50.616|5690616     |39        |2   |1:27.452      |218.300        |1       |2008|1    |1        |Australian Grand Prix|2008-03-16|04:30:00|http://en.wikipedia.org/wiki/2008_Australian_Grand_Prix|87452           |92041.70486111111 |99488.32727272727 |7446        |0:07.446|hamilton   |44    |HAM |Lewis    |Hamilton  |1985-01-07|British    |http://en.wikipedia.org/wiki/Lewis_Hamilton             |Lewis Hamilton   |\n",
      "|155     |16    |7863    |7            |10    |11  |10      |10          |10           |0     |71  |+1:03.324  |5606405     |71        |11  |1:14.676      |207.729        |1       |2009|16   |18       |Brazilian Grand Prix |2009-10-18|16:00:00|http://en.wikipedia.org/wiki/2009_Brazilian_Grand_Prix |74676           |103261.52631578948|103175.84276126558|85          |0:00.085|kobayashi  |10    |KOB |Kamui    |Kobayashi |1986-09-13|Japanese   |http://en.wikipedia.org/wiki/Kamui_Kobayashi            |Kamui Kobayashi  |\n",
      "|18      |18    |18      |11           |16    |12  |\\N      |R           |18           |0     |0   |\\N         |\\N          |\\N        |\\N  |\\N            |\\N             |4       |2008|1    |1        |Australian Grand Prix|2008-03-16|04:30:00|http://en.wikipedia.org/wiki/2008_Australian_Grand_Prix|180000          |113481.69902912622|101620.75113122172|11860       |0:11.860|button     |22    |BUT |Jenson   |Button    |1980-01-19|British    |http://en.wikipedia.org/wiki/Jenson_Button              |Jenson Button    |\n",
      "|5       |18    |5       |1            |23    |3   |5       |5           |5            |4     |58  |+18.014    |5708630     |43        |1   |1:27.418      |218.385        |1       |2008|1    |1        |Australian Grand Prix|2008-03-16|04:30:00|http://en.wikipedia.org/wiki/2008_Australian_Grand_Prix|87418           |95854.69642857143 |103617.75888985256|7763        |0:07.763|kovalainen |\\N    |KOV |Heikki   |Kovalainen|1981-10-19|Finnish    |http://en.wikipedia.org/wiki/Heikki_Kovalainen          |Heikki Kovalainen|\n",
      "|814     |841   |20788   |10           |15    |14  |10      |10          |10           |1     |57  |\\N         |\\N          |40        |14  |1:31.941      |207.641        |11      |2011|1    |1        |Australian Grand Prix|2011-03-27|06:00:00|http://en.wikipedia.org/wiki/2011_Australian_Grand_Prix|91941           |97759.79661016949 |101970.75197889181|4210        |0:04.210|resta      |\\N    |DIR |Paul     |di Resta  |1986-04-16|British    |http://en.wikipedia.org/wiki/Paul_di_Resta              |Paul di Resta    |\n",
      "|817     |849   |20986   |164          |22    |24  |19      |19          |19           |0     |49  |\\N         |\\N          |30        |22  |1:40.910      |210.163        |13      |2011|9    |9        |British Grand Prix   |2011-07-10|12:00:00|http://en.wikipedia.org/wiki/2011_British_Grand_Prix   |100910          |93338.58095238096 |102254.54382978723|8915        |0:08.915|ricciardo  |3     |RIC |Daniel   |Ricciardo |1989-07-01|Australian |http://en.wikipedia.org/wiki/Daniel_Ricciardo           |Daniel Ricciardo |\n",
      "|10      |18    |10      |7            |12    |18  |\\N      |R           |10           |0     |43  |\\N         |\\N          |23        |13  |1:29.558      |213.166        |3       |2008|1    |1        |Australian Grand Prix|2008-03-16|04:30:00|http://en.wikipedia.org/wiki/2008_Australian_Grand_Prix|89558           |99424.92631578947 |103823.23679417121|4398        |0:04.398|glock      |\\N    |GLO |Timo     |Glock     |1982-03-18|German     |http://en.wikipedia.org/wiki/Timo_Glock                 |Timo Glock       |\n",
      "|13      |18    |13      |6            |2     |4   |\\N      |R           |13           |0     |29  |\\N         |\\N          |23        |6   |1:28.175      |216.510        |5       |2008|1    |1        |Australian Grand Prix|2008-03-16|04:30:00|http://en.wikipedia.org/wiki/2008_Australian_Grand_Prix|88175           |98963.36900369004 |101670.69439728353|2707        |0:02.707|massa      |19    |MAS |Felipe   |Massa     |1981-04-25|Brazilian  |http://en.wikipedia.org/wiki/Felipe_Massa               |Felipe Massa     |\n",
      "|17      |18    |17      |9            |10    |14  |\\N      |R           |17           |0     |0   |\\N         |\\N          |\\N        |\\N  |\\N            |\\N             |4       |2008|1    |1        |Australian Grand Prix|2008-03-16|04:30:00|http://en.wikipedia.org/wiki/2008_Australian_Grand_Prix|180000          |107563.47465437787|101096.50839964634|6466        |0:06.466|webber     |\\N    |WEB |Mark     |Webber    |1976-08-27|Australian |http://en.wikipedia.org/wiki/Mark_Webber_(racing_driver)|Mark Webber      |\n",
      "|20      |18    |20      |5            |15    |9   |\\N      |R           |20           |0     |0   |\\N         |\\N          |\\N        |\\N  |\\N            |\\N             |4       |2008|1    |1        |Australian Grand Prix|2008-03-16|04:30:00|http://en.wikipedia.org/wiki/2008_Australian_Grand_Prix|180000          |94488.1107142857  |101035.18932874355|6547        |0:06.547|vettel     |5     |VET |Sebastian|Vettel    |1987-07-03|German     |http://en.wikipedia.org/wiki/Sebastian_Vettel           |Sebastian Vettel |\n",
      "|3       |18    |3       |3            |7     |7   |3       |3           |3            |6     |58  |+8.163     |5698779     |41        |5   |1:28.090      |216.719        |1       |2008|1    |1        |Australian Grand Prix|2008-03-16|04:30:00|http://en.wikipedia.org/wiki/2008_Australian_Grand_Prix|88090           |96026.97087378641 |100810.47683397683|4783        |0:04.783|rosberg    |6     |ROS |Nico     |Rosberg   |1985-06-27|German     |http://en.wikipedia.org/wiki/Nico_Rosberg               |Nico Rosberg     |\n",
      "|4       |18    |4       |4            |5     |11  |4       |4           |4            |5     |58  |+17.181    |5707797     |58        |7   |1:28.603      |215.464        |1       |2008|1    |1        |Australian Grand Prix|2008-03-16|04:30:00|http://en.wikipedia.org/wiki/2008_Australian_Grand_Prix|88603           |102632.625        |100249.46575342465|2383        |0:02.383|alonso     |14    |ALO |Fernando |Alonso    |1981-07-29|Spanish    |http://en.wikipedia.org/wiki/Fernando_Alonso            |Fernando Alonso  |\n",
      "|8       |18    |8       |6            |1     |15  |8       |8           |8            |1     |53  |\\N         |\\N          |20        |4   |1:27.903      |217.180        |5       |2008|1    |1        |Australian Grand Prix|2008-03-16|04:30:00|http://en.wikipedia.org/wiki/2008_Australian_Grand_Prix|87903           |105498.44602272728|101344.08396305626|4154        |0:04.154|raikkonen  |7     |RAI |Kimi     |Räikkönen |1979-10-17|Finnish    |http://en.wikipedia.org/wiki/Kimi_R%C3%A4ikk%C3%B6nen   |Kimi Räikkönen   |\n",
      "|807     |337   |20336   |3            |10    |13  |14      |14          |14           |0     |48  |\\N         |\\N          |34        |15  |2:01.401      |186.789        |11      |2010|1    |3        |Bahrain Grand Prix   |2010-03-14|12:00:00|http://en.wikipedia.org/wiki/2010_Bahrain_Grand_Prix   |121401          |99950.12087912088 |101186.46511627907|1236        |0:01.236|hulkenberg |27    |HUL |Nico     |Hülkenberg|1987-08-19|German     |http://en.wikipedia.org/wiki/Nico_H%C3%BClkenberg       |Nico Hülkenberg  |\n"
     ]
    },
    {
     "name": "stdout",
     "output_type": "stream",
     "text": [
      "|808     |337   |20343   |4            |12    |17  |\\N      |R           |21           |0     |13  |\\N         |\\N          |7         |19  |2:04.307      |182.422        |22      |2010|1    |3        |Bahrain Grand Prix   |2010-03-14|12:00:00|http://en.wikipedia.org/wiki/2010_Bahrain_Grand_Prix   |124307          |99824.3275862069  |104645.06370656371|4820        |0:04.820|petrov     |\\N    |PET |Vitaly   |Petrov    |1984-09-08|Russian    |http://en.wikipedia.org/wiki/Vitaly_Petrov              |Vitaly Petrov    |\n",
      "|811     |337   |20341   |164          |21    |23  |\\N      |R           |19           |0     |17  |\\N         |\\N          |14        |22  |2:09.127      |175.613        |25      |2010|1    |3        |Bahrain Grand Prix   |2010-03-14|12:00:00|http://en.wikipedia.org/wiki/2010_Bahrain_Grand_Prix   |129127          |103025.67391304347|103420.51043643264|394         |0:00.394|bruno_senna|\\N    |SEN |Bruno    |Senna     |1983-10-15|Brazilian  |http://en.wikipedia.org/wiki/Bruno_Senna                |Bruno Senna      |\n",
      "|818     |860   |21242   |5            |17    |11  |11      |11          |11           |0     |58  |+39.848    |5689413     |52        |6   |1:30.274      |211.476        |1       |2012|1    |1        |Australian Grand Prix|2012-03-18|06:00:00|http://en.wikipedia.org/wiki/2012_Australian_Grand_Prix|90274           |95279.53448275862 |101920.84160305343|6641        |0:06.641|vergne     |25    |VER |Jean-Éric|Vergne    |1990-04-25|French     |http://en.wikipedia.org/wiki/Jean-%C3%89ric_Vergne      |Jean-Éric Vergne |\n",
      "|819     |860   |21246   |206          |25    |21  |15      |15          |15           |0     |53  |\\N         |\\N          |45        |20  |1:35.011      |200.932        |15      |2012|1    |1        |Australian Grand Prix|2012-03-18|06:00:00|http://en.wikipedia.org/wiki/2012_Australian_Grand_Prix|95011           |96774.38461538461 |104612.66698113208|7838        |0:07.838|pic        |\\N    |PIC |Charles  |Pic       |1990-02-15|French     |http://en.wikipedia.org/wiki/Charles_Pic                |Charles Pic      |\n",
      "+--------+------+--------+-------------+------+----+--------+------------+-------------+------+----+-----------+------------+----------+----+--------------+---------------+--------+----+-----+---------+---------------------+----------+--------+-------------------------------------------------------+----------------+------------------+------------------+------------+--------+-----------+------+----+---------+----------+----------+-----------+--------------------------------------------------------+-----------------+\n",
      "\n"
     ]
    }
   ],
   "source": [
    "queryConsistencia(races,lap_times,drivers,results).show(30,false)"
   ]
  },
  {
   "cell_type": "code",
   "execution_count": 12,
   "id": "2baf0938",
   "metadata": {},
   "outputs": [],
   "source": [
    "// mostConsistentDriver.collect"
   ]
  },
  {
   "cell_type": "code",
   "execution_count": 13,
   "id": "011347e7",
   "metadata": {
    "scrolled": true
   },
   "outputs": [
    {
     "data": {
      "text/plain": [
       "defined \u001b[32mfunction\u001b[39m \u001b[36mrun\u001b[39m\n",
       "defined \u001b[32mfunction\u001b[39m \u001b[36maverage\u001b[39m\n",
       "defined \u001b[32mfunction\u001b[39m \u001b[36mtimeTest\u001b[39m\n",
       "\u001b[36mres\u001b[39m: \u001b[32mLong\u001b[39m = \u001b[32m1032L\u001b[39m"
      ]
     },
     "execution_count": 13,
     "metadata": {},
     "output_type": "execute_result"
    }
   ],
   "source": [
    "def run[A](code: => A): Long = {\n",
    "    val start = System.currentTimeMillis()\n",
    "    val res = code\n",
    "    System.currentTimeMillis() - start\n",
    "}\n",
    "\n",
    "def average(list: List[Long]):Long = list.sum / list.size.toLong\n",
    "\n",
    "def timeTest(f: => Long): Long = {\n",
    "    val list = (1 to 1).map(_ => f).toList\n",
    "    average(list)\n",
    "}\n",
    "\n",
    "val res = timeTest(run(mostConsistentDriver.collect))"
   ]
  },
  {
   "cell_type": "code",
   "execution_count": null,
   "id": "31e02092",
   "metadata": {},
   "outputs": [],
   "source": []
  },
  {
   "cell_type": "code",
   "execution_count": null,
   "id": "9dbf9253",
   "metadata": {},
   "outputs": [],
   "source": []
  },
  {
   "cell_type": "code",
   "execution_count": null,
   "id": "e7bf7360",
   "metadata": {},
   "outputs": [],
   "source": []
  },
  {
   "cell_type": "code",
   "execution_count": null,
   "id": "0a8b9edc",
   "metadata": {},
   "outputs": [],
   "source": []
  }
 ],
 "metadata": {
  "kernelspec": {
   "display_name": "Scala (2.12)",
   "language": "scala",
   "name": "scala212"
  },
  "language_info": {
   "codemirror_mode": "text/x-scala",
   "file_extension": ".sc",
   "mimetype": "text/x-scala",
   "name": "scala",
   "nbconvert_exporter": "script",
   "version": "2.12.12"
  }
 },
 "nbformat": 4,
 "nbformat_minor": 5
}
