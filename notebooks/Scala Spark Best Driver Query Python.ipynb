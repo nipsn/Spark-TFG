{
 "cells": [
  {
   "cell_type": "code",
   "execution_count": 1,
   "id": "2ede4cc9",
   "metadata": {},
   "outputs": [],
   "source": [
    "from pyspark.sql import SparkSession\n",
    "from pyspark.sql import functions as F\n",
    "from pyspark.sql import types as T\n",
    "from pyspark.sql import Window"
   ]
  },
  {
   "cell_type": "code",
   "execution_count": 2,
   "id": "455d314e",
   "metadata": {},
   "outputs": [
    {
     "name": "stderr",
     "output_type": "stream",
     "text": [
      "Using Spark's default log4j profile: org/apache/spark/log4j-defaults.properties\n",
      "Setting default log level to \"WARN\".\n",
      "To adjust logging level use sc.setLogLevel(newLevel). For SparkR, use setLogLevel(newLevel).\n",
      "22/02/13 20:24:57 WARN NativeCodeLoader: Unable to load native-hadoop library for your platform... using builtin-java classes where applicable\n",
      "22/02/13 20:24:57 WARN Utils: Service 'SparkUI' could not bind on port 4040. Attempting port 4041.\n"
     ]
    }
   ],
   "source": [
    "spark = SparkSession.builder\\\n",
    "      .config(\"spark.sql.shuffle.partitions\", 64)\\\n",
    "      .master(\"local[*]\")\\\n",
    "      .getOrCreate()"
   ]
  },
  {
   "cell_type": "code",
   "execution_count": 3,
   "id": "e2be4ff4",
   "metadata": {},
   "outputs": [],
   "source": [
    "races = spark.read.format(\"csv\")\\\n",
    "    .option(\"header\", \"true\")\\\n",
    "    .option(\"sep\", \",\")\\\n",
    "    .load(\"../data/races.csv\")\\\n",
    "    .select(\"raceId\", \"year\")"
   ]
  },
  {
   "cell_type": "code",
   "execution_count": 4,
   "id": "85191fcf",
   "metadata": {},
   "outputs": [],
   "source": [
    "driverInfo = spark.read.format(\"csv\")\\\n",
    "    .option(\"header\", \"true\")\\\n",
    "    .option(\"sep\", \",\")\\\n",
    "    .load(\"../data/drivers.csv\")\\\n",
    "    .select(F.col(\"driverId\"),\n",
    "        F.concat(F.col(\"forename\"), F.lit(\" \"), F.col(\"surname\")).alias(\"fullName\"))"
   ]
  },
  {
   "cell_type": "code",
   "execution_count": 5,
   "id": "68c3af81",
   "metadata": {},
   "outputs": [],
   "source": [
    "raceDriverLapWindow = Window.partitionBy(\"driverId\", \"raceId\").orderBy(\"lap\")\n",
    "driverWindow = Window.partitionBy(\"driverId\")\n",
    "seasonWindow = Window.partitionBy(\"year\")"
   ]
  },
  {
   "cell_type": "code",
   "execution_count": 6,
   "id": "9365db4c",
   "metadata": {},
   "outputs": [],
   "source": [
    "lastRaces = spark.read.format(\"csv\")\\\n",
    "    .option(\"header\", \"true\")\\\n",
    "    .option(\"sep\", \",\")\\\n",
    "    .load(\"../data/races.csv\")\\\n",
    "    .withColumn(\"round\", F.col(\"round\").cast(T.IntegerType()))\\\n",
    "    .withColumn(\"max\", F.max(F.col(\"round\")).over(Window.partitionBy(\"year\")))\\\n",
    "    .where(F.col(\"round\") == F.col(\"max\"))\\\n",
    "    .select(\"raceId\", \"year\")"
   ]
  },
  {
   "cell_type": "code",
   "execution_count": 7,
   "id": "295fc145",
   "metadata": {},
   "outputs": [],
   "source": [
    "driverConstSeasonMap = spark.read.format(\"csv\")\\\n",
    "    .option(\"header\", \"true\")\\\n",
    "    .option(\"sep\", \",\")\\\n",
    "    .load(\"../data/drivers_constr_season.csv\")"
   ]
  },
  {
   "cell_type": "code",
   "execution_count": 8,
   "id": "ce3f4611",
   "metadata": {},
   "outputs": [],
   "source": [
    "teammateWindow = Window.partitionBy(\"year\", \"constructorId\")"
   ]
  },
  {
   "cell_type": "code",
   "execution_count": 9,
   "id": "693e15ce",
   "metadata": {},
   "outputs": [],
   "source": [
    "driverDomination = spark.read.format(\"csv\")\\\n",
    "    .option(\"header\", \"true\")\\\n",
    "    .option(\"sep\", \",\")\\\n",
    "    .load(\"../data/driver_standings.csv\")\\\n",
    "    .join(lastRaces, [\"raceId\"], \"right\")\\\n",
    "    .join(driverConstSeasonMap, [\"driverId\", \"year\"], \"left\")\\\n",
    "    .withColumn(\"teamPointsPerc\", F.col(\"points\") / F.sum(F.col(\"points\")).over(teammateWindow))\\\n",
    "    .withColumn(\"bestOfTeam\", F.max(F.col(\"teamPointsPerc\")).over(teammateWindow))\\\n",
    "    .withColumn(\"dominatedTeammate\", F.when(F.col(\"teamPointsPerc\") == F.col(\"bestOfTeam\"), 1).otherwise(0))\\\n",
    "    .withColumn(\"dominationPerc\", F.round(F.sum(F.col(\"dominatedTeammate\")).over(driverWindow) / F.count(F.col(\"year\")).over(driverWindow) * 100, 2))\\\n",
    "    .withColumn(\"totalSeasons\", F.count(F.col(\"year\")).over(driverWindow))\\\n",
    "    .where(F.col(\"totalSeasons\") > 4)\\\n",
    "    .select(\"year\", \"driverId\", \"dominatedTeammate\", \"dominationPerc\")"
   ]
  },
  {
   "cell_type": "code",
   "execution_count": 10,
   "id": "40613725",
   "metadata": {},
   "outputs": [],
   "source": [
    "driverFilter = spark.read.format(\"csv\")\\\n",
    "    .option(\"header\", \"true\")\\\n",
    "    .option(\"sep\", \",\")\\\n",
    "    .load(\"../data/results.csv\")\\\n",
    "    .withColumn(\"finished\", F.when(F.col(\"statusId\") == 1, 1).otherwise(0))\\\n",
    "    .withColumn(\"numberOfFinishes\", F.sum(F.col(\"finished\")).over(driverWindow))\\\n",
    "    .where(F.col(\"numberOfFinishes\") < 5)\\\n",
    "    .select(\"driverId\")\\\n",
    "    .distinct()"
   ]
  },
  {
   "cell_type": "code",
   "execution_count": 11,
   "id": "881b2f9e",
   "metadata": {},
   "outputs": [],
   "source": [
    "raceConstructorWindow = Window.partitionBy(\"raceId\", \"constructorId\")\n",
    "seasonConstructorWindow = Window.partitionBy(\"year\", \"constructorId\")\n",
    "driverSeasonWindow = Window.partitionBy(\"driverId\", \"year\")"
   ]
  },
  {
   "cell_type": "code",
   "execution_count": 12,
   "id": "5de8595c",
   "metadata": {},
   "outputs": [],
   "source": [
    "teammateComparison = spark.read.format(\"csv\")\\\n",
    "    .option(\"header\", \"true\")\\\n",
    "    .option(\"sep\", \",\")\\\n",
    "    .load(\"../data/results.csv\")\\\n",
    "    .join(driverFilter, [\"driverId\"], \"leftanti\")\\\n",
    "    .join(races, \"raceId\")\\\n",
    "    .withColumn(\"position\", F.col(\"position\").cast(T.IntegerType()))\\\n",
    "    .withColumn(\"grid\", F.col(\"grid\").cast(T.IntegerType()))\\\n",
    "    .na.fill({\"position\" : 100, \"grid\" : 100})\\\n",
    "    .withColumn(\"grid\", F.when(F.col(\"grid\") == 0, 100).otherwise(F.col(\"grid\")))\\\n",
    "    .withColumn(\"topPos\", F.min(F.col(\"position\")).over(raceConstructorWindow))\\\n",
    "    .withColumn(\"constructorBestPos\", F.when(F.col(\"topPos\") == F.col(\"position\"), 1).otherwise(0))\\\n",
    "    .withColumn(\"topPosPerc\", F.sum(F.col(\"constructorBestPos\")).over(driverSeasonWindow) / \n",
    "                F.count(F.col(\"raceId\")).over(driverSeasonWindow) * 100)\\\n",
    "    .withColumn(\"constTopPosPerc\", F.max(F.col(\"topPosPerc\")).over(seasonConstructorWindow))\\\n",
    "    .withColumn(\"driverDomConstPos\", F.when(F.col(\"constTopPosPerc\") == F.col(\"topPosPerc\"), 1).otherwise(0))\\\n",
    "    .withColumn(\"topGrid\", F.min(F.col(\"grid\")).over(raceConstructorWindow))\\\n",
    "    .withColumn(\"constructorBestGridPos\", F.when(F.col(\"topGrid\") == F.col(\"grid\"), 1).otherwise(0))\\\n",
    "    .withColumn(\"topGridPerc\", F.sum(F.col(\"constructorBestGridPos\")).over(driverSeasonWindow) / \n",
    "                F.count(F.col(\"raceId\")).over(driverSeasonWindow) * 100)\\\n",
    "    .withColumn(\"constTopGridPerc\", F.max(F.col(\"topGridPerc\")).over(seasonConstructorWindow))\\\n",
    "    .withColumn(\"driverDomConstGrid\", F.when(F.col(\"constTopGridPerc\") == F.col(\"topGridPerc\"), 1).otherwise(0))\\\n",
    "    .dropDuplicates([\"driverId\", \"year\"])\\\n",
    "    .withColumn(\"avgTopPosPerc\", F.avg(F.col(\"topPosPerc\")).over(driverWindow))\\\n",
    "    .withColumn(\"avgTopGridPerc\", F.avg(F.col(\"topGridPerc\")).over(driverWindow))\\\n",
    "    .withColumn(\"avgPosDom\", F.avg(F.col(\"driverDomConstPos\")).over(driverWindow))\\\n",
    "    .withColumn(\"avgGridDom\", F.avg(F.col(\"driverDomConstGrid\")).over(driverWindow))\\\n",
    "    .dropDuplicates([\"driverId\"])\\\n",
    "    .select(\"driverId\", \"avgTopPosPerc\", \"avgTopGridPerc\", \"avgPosDom\", \"avgGridDom\")"
   ]
  },
  {
   "cell_type": "code",
   "execution_count": 13,
   "id": "d37099ee",
   "metadata": {},
   "outputs": [],
   "source": [
    "def averageRank(cols):\n",
    "    return sum(cols) / len(cols)"
   ]
  },
  {
   "cell_type": "code",
   "execution_count": 18,
   "id": "59f46b13",
   "metadata": {},
   "outputs": [],
   "source": [
    "averageRank = F.udf(averageRank)"
   ]
  },
  {
   "cell_type": "markdown",
   "id": "3842c834",
   "metadata": {},
   "source": [
    "Usar la UDF definida arriba da resultados erróneos. Por ello se suman las columnas y se divide entre 3. Esto es menos flexible ya que si quisiera hacer la media del contenido de 6 columnas tendría que hacerlo a mano. Para solucionarlo también se puede castear la columna avgRank a Integer. Por defecto debe ser que las UDF devuelven un String en Python. Es importante establecer el tipo del output de la función."
   ]
  },
  {
   "cell_type": "code",
   "execution_count": 15,
   "id": "0071274c",
   "metadata": {},
   "outputs": [],
   "source": [
    "results = spark.read.format(\"csv\")\\\n",
    "    .option(\"header\", \"true\")\\\n",
    "    .option(\"sep\", \",\")\\\n",
    "    .load(\"../data/results.csv\")\\\n",
    "    .join(driverFilter, [\"driverId\"], \"leftanti\")\\\n",
    "    .join(races, \"raceId\")\\\n",
    "    .withColumn(\"grid\", F.col(\"grid\").cast(T.IntegerType()))\\\n",
    "    .withColumn(\"position\", F.col(\"position\").cast(T.IntegerType()))\\\n",
    "    .withColumn(\"firstRowStart\", F.when((F.col(\"grid\") == 1)  | (F.col(\"grid\") == 2), 1).otherwise(0))\\\n",
    "    .withColumn(\"firstRowChance\", F.round(F.sum(F.col(\"firstRowStart\")).over(driverWindow) / F.count(F.col(\"firstRowStart\")).over(driverWindow), 4) * 100)\\\n",
    "    .join(driverDomination, [\"driverId\", \"year\"], \"left\")\\\n",
    "    .join(teammateComparison, [\"driverId\"], \"left\")\\\n",
    "    .withColumn(\"avgGridStart\", F.round(F.avg(F.col(\"grid\")).over(driverWindow), 2))\\\n",
    "    .withColumn(\"avgFinish\", F.round(F.avg(F.col(\"position\")).over(driverWindow), 2))\\\n",
    "    .withColumn(\"pole\", F.when(F.col(\"grid\") == 1, 1).otherwise(0))\\\n",
    "    .withColumn(\"totalPolePositions\", F.sum(F.col(\"pole\")).over(driverWindow))\\\n",
    "    .withColumn(\"poleChance\", F.round(F.col(\"totalPolePositions\") / F.count(F.col(\"pole\")).over(driverWindow), 4) * 100)\\\n",
    "    .withColumn(\"polesPerSeason\", F.sum(F.col(\"pole\")).over(driverSeasonWindow))\\\n",
    "    .withColumn(\"poleChance\", F.round(F.col(\"totalPolePositions\") / F.count(F.col(\"raceId\")).over(driverWindow) * 100, 2))\\\n",
    "    .withColumn(\"hasPoleThisSeason\", F.when(F.col(\"polesPerSeason\") > 0, 1).otherwise(0))\\\n",
    "    .withColumn(\"percSeasonsWithPole\", F.round(F.sum(F.col(\"hasPoleThisSeason\")).over(driverWindow) / F.count(F.col(\"year\")).over(driverWindow), 4) * 100)\\\n",
    "    .withColumn(\"win\", F.when(F.col(\"position\") == 1, 1).otherwise(0))\\\n",
    "    .withColumn(\"totalVictories\", F.sum(F.col(\"win\")).over(driverWindow))\\\n",
    "    .withColumn(\"victoryChance\", F.round(F.col(\"totalVictories\") / F.count(F.col(\"win\")).over(driverWindow), 4) * 100)\\\n",
    "    .withColumn(\"winsPerSeason\", F.sum(F.col(\"win\")).over(driverSeasonWindow))\\\n",
    "    .withColumn(\"hasWonThisSeason\", F.when(F.col(\"winsPerSeason\") > 0, 1).otherwise(0))\\\n",
    "    .withColumn(\"percSeasonsWithWins\", F.round(F.sum(F.col(\"hasWonThisSeason\")).over(driverWindow) / F.count(F.col(\"year\")).over(driverWindow), 4) * 100)\\\n",
    "    .withColumn(\"podium\", F.when((F.col(\"position\") == 1) | (F.col(\"position\") == 2) | (F.col(\"position\") == 3), 1).otherwise(0))\\\n",
    "    .withColumn(\"podiumChance\", F.round(F.sum(F.col(\"podium\")).over(driverWindow) / F.count(F.col(\"podium\")).over(driverWindow), 4) * 100)\\\n",
    "    .dropDuplicates([\"driverId\"])\\\n",
    "    .select(\"driverId\", \"firstRowChance\", \"avgGridStart\", \"avgFinish\", \n",
    "            \"totalPolePositions\", \"poleChance\", \"percSeasonsWithPole\", \n",
    "            \"percSeasonsWithWins\", \"podiumChance\", \"dominationPerc\", \n",
    "            \"avgTopPosPerc\", \"avgTopGridPerc\", \"avgPosDom\", \"avgGridDom\")"
   ]
  },
  {
   "cell_type": "code",
   "execution_count": 19,
   "id": "8ecfb432",
   "metadata": {},
   "outputs": [
    {
     "name": "stderr",
     "output_type": "stream",
     "text": [
      "Traceback (most recent call last):\n",
      "  File \"/home/oscar/.local/lib/python3.10/site-packages/pyspark/serializers.py\", line 437, in dumps\n",
      "    return cloudpickle.dumps(obj, pickle_protocol)\n",
      "  File \"/home/oscar/.local/lib/python3.10/site-packages/pyspark/cloudpickle/cloudpickle_fast.py\", line 73, in dumps\n",
      "    cp.dump(obj)\n",
      "  File \"/home/oscar/.local/lib/python3.10/site-packages/pyspark/cloudpickle/cloudpickle_fast.py\", line 563, in dump\n",
      "    return Pickler.dump(self, obj)\n",
      "TypeError: cannot pickle '_thread.RLock' object\n"
     ]
    },
    {
     "ename": "PicklingError",
     "evalue": "Could not serialize object: TypeError: cannot pickle '_thread.RLock' object",
     "output_type": "error",
     "traceback": [
      "\u001b[0;31m---------------------------------------------------------------------------\u001b[0m",
      "\u001b[0;31mTypeError\u001b[0m                                 Traceback (most recent call last)",
      "File \u001b[0;32m~/.local/lib/python3.10/site-packages/pyspark/serializers.py:437\u001b[0m, in \u001b[0;36mCloudPickleSerializer.dumps\u001b[0;34m(self, obj)\u001b[0m\n\u001b[1;32m    436\u001b[0m \u001b[38;5;28;01mtry\u001b[39;00m:\n\u001b[0;32m--> 437\u001b[0m     \u001b[38;5;28;01mreturn\u001b[39;00m \u001b[43mcloudpickle\u001b[49m\u001b[38;5;241;43m.\u001b[39;49m\u001b[43mdumps\u001b[49m\u001b[43m(\u001b[49m\u001b[43mobj\u001b[49m\u001b[43m,\u001b[49m\u001b[43m \u001b[49m\u001b[43mpickle_protocol\u001b[49m\u001b[43m)\u001b[49m\n\u001b[1;32m    438\u001b[0m \u001b[38;5;28;01mexcept\u001b[39;00m pickle\u001b[38;5;241m.\u001b[39mPickleError:\n",
      "File \u001b[0;32m~/.local/lib/python3.10/site-packages/pyspark/cloudpickle/cloudpickle_fast.py:73\u001b[0m, in \u001b[0;36mdumps\u001b[0;34m(obj, protocol, buffer_callback)\u001b[0m\n\u001b[1;32m     70\u001b[0m cp \u001b[38;5;241m=\u001b[39m CloudPickler(\n\u001b[1;32m     71\u001b[0m     file, protocol\u001b[38;5;241m=\u001b[39mprotocol, buffer_callback\u001b[38;5;241m=\u001b[39mbuffer_callback\n\u001b[1;32m     72\u001b[0m )\n\u001b[0;32m---> 73\u001b[0m \u001b[43mcp\u001b[49m\u001b[38;5;241;43m.\u001b[39;49m\u001b[43mdump\u001b[49m\u001b[43m(\u001b[49m\u001b[43mobj\u001b[49m\u001b[43m)\u001b[49m\n\u001b[1;32m     74\u001b[0m \u001b[38;5;28;01mreturn\u001b[39;00m file\u001b[38;5;241m.\u001b[39mgetvalue()\n",
      "File \u001b[0;32m~/.local/lib/python3.10/site-packages/pyspark/cloudpickle/cloudpickle_fast.py:563\u001b[0m, in \u001b[0;36mCloudPickler.dump\u001b[0;34m(self, obj)\u001b[0m\n\u001b[1;32m    562\u001b[0m \u001b[38;5;28;01mtry\u001b[39;00m:\n\u001b[0;32m--> 563\u001b[0m     \u001b[38;5;28;01mreturn\u001b[39;00m \u001b[43mPickler\u001b[49m\u001b[38;5;241;43m.\u001b[39;49m\u001b[43mdump\u001b[49m\u001b[43m(\u001b[49m\u001b[38;5;28;43mself\u001b[39;49m\u001b[43m,\u001b[49m\u001b[43m \u001b[49m\u001b[43mobj\u001b[49m\u001b[43m)\u001b[49m\n\u001b[1;32m    564\u001b[0m \u001b[38;5;28;01mexcept\u001b[39;00m \u001b[38;5;167;01mRuntimeError\u001b[39;00m \u001b[38;5;28;01mas\u001b[39;00m e:\n",
      "\u001b[0;31mTypeError\u001b[0m: cannot pickle '_thread.RLock' object",
      "\nDuring handling of the above exception, another exception occurred:\n",
      "\u001b[0;31mPicklingError\u001b[0m                             Traceback (most recent call last)",
      "Input \u001b[0;32mIn [19]\u001b[0m, in \u001b[0;36m<module>\u001b[0;34m\u001b[0m\n\u001b[1;32m      1\u001b[0m results\\\n\u001b[1;32m      2\u001b[0m     \u001b[38;5;241m.\u001b[39mwithColumn(\u001b[38;5;124m\"\u001b[39m\u001b[38;5;124mrankFRC\u001b[39m\u001b[38;5;124m\"\u001b[39m, F\u001b[38;5;241m.\u001b[39mrank()\u001b[38;5;241m.\u001b[39mover(Window\u001b[38;5;241m.\u001b[39morderBy(F\u001b[38;5;241m.\u001b[39mcol(\u001b[38;5;124m\"\u001b[39m\u001b[38;5;124mfirstRowChance\u001b[39m\u001b[38;5;124m\"\u001b[39m)\u001b[38;5;241m.\u001b[39mdesc())))\\\n\u001b[1;32m      3\u001b[0m     \u001b[38;5;241m.\u001b[39mwithColumn(\u001b[38;5;124m\"\u001b[39m\u001b[38;5;124mrankAGS\u001b[39m\u001b[38;5;124m\"\u001b[39m, F\u001b[38;5;241m.\u001b[39mrank()\u001b[38;5;241m.\u001b[39mover(Window\u001b[38;5;241m.\u001b[39morderBy(F\u001b[38;5;241m.\u001b[39mcol(\u001b[38;5;124m\"\u001b[39m\u001b[38;5;124mavgGridStart\u001b[39m\u001b[38;5;124m\"\u001b[39m)\u001b[38;5;241m.\u001b[39masc())))\\\n\u001b[1;32m      4\u001b[0m     \u001b[38;5;241m.\u001b[39mwithColumn(\u001b[38;5;124m\"\u001b[39m\u001b[38;5;124mrankAF\u001b[39m\u001b[38;5;124m\"\u001b[39m, F\u001b[38;5;241m.\u001b[39mrank()\u001b[38;5;241m.\u001b[39mover(Window\u001b[38;5;241m.\u001b[39morderBy(F\u001b[38;5;241m.\u001b[39mcol(\u001b[38;5;124m\"\u001b[39m\u001b[38;5;124mavgFinish\u001b[39m\u001b[38;5;124m\"\u001b[39m)\u001b[38;5;241m.\u001b[39masc())))\\\n\u001b[1;32m      5\u001b[0m     \u001b[38;5;241m.\u001b[39mwithColumn(\u001b[38;5;124m\"\u001b[39m\u001b[38;5;124mrankTPP\u001b[39m\u001b[38;5;124m\"\u001b[39m, F\u001b[38;5;241m.\u001b[39mrank()\u001b[38;5;241m.\u001b[39mover(Window\u001b[38;5;241m.\u001b[39morderBy(F\u001b[38;5;241m.\u001b[39mcol(\u001b[38;5;124m\"\u001b[39m\u001b[38;5;124mtotalPolePositions\u001b[39m\u001b[38;5;124m\"\u001b[39m)\u001b[38;5;241m.\u001b[39mdesc())))\\\n\u001b[1;32m      6\u001b[0m     \u001b[38;5;241m.\u001b[39mwithColumn(\u001b[38;5;124m\"\u001b[39m\u001b[38;5;124mrankPSWP\u001b[39m\u001b[38;5;124m\"\u001b[39m, F\u001b[38;5;241m.\u001b[39mrank()\u001b[38;5;241m.\u001b[39mover(Window\u001b[38;5;241m.\u001b[39morderBy(F\u001b[38;5;241m.\u001b[39mcol(\u001b[38;5;124m\"\u001b[39m\u001b[38;5;124mpercSeasonsWithPole\u001b[39m\u001b[38;5;124m\"\u001b[39m)\u001b[38;5;241m.\u001b[39mdesc())))\\\n\u001b[1;32m      7\u001b[0m     \u001b[38;5;241m.\u001b[39mwithColumn(\u001b[38;5;124m\"\u001b[39m\u001b[38;5;124mrankPSWW\u001b[39m\u001b[38;5;124m\"\u001b[39m, F\u001b[38;5;241m.\u001b[39mrank()\u001b[38;5;241m.\u001b[39mover(Window\u001b[38;5;241m.\u001b[39morderBy(F\u001b[38;5;241m.\u001b[39mcol(\u001b[38;5;124m\"\u001b[39m\u001b[38;5;124mpercSeasonsWithWins\u001b[39m\u001b[38;5;124m\"\u001b[39m)\u001b[38;5;241m.\u001b[39mdesc())))\\\n\u001b[1;32m      8\u001b[0m     \u001b[38;5;241m.\u001b[39mwithColumn(\u001b[38;5;124m\"\u001b[39m\u001b[38;5;124mrankPC\u001b[39m\u001b[38;5;124m\"\u001b[39m, F\u001b[38;5;241m.\u001b[39mrank()\u001b[38;5;241m.\u001b[39mover(Window\u001b[38;5;241m.\u001b[39morderBy(F\u001b[38;5;241m.\u001b[39mcol(\u001b[38;5;124m\"\u001b[39m\u001b[38;5;124mpodiumChance\u001b[39m\u001b[38;5;124m\"\u001b[39m)\u001b[38;5;241m.\u001b[39mdesc())))\\\n\u001b[1;32m      9\u001b[0m     \u001b[38;5;241m.\u001b[39mwithColumn(\u001b[38;5;124m\"\u001b[39m\u001b[38;5;124mrankDom\u001b[39m\u001b[38;5;124m\"\u001b[39m, F\u001b[38;5;241m.\u001b[39mrank()\u001b[38;5;241m.\u001b[39mover(Window\u001b[38;5;241m.\u001b[39morderBy(F\u001b[38;5;241m.\u001b[39mcol(\u001b[38;5;124m\"\u001b[39m\u001b[38;5;124mdominationPerc\u001b[39m\u001b[38;5;124m\"\u001b[39m)\u001b[38;5;241m.\u001b[39mdesc())))\\\n\u001b[1;32m     10\u001b[0m     \u001b[38;5;241m.\u001b[39mwithColumn(\u001b[38;5;124m\"\u001b[39m\u001b[38;5;124mrankPoleC\u001b[39m\u001b[38;5;124m\"\u001b[39m, F\u001b[38;5;241m.\u001b[39mrank()\u001b[38;5;241m.\u001b[39mover(Window\u001b[38;5;241m.\u001b[39morderBy(F\u001b[38;5;241m.\u001b[39mcol(\u001b[38;5;124m\"\u001b[39m\u001b[38;5;124mpoleChance\u001b[39m\u001b[38;5;124m\"\u001b[39m)\u001b[38;5;241m.\u001b[39mdesc())))\\\n\u001b[1;32m     11\u001b[0m     \u001b[38;5;241m.\u001b[39mwithColumn(\u001b[38;5;124m\"\u001b[39m\u001b[38;5;124mrankPosPerc\u001b[39m\u001b[38;5;124m\"\u001b[39m, F\u001b[38;5;241m.\u001b[39mrank()\u001b[38;5;241m.\u001b[39mover(Window\u001b[38;5;241m.\u001b[39morderBy(F\u001b[38;5;241m.\u001b[39mcol(\u001b[38;5;124m\"\u001b[39m\u001b[38;5;124mavgTopPosPerc\u001b[39m\u001b[38;5;124m\"\u001b[39m)\u001b[38;5;241m.\u001b[39mdesc())))\\\n\u001b[1;32m     12\u001b[0m     \u001b[38;5;241m.\u001b[39mwithColumn(\u001b[38;5;124m\"\u001b[39m\u001b[38;5;124mrankGridPerc\u001b[39m\u001b[38;5;124m\"\u001b[39m, F\u001b[38;5;241m.\u001b[39mrank()\u001b[38;5;241m.\u001b[39mover(Window\u001b[38;5;241m.\u001b[39morderBy(F\u001b[38;5;241m.\u001b[39mcol(\u001b[38;5;124m\"\u001b[39m\u001b[38;5;124mavgTopGridPerc\u001b[39m\u001b[38;5;124m\"\u001b[39m)\u001b[38;5;241m.\u001b[39mdesc())))\\\n\u001b[1;32m     13\u001b[0m     \u001b[38;5;241m.\u001b[39mwithColumn(\u001b[38;5;124m\"\u001b[39m\u001b[38;5;124mrankPosDom\u001b[39m\u001b[38;5;124m\"\u001b[39m, F\u001b[38;5;241m.\u001b[39mrank()\u001b[38;5;241m.\u001b[39mover(Window\u001b[38;5;241m.\u001b[39morderBy(F\u001b[38;5;241m.\u001b[39mcol(\u001b[38;5;124m\"\u001b[39m\u001b[38;5;124mavgPosDom\u001b[39m\u001b[38;5;124m\"\u001b[39m)\u001b[38;5;241m.\u001b[39mdesc())))\\\n\u001b[1;32m     14\u001b[0m     \u001b[38;5;241m.\u001b[39mwithColumn(\u001b[38;5;124m\"\u001b[39m\u001b[38;5;124mrankGridDom\u001b[39m\u001b[38;5;124m\"\u001b[39m, F\u001b[38;5;241m.\u001b[39mrank()\u001b[38;5;241m.\u001b[39mover(Window\u001b[38;5;241m.\u001b[39morderBy(F\u001b[38;5;241m.\u001b[39mcol(\u001b[38;5;124m\"\u001b[39m\u001b[38;5;124mavgGridDom\u001b[39m\u001b[38;5;124m\"\u001b[39m)\u001b[38;5;241m.\u001b[39mdesc())))\\\n\u001b[0;32m---> 15\u001b[0m     \u001b[38;5;241m.\u001b[39mwithColumn(\u001b[38;5;124m\"\u001b[39m\u001b[38;5;124mstats\u001b[39m\u001b[38;5;124m\"\u001b[39m, \u001b[43maverageRank\u001b[49m\u001b[43m(\u001b[49m\n\u001b[1;32m     16\u001b[0m \u001b[43m        \u001b[49m\u001b[43mF\u001b[49m\u001b[38;5;241;43m.\u001b[39;49m\u001b[43marray\u001b[49m\u001b[43m(\u001b[49m\u001b[43mF\u001b[49m\u001b[38;5;241;43m.\u001b[39;49m\u001b[43mcol\u001b[49m\u001b[43m(\u001b[49m\u001b[38;5;124;43m\"\u001b[39;49m\u001b[38;5;124;43mrankFRC\u001b[39;49m\u001b[38;5;124;43m\"\u001b[39;49m\u001b[43m)\u001b[49m\u001b[43m,\u001b[49m\n\u001b[1;32m     17\u001b[0m \u001b[43m            \u001b[49m\u001b[43mF\u001b[49m\u001b[38;5;241;43m.\u001b[39;49m\u001b[43mcol\u001b[49m\u001b[43m(\u001b[49m\u001b[38;5;124;43m\"\u001b[39;49m\u001b[38;5;124;43mrankAGS\u001b[39;49m\u001b[38;5;124;43m\"\u001b[39;49m\u001b[43m)\u001b[49m\u001b[43m,\u001b[49m\n\u001b[1;32m     18\u001b[0m \u001b[43m            \u001b[49m\u001b[43mF\u001b[49m\u001b[38;5;241;43m.\u001b[39;49m\u001b[43mcol\u001b[49m\u001b[43m(\u001b[49m\u001b[38;5;124;43m\"\u001b[39;49m\u001b[38;5;124;43mrankAF\u001b[39;49m\u001b[38;5;124;43m\"\u001b[39;49m\u001b[43m)\u001b[49m\u001b[43m,\u001b[49m\n\u001b[1;32m     19\u001b[0m \u001b[43m            \u001b[49m\u001b[43mF\u001b[49m\u001b[38;5;241;43m.\u001b[39;49m\u001b[43mcol\u001b[49m\u001b[43m(\u001b[49m\u001b[38;5;124;43m\"\u001b[39;49m\u001b[38;5;124;43mrankTPP\u001b[39;49m\u001b[38;5;124;43m\"\u001b[39;49m\u001b[43m)\u001b[49m\u001b[43m,\u001b[49m\n\u001b[1;32m     20\u001b[0m \u001b[43m            \u001b[49m\u001b[43mF\u001b[49m\u001b[38;5;241;43m.\u001b[39;49m\u001b[43mcol\u001b[49m\u001b[43m(\u001b[49m\u001b[38;5;124;43m\"\u001b[39;49m\u001b[38;5;124;43mrankPSWP\u001b[39;49m\u001b[38;5;124;43m\"\u001b[39;49m\u001b[43m)\u001b[49m\u001b[43m,\u001b[49m\n\u001b[1;32m     21\u001b[0m \u001b[43m            \u001b[49m\u001b[43mF\u001b[49m\u001b[38;5;241;43m.\u001b[39;49m\u001b[43mcol\u001b[49m\u001b[43m(\u001b[49m\u001b[38;5;124;43m\"\u001b[39;49m\u001b[38;5;124;43mrankPSWW\u001b[39;49m\u001b[38;5;124;43m\"\u001b[39;49m\u001b[43m)\u001b[49m\u001b[43m,\u001b[49m\n\u001b[1;32m     22\u001b[0m \u001b[43m            \u001b[49m\u001b[43mF\u001b[49m\u001b[38;5;241;43m.\u001b[39;49m\u001b[43mcol\u001b[49m\u001b[43m(\u001b[49m\u001b[38;5;124;43m\"\u001b[39;49m\u001b[38;5;124;43mrankPC\u001b[39;49m\u001b[38;5;124;43m\"\u001b[39;49m\u001b[43m)\u001b[49m\u001b[43m,\u001b[49m\n\u001b[1;32m     23\u001b[0m \u001b[43m            \u001b[49m\u001b[43mF\u001b[49m\u001b[38;5;241;43m.\u001b[39;49m\u001b[43mcol\u001b[49m\u001b[43m(\u001b[49m\u001b[38;5;124;43m\"\u001b[39;49m\u001b[38;5;124;43mrankDom\u001b[39;49m\u001b[38;5;124;43m\"\u001b[39;49m\u001b[43m)\u001b[49m\u001b[43m,\u001b[49m\n\u001b[1;32m     24\u001b[0m \u001b[43m            \u001b[49m\u001b[43mF\u001b[49m\u001b[38;5;241;43m.\u001b[39;49m\u001b[43mcol\u001b[49m\u001b[43m(\u001b[49m\u001b[38;5;124;43m\"\u001b[39;49m\u001b[38;5;124;43mrankPoleC\u001b[39;49m\u001b[38;5;124;43m\"\u001b[39;49m\u001b[43m)\u001b[49m\u001b[43m,\u001b[49m\n\u001b[1;32m     25\u001b[0m \u001b[43m            \u001b[49m\u001b[43mF\u001b[49m\u001b[38;5;241;43m.\u001b[39;49m\u001b[43mcol\u001b[49m\u001b[43m(\u001b[49m\u001b[38;5;124;43m\"\u001b[39;49m\u001b[38;5;124;43mrankPosPerc\u001b[39;49m\u001b[38;5;124;43m\"\u001b[39;49m\u001b[43m)\u001b[49m\u001b[43m,\u001b[49m\n\u001b[1;32m     26\u001b[0m \u001b[43m            \u001b[49m\u001b[43mF\u001b[49m\u001b[38;5;241;43m.\u001b[39;49m\u001b[43mcol\u001b[49m\u001b[43m(\u001b[49m\u001b[38;5;124;43m\"\u001b[39;49m\u001b[38;5;124;43mrankGridPerc\u001b[39;49m\u001b[38;5;124;43m\"\u001b[39;49m\u001b[43m)\u001b[49m\u001b[43m,\u001b[49m\n\u001b[1;32m     27\u001b[0m \u001b[43m            \u001b[49m\u001b[43mF\u001b[49m\u001b[38;5;241;43m.\u001b[39;49m\u001b[43mcol\u001b[49m\u001b[43m(\u001b[49m\u001b[38;5;124;43m\"\u001b[39;49m\u001b[38;5;124;43mrankPosDom\u001b[39;49m\u001b[38;5;124;43m\"\u001b[39;49m\u001b[43m)\u001b[49m\u001b[43m,\u001b[49m\n\u001b[1;32m     28\u001b[0m \u001b[43m            \u001b[49m\u001b[43mF\u001b[49m\u001b[38;5;241;43m.\u001b[39;49m\u001b[43mcol\u001b[49m\u001b[43m(\u001b[49m\u001b[38;5;124;43m\"\u001b[39;49m\u001b[38;5;124;43mrankGridDom\u001b[39;49m\u001b[38;5;124;43m\"\u001b[39;49m\u001b[43m)\u001b[49m\n\u001b[1;32m     29\u001b[0m \u001b[43m           \u001b[49m\u001b[43m)\u001b[49m\n\u001b[1;32m     30\u001b[0m \u001b[43m    \u001b[49m\u001b[43m)\u001b[49m)\\\n\u001b[1;32m     31\u001b[0m     \u001b[38;5;241m.\u001b[39mwithColumn(\u001b[38;5;124m\"\u001b[39m\u001b[38;5;124mrank\u001b[39m\u001b[38;5;124m\"\u001b[39m, F\u001b[38;5;241m.\u001b[39mrank()\u001b[38;5;241m.\u001b[39mover(Window\u001b[38;5;241m.\u001b[39morderBy(F\u001b[38;5;241m.\u001b[39mcol(\u001b[38;5;124m\"\u001b[39m\u001b[38;5;124mstats\u001b[39m\u001b[38;5;124m\"\u001b[39m)\u001b[38;5;241m.\u001b[39masc())))\\\n\u001b[1;32m     32\u001b[0m     \u001b[38;5;241m.\u001b[39msort(F\u001b[38;5;241m.\u001b[39mcol(\u001b[38;5;124m\"\u001b[39m\u001b[38;5;124mrank\u001b[39m\u001b[38;5;124m\"\u001b[39m)\u001b[38;5;241m.\u001b[39masc())\\\n\u001b[1;32m     33\u001b[0m     \u001b[38;5;241m.\u001b[39mjoin(driverInfo, \u001b[38;5;124m\"\u001b[39m\u001b[38;5;124mdriverId\u001b[39m\u001b[38;5;124m\"\u001b[39m)\\\n\u001b[1;32m     34\u001b[0m     \u001b[38;5;241m.\u001b[39mshow(\u001b[38;5;241m30\u001b[39m)\n",
      "File \u001b[0;32m~/.local/lib/python3.10/site-packages/pyspark/sql/udf.py:199\u001b[0m, in \u001b[0;36mUserDefinedFunction._wrapped.<locals>.wrapper\u001b[0;34m(*args)\u001b[0m\n\u001b[1;32m    197\u001b[0m \u001b[38;5;129m@functools\u001b[39m\u001b[38;5;241m.\u001b[39mwraps(\u001b[38;5;28mself\u001b[39m\u001b[38;5;241m.\u001b[39mfunc, assigned\u001b[38;5;241m=\u001b[39massignments)\n\u001b[1;32m    198\u001b[0m \u001b[38;5;28;01mdef\u001b[39;00m \u001b[38;5;21mwrapper\u001b[39m(\u001b[38;5;241m*\u001b[39margs):\n\u001b[0;32m--> 199\u001b[0m     \u001b[38;5;28;01mreturn\u001b[39;00m \u001b[38;5;28;43mself\u001b[39;49m\u001b[43m(\u001b[49m\u001b[38;5;241;43m*\u001b[39;49m\u001b[43margs\u001b[49m\u001b[43m)\u001b[49m\n",
      "File \u001b[0;32m~/.local/lib/python3.10/site-packages/pyspark/sql/udf.py:177\u001b[0m, in \u001b[0;36mUserDefinedFunction.__call__\u001b[0;34m(self, *cols)\u001b[0m\n\u001b[1;32m    176\u001b[0m \u001b[38;5;28;01mdef\u001b[39;00m \u001b[38;5;21m__call__\u001b[39m(\u001b[38;5;28mself\u001b[39m, \u001b[38;5;241m*\u001b[39mcols):\n\u001b[0;32m--> 177\u001b[0m     judf \u001b[38;5;241m=\u001b[39m \u001b[38;5;28;43mself\u001b[39;49m\u001b[38;5;241;43m.\u001b[39;49m\u001b[43m_judf\u001b[49m\n\u001b[1;32m    178\u001b[0m     sc \u001b[38;5;241m=\u001b[39m SparkContext\u001b[38;5;241m.\u001b[39m_active_spark_context\n\u001b[1;32m    179\u001b[0m     \u001b[38;5;28;01mreturn\u001b[39;00m Column(judf\u001b[38;5;241m.\u001b[39mapply(_to_seq(sc, cols, _to_java_column)))\n",
      "File \u001b[0;32m~/.local/lib/python3.10/site-packages/pyspark/sql/udf.py:161\u001b[0m, in \u001b[0;36mUserDefinedFunction._judf\u001b[0;34m(self)\u001b[0m\n\u001b[1;32m    154\u001b[0m \u001b[38;5;129m@property\u001b[39m\n\u001b[1;32m    155\u001b[0m \u001b[38;5;28;01mdef\u001b[39;00m \u001b[38;5;21m_judf\u001b[39m(\u001b[38;5;28mself\u001b[39m):\n\u001b[1;32m    156\u001b[0m     \u001b[38;5;66;03m# It is possible that concurrent access, to newly created UDF,\u001b[39;00m\n\u001b[1;32m    157\u001b[0m     \u001b[38;5;66;03m# will initialize multiple UserDefinedPythonFunctions.\u001b[39;00m\n\u001b[1;32m    158\u001b[0m     \u001b[38;5;66;03m# This is unlikely, doesn't affect correctness,\u001b[39;00m\n\u001b[1;32m    159\u001b[0m     \u001b[38;5;66;03m# and should have a minimal performance impact.\u001b[39;00m\n\u001b[1;32m    160\u001b[0m     \u001b[38;5;28;01mif\u001b[39;00m \u001b[38;5;28mself\u001b[39m\u001b[38;5;241m.\u001b[39m_judf_placeholder \u001b[38;5;129;01mis\u001b[39;00m \u001b[38;5;28;01mNone\u001b[39;00m:\n\u001b[0;32m--> 161\u001b[0m         \u001b[38;5;28mself\u001b[39m\u001b[38;5;241m.\u001b[39m_judf_placeholder \u001b[38;5;241m=\u001b[39m \u001b[38;5;28;43mself\u001b[39;49m\u001b[38;5;241;43m.\u001b[39;49m\u001b[43m_create_judf\u001b[49m\u001b[43m(\u001b[49m\u001b[43m)\u001b[49m\n\u001b[1;32m    162\u001b[0m     \u001b[38;5;28;01mreturn\u001b[39;00m \u001b[38;5;28mself\u001b[39m\u001b[38;5;241m.\u001b[39m_judf_placeholder\n",
      "File \u001b[0;32m~/.local/lib/python3.10/site-packages/pyspark/sql/udf.py:170\u001b[0m, in \u001b[0;36mUserDefinedFunction._create_judf\u001b[0;34m(self)\u001b[0m\n\u001b[1;32m    167\u001b[0m spark \u001b[38;5;241m=\u001b[39m SparkSession\u001b[38;5;241m.\u001b[39mbuilder\u001b[38;5;241m.\u001b[39mgetOrCreate()\n\u001b[1;32m    168\u001b[0m sc \u001b[38;5;241m=\u001b[39m spark\u001b[38;5;241m.\u001b[39msparkContext\n\u001b[0;32m--> 170\u001b[0m wrapped_func \u001b[38;5;241m=\u001b[39m \u001b[43m_wrap_function\u001b[49m\u001b[43m(\u001b[49m\u001b[43msc\u001b[49m\u001b[43m,\u001b[49m\u001b[43m \u001b[49m\u001b[38;5;28;43mself\u001b[39;49m\u001b[38;5;241;43m.\u001b[39;49m\u001b[43mfunc\u001b[49m\u001b[43m,\u001b[49m\u001b[43m \u001b[49m\u001b[38;5;28;43mself\u001b[39;49m\u001b[38;5;241;43m.\u001b[39;49m\u001b[43mreturnType\u001b[49m\u001b[43m)\u001b[49m\n\u001b[1;32m    171\u001b[0m jdt \u001b[38;5;241m=\u001b[39m spark\u001b[38;5;241m.\u001b[39m_jsparkSession\u001b[38;5;241m.\u001b[39mparseDataType(\u001b[38;5;28mself\u001b[39m\u001b[38;5;241m.\u001b[39mreturnType\u001b[38;5;241m.\u001b[39mjson())\n\u001b[1;32m    172\u001b[0m judf \u001b[38;5;241m=\u001b[39m sc\u001b[38;5;241m.\u001b[39m_jvm\u001b[38;5;241m.\u001b[39morg\u001b[38;5;241m.\u001b[39mapache\u001b[38;5;241m.\u001b[39mspark\u001b[38;5;241m.\u001b[39msql\u001b[38;5;241m.\u001b[39mexecution\u001b[38;5;241m.\u001b[39mpython\u001b[38;5;241m.\u001b[39mUserDefinedPythonFunction(\n\u001b[1;32m    173\u001b[0m     \u001b[38;5;28mself\u001b[39m\u001b[38;5;241m.\u001b[39m_name, wrapped_func, jdt, \u001b[38;5;28mself\u001b[39m\u001b[38;5;241m.\u001b[39mevalType, \u001b[38;5;28mself\u001b[39m\u001b[38;5;241m.\u001b[39mdeterministic)\n",
      "File \u001b[0;32m~/.local/lib/python3.10/site-packages/pyspark/sql/udf.py:34\u001b[0m, in \u001b[0;36m_wrap_function\u001b[0;34m(sc, func, returnType)\u001b[0m\n\u001b[1;32m     32\u001b[0m \u001b[38;5;28;01mdef\u001b[39;00m \u001b[38;5;21m_wrap_function\u001b[39m(sc, func, returnType):\n\u001b[1;32m     33\u001b[0m     command \u001b[38;5;241m=\u001b[39m (func, returnType)\n\u001b[0;32m---> 34\u001b[0m     pickled_command, broadcast_vars, env, includes \u001b[38;5;241m=\u001b[39m \u001b[43m_prepare_for_python_RDD\u001b[49m\u001b[43m(\u001b[49m\u001b[43msc\u001b[49m\u001b[43m,\u001b[49m\u001b[43m \u001b[49m\u001b[43mcommand\u001b[49m\u001b[43m)\u001b[49m\n\u001b[1;32m     35\u001b[0m     \u001b[38;5;28;01mreturn\u001b[39;00m sc\u001b[38;5;241m.\u001b[39m_jvm\u001b[38;5;241m.\u001b[39mPythonFunction(\u001b[38;5;28mbytearray\u001b[39m(pickled_command), env, includes, sc\u001b[38;5;241m.\u001b[39mpythonExec,\n\u001b[1;32m     36\u001b[0m                                   sc\u001b[38;5;241m.\u001b[39mpythonVer, broadcast_vars, sc\u001b[38;5;241m.\u001b[39m_javaAccumulator)\n",
      "File \u001b[0;32m~/.local/lib/python3.10/site-packages/pyspark/rdd.py:2816\u001b[0m, in \u001b[0;36m_prepare_for_python_RDD\u001b[0;34m(sc, command)\u001b[0m\n\u001b[1;32m   2813\u001b[0m \u001b[38;5;28;01mdef\u001b[39;00m \u001b[38;5;21m_prepare_for_python_RDD\u001b[39m(sc, command):\n\u001b[1;32m   2814\u001b[0m     \u001b[38;5;66;03m# the serialized command will be compressed by broadcast\u001b[39;00m\n\u001b[1;32m   2815\u001b[0m     ser \u001b[38;5;241m=\u001b[39m CloudPickleSerializer()\n\u001b[0;32m-> 2816\u001b[0m     pickled_command \u001b[38;5;241m=\u001b[39m \u001b[43mser\u001b[49m\u001b[38;5;241;43m.\u001b[39;49m\u001b[43mdumps\u001b[49m\u001b[43m(\u001b[49m\u001b[43mcommand\u001b[49m\u001b[43m)\u001b[49m\n\u001b[1;32m   2817\u001b[0m     \u001b[38;5;28;01mif\u001b[39;00m \u001b[38;5;28mlen\u001b[39m(pickled_command) \u001b[38;5;241m>\u001b[39m sc\u001b[38;5;241m.\u001b[39m_jvm\u001b[38;5;241m.\u001b[39mPythonUtils\u001b[38;5;241m.\u001b[39mgetBroadcastThreshold(sc\u001b[38;5;241m.\u001b[39m_jsc):  \u001b[38;5;66;03m# Default 1M\u001b[39;00m\n\u001b[1;32m   2818\u001b[0m         \u001b[38;5;66;03m# The broadcast will have same life cycle as created PythonRDD\u001b[39;00m\n\u001b[1;32m   2819\u001b[0m         broadcast \u001b[38;5;241m=\u001b[39m sc\u001b[38;5;241m.\u001b[39mbroadcast(pickled_command)\n",
      "File \u001b[0;32m~/.local/lib/python3.10/site-packages/pyspark/serializers.py:447\u001b[0m, in \u001b[0;36mCloudPickleSerializer.dumps\u001b[0;34m(self, obj)\u001b[0m\n\u001b[1;32m    445\u001b[0m     msg \u001b[38;5;241m=\u001b[39m \u001b[38;5;124m\"\u001b[39m\u001b[38;5;124mCould not serialize object: \u001b[39m\u001b[38;5;132;01m%s\u001b[39;00m\u001b[38;5;124m: \u001b[39m\u001b[38;5;132;01m%s\u001b[39;00m\u001b[38;5;124m\"\u001b[39m \u001b[38;5;241m%\u001b[39m (e\u001b[38;5;241m.\u001b[39m\u001b[38;5;18m__class__\u001b[39m\u001b[38;5;241m.\u001b[39m\u001b[38;5;18m__name__\u001b[39m, emsg)\n\u001b[1;32m    446\u001b[0m print_exec(sys\u001b[38;5;241m.\u001b[39mstderr)\n\u001b[0;32m--> 447\u001b[0m \u001b[38;5;28;01mraise\u001b[39;00m pickle\u001b[38;5;241m.\u001b[39mPicklingError(msg)\n",
      "\u001b[0;31mPicklingError\u001b[0m: Could not serialize object: TypeError: cannot pickle '_thread.RLock' object"
     ]
    }
   ],
   "source": [
    "results\\\n",
    "    .withColumn(\"rankFRC\", F.rank().over(Window.orderBy(F.col(\"firstRowChance\").desc())))\\\n",
    "    .withColumn(\"rankAGS\", F.rank().over(Window.orderBy(F.col(\"avgGridStart\").asc())))\\\n",
    "    .withColumn(\"rankAF\", F.rank().over(Window.orderBy(F.col(\"avgFinish\").asc())))\\\n",
    "    .withColumn(\"rankTPP\", F.rank().over(Window.orderBy(F.col(\"totalPolePositions\").desc())))\\\n",
    "    .withColumn(\"rankPSWP\", F.rank().over(Window.orderBy(F.col(\"percSeasonsWithPole\").desc())))\\\n",
    "    .withColumn(\"rankPSWW\", F.rank().over(Window.orderBy(F.col(\"percSeasonsWithWins\").desc())))\\\n",
    "    .withColumn(\"rankPC\", F.rank().over(Window.orderBy(F.col(\"podiumChance\").desc())))\\\n",
    "    .withColumn(\"rankDom\", F.rank().over(Window.orderBy(F.col(\"dominationPerc\").desc())))\\\n",
    "    .withColumn(\"rankPoleC\", F.rank().over(Window.orderBy(F.col(\"poleChance\").desc())))\\\n",
    "    .withColumn(\"rankPosPerc\", F.rank().over(Window.orderBy(F.col(\"avgTopPosPerc\").desc())))\\\n",
    "    .withColumn(\"rankGridPerc\", F.rank().over(Window.orderBy(F.col(\"avgTopGridPerc\").desc())))\\\n",
    "    .withColumn(\"rankPosDom\", F.rank().over(Window.orderBy(F.col(\"avgPosDom\").desc())))\\\n",
    "    .withColumn(\"rankGridDom\", F.rank().over(Window.orderBy(F.col(\"avgGridDom\").desc())))\\\n",
    "    .withColumn(\"stats\", averageRank(\n",
    "        F.array(F.col(\"rankFRC\"),\n",
    "            F.col(\"rankAGS\"),\n",
    "            F.col(\"rankAF\"),\n",
    "            F.col(\"rankTPP\"),\n",
    "            F.col(\"rankPSWP\"),\n",
    "            F.col(\"rankPSWW\"),\n",
    "            F.col(\"rankPC\"),\n",
    "            F.col(\"rankDom\"),\n",
    "            F.col(\"rankPoleC\"),\n",
    "            F.col(\"rankPosPerc\"),\n",
    "            F.col(\"rankGridPerc\"),\n",
    "            F.col(\"rankPosDom\"),\n",
    "            F.col(\"rankGridDom\")\n",
    "           )\n",
    "    ))\\\n",
    "    .withColumn(\"rank\", F.rank().over(Window.orderBy(F.col(\"stats\").asc())))\\\n",
    "    .sort(F.col(\"rank\").asc())\\\n",
    "    .join(driverInfo, \"driverId\")\\\n",
    "    .show(30)"
   ]
  },
  {
   "cell_type": "code",
   "execution_count": null,
   "id": "e12a3d16",
   "metadata": {},
   "outputs": [],
   "source": []
  }
 ],
 "metadata": {
  "kernelspec": {
   "display_name": "Python 3 (ipykernel)",
   "language": "python",
   "name": "python3"
  },
  "language_info": {
   "codemirror_mode": {
    "name": "ipython",
    "version": 3
   },
   "file_extension": ".py",
   "mimetype": "text/x-python",
   "name": "python",
   "nbconvert_exporter": "python",
   "pygments_lexer": "ipython3",
   "version": "3.10.2"
  }
 },
 "nbformat": 4,
 "nbformat_minor": 5
}
