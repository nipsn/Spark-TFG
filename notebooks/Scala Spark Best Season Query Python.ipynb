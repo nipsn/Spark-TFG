{
 "cells": [
  {
   "cell_type": "code",
   "execution_count": 2,
   "id": "2ede4cc9",
   "metadata": {},
   "outputs": [],
   "source": [
    "from pyspark.sql import SparkSession\n",
    "from pyspark.sql import functions as F\n",
    "from pyspark.sql import types as T\n",
    "from pyspark.sql import Window"
   ]
  },
  {
   "cell_type": "code",
   "execution_count": 3,
   "id": "455d314e",
   "metadata": {},
   "outputs": [
    {
     "name": "stderr",
     "output_type": "stream",
     "text": [
      "Using Spark's default log4j profile: org/apache/spark/log4j-defaults.properties\n",
      "Setting default log level to \"WARN\".\n",
      "To adjust logging level use sc.setLogLevel(newLevel). For SparkR, use setLogLevel(newLevel).\n",
      "22/02/15 09:35:47 WARN NativeCodeLoader: Unable to load native-hadoop library for your platform... using builtin-java classes where applicable\n"
     ]
    }
   ],
   "source": [
    "spark = SparkSession.builder\\\n",
    "      .config(\"spark.sql.shuffle.partitions\", 64)\\\n",
    "      .master(\"local[*]\")\\\n",
    "      .getOrCreate()"
   ]
  },
  {
   "cell_type": "code",
   "execution_count": 4,
   "id": "e2be4ff4",
   "metadata": {},
   "outputs": [],
   "source": [
    "races = spark.read.format(\"csv\")\\\n",
    "    .option(\"header\", \"true\")\\\n",
    "    .option(\"sep\", \",\")\\\n",
    "    .load(\"../data/races.csv\")\\\n",
    "    .select(\"raceId\", \"year\")"
   ]
  },
  {
   "cell_type": "code",
   "execution_count": 5,
   "id": "68c3af81",
   "metadata": {},
   "outputs": [],
   "source": [
    "seasonWindow = Window.partitionBy(\"year\")\n",
    "driverRaceWindow = Window.partitionBy(\"driverId\", \"raceId\")\n",
    "raceDriverLapWindow = Window.partitionBy(\"driverId\", \"raceId\").orderBy(\"lap\")"
   ]
  },
  {
   "cell_type": "code",
   "execution_count": 11,
   "id": "08228f70",
   "metadata": {},
   "outputs": [],
   "source": [
    "overtakes2 = spark.read.format(\"csv\")\\\n",
    "    .option(\"header\", \"true\")\\\n",
    "    .option(\"sep\", \",\")\\\n",
    "    .load(\"../data/lap_times.csv\")\\\n",
    "    .withColumn(\"position\", F.col(\"position\").cast(T.IntegerType()))\\\n",
    "    .withColumn(\"lap\", F.col(\"lap\").cast(T.IntegerType()))\\\n",
    "    .join(races, \"raceId\")\\\n",
    "    .withColumn(\"positionNextLap\", F.lead(F.col(\"position\"), 1).over(raceDriverLapWindow))\\\n",
    "    .withColumn(\"positionsGainedLap\", F.when(F.col(\"positionNextLap\") < F.col(\"position\") , F.abs(F.col(\"position\") - F.col(\"positionNextLap\"))).otherwise(0))\\\n",
    "    .groupBy(\"year\")\\\n",
    "    .agg(F.sum(F.col(\"positionsGainedLap\")).alias(\"positionsGainedSeason\"))\\\n",
    "    .withColumn(\"rankPositionsGained\", F.rank().over(Window.orderBy(F.col(\"positionsGainedSeason\").desc())))"
   ]
  },
  {
   "cell_type": "code",
   "execution_count": 9,
   "id": "295fc145",
   "metadata": {},
   "outputs": [],
   "source": [
    "leadersTroughoutSeason = spark.read.format(\"csv\")\\\n",
    "    .option(\"header\", \"true\")\\\n",
    "    .option(\"sep\", \",\")\\\n",
    "    .load(\"../data/driver_standings.csv\")\\\n",
    "    .join(races, \"raceId\")\\\n",
    "    .where(F.col(\"position\") == 1)\\\n",
    "    .dropDuplicates([\"driverId\", \"position\", \"year\"])\\\n",
    "    .groupBy(\"year\")\\\n",
    "    .agg(F.approx_count_distinct(F.col(\"driverId\")).alias(\"distinctLeaders\"))\\\n",
    "    .withColumn(\"rankDistinctLeaders\", F.rank().over(Window.orderBy(F.col(\"distinctLeaders\").desc())))"
   ]
  },
  {
   "cell_type": "code",
   "execution_count": 10,
   "id": "e81c29e9",
   "metadata": {},
   "outputs": [],
   "source": [
    "winnersTroughoutSeason = spark.read.format(\"csv\")\\\n",
    "    .option(\"header\", \"true\")\\\n",
    "    .option(\"sep\", \",\")\\\n",
    "    .load(\"../data/results.csv\")\\\n",
    "    .join(races, \"raceId\")\\\n",
    "    .where(F.col(\"position\") == 1)\\\n",
    "    .dropDuplicates([\"driverId\", \"position\", \"year\"])\\\n",
    "    .groupBy(\"year\")\\\n",
    "    .agg(F.approx_count_distinct(F.col(\"driverId\")).alias(\"distinctWinners\"))\\\n",
    "    .withColumn(\"rankDistinctWinners\", F.rank().over(Window.orderBy(F.col(\"distinctWinners\").desc())))"
   ]
  },
  {
   "cell_type": "code",
   "execution_count": 12,
   "id": "d37099ee",
   "metadata": {},
   "outputs": [],
   "source": [
    "def averageRank(cols):\n",
    "    return sum(cols) / len(cols)"
   ]
  },
  {
   "cell_type": "code",
   "execution_count": 13,
   "id": "59f46b13",
   "metadata": {},
   "outputs": [],
   "source": [
    "averageRank = F.udf(averageRank, T.IntegerType())"
   ]
  },
  {
   "cell_type": "markdown",
   "id": "3842c834",
   "metadata": {},
   "source": [
    "Usar la UDF definida arriba da resultados erróneos. Por ello se suman las columnas y se divide entre 3. Esto es menos flexible ya que si quisiera hacer la media del contenido de 6 columnas tendría que hacerlo a mano. Para solucionarlo también se puede castear la columna avgRank a Integer. Por defecto debe ser que las UDF devuelven un String en Python. Es importante establecer el tipo del output de la función."
   ]
  },
  {
   "cell_type": "code",
   "execution_count": 15,
   "id": "7552edd6",
   "metadata": {},
   "outputs": [
    {
     "name": "stderr",
     "output_type": "stream",
     "text": [
      "22/02/13 16:16:25 WARN WindowExec: No Partition Defined for Window operation! Moving all data to a single partition, this can cause serious performance degradation.\n",
      "22/02/13 16:16:25 WARN WindowExec: No Partition Defined for Window operation! Moving all data to a single partition, this can cause serious performance degradation.\n",
      "22/02/13 16:16:25 WARN WindowExec: No Partition Defined for Window operation! Moving all data to a single partition, this can cause serious performance degradation.\n",
      "22/02/13 16:16:25 WARN WindowExec: No Partition Defined for Window operation! Moving all data to a single partition, this can cause serious performance degradation.\n",
      "22/02/13 16:16:25 WARN WindowExec: No Partition Defined for Window operation! Moving all data to a single partition, this can cause serious performance degradation.\n",
      "22/02/13 16:16:25 WARN WindowExec: No Partition Defined for Window operation! Moving all data to a single partition, this can cause serious performance degradation.\n",
      "22/02/13 16:16:25 WARN WindowExec: No Partition Defined for Window operation! Moving all data to a single partition, this can cause serious performance degradation.\n",
      "22/02/13 16:16:25 WARN WindowExec: No Partition Defined for Window operation! Moving all data to a single partition, this can cause serious performance degradation.\n",
      "22/02/13 16:16:25 WARN WindowExec: No Partition Defined for Window operation! Moving all data to a single partition, this can cause serious performance degradation.\n",
      "22/02/13 16:16:25 WARN WindowExec: No Partition Defined for Window operation! Moving all data to a single partition, this can cause serious performance degradation.\n",
      "22/02/13 16:16:25 WARN WindowExec: No Partition Defined for Window operation! Moving all data to a single partition, this can cause serious performance degradation.\n",
      "22/02/13 16:16:25 WARN WindowExec: No Partition Defined for Window operation! Moving all data to a single partition, this can cause serious performance degradation.\n",
      "22/02/13 16:16:25 WARN WindowExec: No Partition Defined for Window operation! Moving all data to a single partition, this can cause serious performance degradation.\n",
      "22/02/13 16:16:25 WARN WindowExec: No Partition Defined for Window operation! Moving all data to a single partition, this can cause serious performance degradation.\n",
      "22/02/13 16:16:25 WARN WindowExec: No Partition Defined for Window operation! Moving all data to a single partition, this can cause serious performance degradation.\n",
      "22/02/13 16:16:25 WARN WindowExec: No Partition Defined for Window operation! Moving all data to a single partition, this can cause serious performance degradation.\n",
      "22/02/13 16:16:25 WARN WindowExec: No Partition Defined for Window operation! Moving all data to a single partition, this can cause serious performance degradation.\n",
      "22/02/13 16:16:26 WARN WindowExec: No Partition Defined for Window operation! Moving all data to a single partition, this can cause serious performance degradation.\n",
      "22/02/13 16:16:26 WARN WindowExec: No Partition Defined for Window operation! Moving all data to a single partition, this can cause serious performance degradation.\n",
      "22/02/13 16:16:26 WARN WindowExec: No Partition Defined for Window operation! Moving all data to a single partition, this can cause serious performance degradation.\n",
      "22/02/13 16:16:26 WARN WindowExec: No Partition Defined for Window operation! Moving all data to a single partition, this can cause serious performance degradation.\n",
      "22/02/13 16:16:26 WARN WindowExec: No Partition Defined for Window operation! Moving all data to a single partition, this can cause serious performance degradation.\n",
      "22/02/13 16:16:26 WARN WindowExec: No Partition Defined for Window operation! Moving all data to a single partition, this can cause serious performance degradation.\n",
      "22/02/13 16:16:26 WARN WindowExec: No Partition Defined for Window operation! Moving all data to a single partition, this can cause serious performance degradation.\n",
      "22/02/13 16:16:26 WARN WindowExec: No Partition Defined for Window operation! Moving all data to a single partition, this can cause serious performance degradation.\n",
      "22/02/13 16:16:26 WARN WindowExec: No Partition Defined for Window operation! Moving all data to a single partition, this can cause serious performance degradation.\n",
      "22/02/13 16:16:26 WARN WindowExec: No Partition Defined for Window operation! Moving all data to a single partition, this can cause serious performance degradation.\n",
      "22/02/13 16:16:26 WARN WindowExec: No Partition Defined for Window operation! Moving all data to a single partition, this can cause serious performance degradation.\n",
      "22/02/13 16:16:26 WARN WindowExec: No Partition Defined for Window operation! Moving all data to a single partition, this can cause serious performance degradation.\n",
      "22/02/13 16:16:26 WARN WindowExec: No Partition Defined for Window operation! Moving all data to a single partition, this can cause serious performance degradation.\n",
      "22/02/13 16:16:26 WARN WindowExec: No Partition Defined for Window operation! Moving all data to a single partition, this can cause serious performance degradation.\n",
      "22/02/13 16:16:26 WARN WindowExec: No Partition Defined for Window operation! Moving all data to a single partition, this can cause serious performance degradation.\n",
      "22/02/13 16:16:26 WARN WindowExec: No Partition Defined for Window operation! Moving all data to a single partition, this can cause serious performance degradation.\n",
      "22/02/13 16:16:26 WARN WindowExec: No Partition Defined for Window operation! Moving all data to a single partition, this can cause serious performance degradation.\n",
      "22/02/13 16:16:26 WARN WindowExec: No Partition Defined for Window operation! Moving all data to a single partition, this can cause serious performance degradation.\n",
      "22/02/13 16:16:26 WARN WindowExec: No Partition Defined for Window operation! Moving all data to a single partition, this can cause serious performance degradation.\n",
      "22/02/13 16:16:26 WARN WindowExec: No Partition Defined for Window operation! Moving all data to a single partition, this can cause serious performance degradation.\n",
      "22/02/13 16:16:26 WARN WindowExec: No Partition Defined for Window operation! Moving all data to a single partition, this can cause serious performance degradation.\n",
      "22/02/13 16:16:26 WARN WindowExec: No Partition Defined for Window operation! Moving all data to a single partition, this can cause serious performance degradation.\n",
      "22/02/13 16:16:26 WARN WindowExec: No Partition Defined for Window operation! Moving all data to a single partition, this can cause serious performance degradation.\n",
      "22/02/13 16:16:26 WARN WindowExec: No Partition Defined for Window operation! Moving all data to a single partition, this can cause serious performance degradation.\n",
      "22/02/13 16:16:26 WARN WindowExec: No Partition Defined for Window operation! Moving all data to a single partition, this can cause serious performance degradation.\n",
      "22/02/13 16:16:26 WARN WindowExec: No Partition Defined for Window operation! Moving all data to a single partition, this can cause serious performance degradation.\n",
      "22/02/13 16:16:26 WARN WindowExec: No Partition Defined for Window operation! Moving all data to a single partition, this can cause serious performance degradation.\n",
      "22/02/13 16:16:26 WARN WindowExec: No Partition Defined for Window operation! Moving all data to a single partition, this can cause serious performance degradation.\n"
     ]
    },
    {
     "name": "stdout",
     "output_type": "stream",
     "text": [
      "+----+---------------------+---------------+---------------+-----------+\n",
      "|year|positionsGainedSeason|distinctLeaders|distinctWinners|overallRank|\n",
      "+----+---------------------+---------------+---------------+-----------+\n",
      "|2012|                 5077|              4|              8|          1|\n",
      "|2013|                 4697|              2|              5|          1|\n",
      "|2011|                 4627|              1|              5|          1|\n",
      "|2016|                 4613|              2|              4|          1|\n",
      "|2014|                 3873|              2|              3|          1|\n",
      "|2019|                 3201|              2|              5|          1|\n",
      "|2004|                 3194|              1|              5|          1|\n",
      "|2008|                 3123|              4|              7|          1|\n",
      "|2007|                 2974|              3|              4|          1|\n",
      "|2003|                 2955|              3|              8|          1|\n",
      "|2021|                 2901|              2|              6|          1|\n",
      "|2009|                 2768|              1|              6|          1|\n",
      "|2015|                 2747|              1|              3|          1|\n",
      "|2010|                 2747|              6|              5|          1|\n",
      "|2000|                 2744|              2|              4|          1|\n",
      "|2018|                 2692|              2|              5|          1|\n",
      "|1997|                 2642|              3|              6|          1|\n",
      "|2020|                 2612|              2|              5|          1|\n",
      "|2006|                 2524|              2|              5|          1|\n",
      "|2005|                 2325|              2|              5|          1|\n",
      "+----+---------------------+---------------+---------------+-----------+\n",
      "only showing top 20 rows\n",
      "\n"
     ]
    },
    {
     "name": "stderr",
     "output_type": "stream",
     "text": [
      "22/02/13 16:16:27 WARN WindowExec: No Partition Defined for Window operation! Moving all data to a single partition, this can cause serious performance degradation.\n"
     ]
    }
   ],
   "source": [
    "overtakes\\\n",
    "    .join(leadersTroughoutSeason, \"year\", \"inner\")\\\n",
    "    .join(winnersTroughoutSeason, \"year\", \"inner\")\\\n",
    "    .withColumn(\"avgRank\", averageRank(F.array(F.col(\"rankDistinctWinners\"), F.col(\"rankDistinctLeaders\"), F.col(\"rankPositionsGained\"))))\\\n",
    "    .withColumn(\"overallRank\", F.rank().over(Window.orderBy(\"avgRank\")))\\\n",
    "    .drop(\"rankDistinctWinners\", \"rankDistinctLeaders\", \"rankPositionsGained\", \"avgRank\")\\\n",
    "    .sort(\"overallRank\")\\\n",
    "    .show()"
   ]
  },
  {
   "cell_type": "code",
   "execution_count": null,
   "id": "0071274c",
   "metadata": {},
   "outputs": [],
   "source": []
  }
 ],
 "metadata": {
  "kernelspec": {
   "display_name": "Python 3 (ipykernel)",
   "language": "python",
   "name": "python3"
  },
  "language_info": {
   "codemirror_mode": {
    "name": "ipython",
    "version": 3
   },
   "file_extension": ".py",
   "mimetype": "text/x-python",
   "name": "python",
   "nbconvert_exporter": "python",
   "pygments_lexer": "ipython3",
   "version": "3.10.2"
  }
 },
 "nbformat": 4,
 "nbformat_minor": 5
}
