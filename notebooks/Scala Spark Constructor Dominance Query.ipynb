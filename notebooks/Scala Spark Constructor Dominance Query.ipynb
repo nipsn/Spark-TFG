{
 "cells": [
  {
   "cell_type": "code",
   "execution_count": 1,
   "id": "cc90d563",
   "metadata": {
    "scrolled": false
   },
   "outputs": [
    {
     "name": "stdout",
     "output_type": "stream",
     "text": [
      "Loading spark-stubs\n",
      "Getting spark JARs\n"
     ]
    },
    {
     "name": "stderr",
     "output_type": "stream",
     "text": [
      "log4j:WARN No appenders could be found for logger (org.eclipse.jetty.util.log).\n",
      "log4j:WARN Please initialize the log4j system properly.\n",
      "log4j:WARN See http://logging.apache.org/log4j/1.2/faq.html#noconfig for more info.\n"
     ]
    },
    {
     "name": "stdout",
     "output_type": "stream",
     "text": [
      "Creating SparkSession\n"
     ]
    },
    {
     "name": "stderr",
     "output_type": "stream",
     "text": [
      "Using Spark's default log4j profile: org/apache/spark/log4j-defaults.properties\n",
      "21/11/19 15:31:26 INFO SparkContext: Running Spark version 2.4.3\n",
      "21/11/19 15:31:26 WARN NativeCodeLoader: Unable to load native-hadoop library for your platform... using builtin-java classes where applicable\n",
      "21/11/19 15:31:26 INFO SparkContext: Submitted application: b866361d-c36a-4a74-a2cd-0fd98b511ffe\n",
      "21/11/19 15:31:26 INFO SecurityManager: Changing view acls to: oscar\n",
      "21/11/19 15:31:26 INFO SecurityManager: Changing modify acls to: oscar\n",
      "21/11/19 15:31:26 INFO SecurityManager: Changing view acls groups to: \n",
      "21/11/19 15:31:26 INFO SecurityManager: Changing modify acls groups to: \n",
      "21/11/19 15:31:26 INFO SecurityManager: SecurityManager: authentication disabled; ui acls disabled; users  with view permissions: Set(oscar); groups with view permissions: Set(); users  with modify permissions: Set(oscar); groups with modify permissions: Set()\n",
      "21/11/19 15:31:26 INFO Utils: Successfully started service 'sparkDriver' on port 43715.\n",
      "21/11/19 15:31:26 INFO SparkEnv: Registering MapOutputTracker\n",
      "21/11/19 15:31:26 INFO SparkEnv: Registering BlockManagerMaster\n",
      "21/11/19 15:31:26 INFO BlockManagerMasterEndpoint: Using org.apache.spark.storage.DefaultTopologyMapper for getting topology information\n",
      "21/11/19 15:31:26 INFO BlockManagerMasterEndpoint: BlockManagerMasterEndpoint up\n",
      "21/11/19 15:31:27 INFO DiskBlockManager: Created local directory at /tmp/blockmgr-6bfeb3d3-431b-4a19-b475-77e45046dca9\n",
      "21/11/19 15:31:27 INFO MemoryStore: MemoryStore started with capacity 1956.6 MB\n",
      "21/11/19 15:31:27 INFO SparkEnv: Registering OutputCommitCoordinator\n",
      "21/11/19 15:31:27 INFO Utils: Successfully started service 'SparkUI' on port 4040.\n",
      "21/11/19 15:31:27 INFO SparkUI: Bound SparkUI to 0.0.0.0, and started at http://netrunner:4040\n",
      "21/11/19 15:31:27 INFO SparkContext: Added JAR file:/home/oscar/.cache/coursier/v1/https/jitpack.io/com/github/jupyter/jvm-repr/0.4.0/jvm-repr-0.4.0-sources.jar at spark://netrunner:43715/jars/jvm-repr-0.4.0-sources.jar with timestamp 1637332287260\n",
      "21/11/19 15:31:27 INFO SparkContext: Added JAR file:/home/oscar/.cache/coursier/v1/https/jitpack.io/com/github/jupyter/jvm-repr/0.4.0/jvm-repr-0.4.0.jar at spark://netrunner:43715/jars/jvm-repr-0.4.0.jar with timestamp 1637332287261\n",
      "21/11/19 15:31:27 INFO SparkContext: Added JAR file:/home/oscar/.cache/coursier/v1/https/repo1.maven.org/maven2/com/github/javaparser/javaparser-core/3.2.5/javaparser-core-3.2.5-sources.jar at spark://netrunner:43715/jars/javaparser-core-3.2.5-sources.jar with timestamp 1637332287261\n",
      "21/11/19 15:31:27 INFO SparkContext: Added JAR file:/home/oscar/.cache/coursier/v1/https/repo1.maven.org/maven2/com/github/javaparser/javaparser-core/3.2.5/javaparser-core-3.2.5.jar at spark://netrunner:43715/jars/javaparser-core-3.2.5.jar with timestamp 1637332287261\n",
      "21/11/19 15:31:27 INFO SparkContext: Added JAR file:/home/oscar/.cache/coursier/v1/https/repo1.maven.org/maven2/com/lihaoyi/ammonite-compiler-interface_2.12/2.3.8-36-1cce53f3/ammonite-compiler-interface_2.12-2.3.8-36-1cce53f3-sources.jar at spark://netrunner:43715/jars/ammonite-compiler-interface_2.12-2.3.8-36-1cce53f3-sources.jar with timestamp 1637332287262\n",
      "21/11/19 15:31:27 INFO SparkContext: Added JAR file:/home/oscar/.cache/coursier/v1/https/repo1.maven.org/maven2/com/lihaoyi/ammonite-compiler-interface_2.12/2.3.8-36-1cce53f3/ammonite-compiler-interface_2.12-2.3.8-36-1cce53f3.jar at spark://netrunner:43715/jars/ammonite-compiler-interface_2.12-2.3.8-36-1cce53f3.jar with timestamp 1637332287262\n",
      "21/11/19 15:31:27 INFO SparkContext: Added JAR file:/home/oscar/.cache/coursier/v1/https/repo1.maven.org/maven2/com/lihaoyi/ammonite-compiler_2.12.12/2.3.8-36-1cce53f3/ammonite-compiler_2.12.12-2.3.8-36-1cce53f3-sources.jar at spark://netrunner:43715/jars/ammonite-compiler_2.12.12-2.3.8-36-1cce53f3-sources.jar with timestamp 1637332287262\n",
      "21/11/19 15:31:27 INFO SparkContext: Added JAR file:/home/oscar/.cache/coursier/v1/https/repo1.maven.org/maven2/com/lihaoyi/ammonite-compiler_2.12.12/2.3.8-36-1cce53f3/ammonite-compiler_2.12.12-2.3.8-36-1cce53f3.jar at spark://netrunner:43715/jars/ammonite-compiler_2.12.12-2.3.8-36-1cce53f3.jar with timestamp 1637332287262\n",
      "21/11/19 15:31:27 INFO SparkContext: Added JAR file:/home/oscar/.cache/coursier/v1/https/repo1.maven.org/maven2/com/lihaoyi/ammonite-interp-api_2.12.12/2.3.8-36-1cce53f3/ammonite-interp-api_2.12.12-2.3.8-36-1cce53f3-sources.jar at spark://netrunner:43715/jars/ammonite-interp-api_2.12.12-2.3.8-36-1cce53f3-sources.jar with timestamp 1637332287262\n",
      "21/11/19 15:31:27 INFO SparkContext: Added JAR file:/home/oscar/.cache/coursier/v1/https/repo1.maven.org/maven2/com/lihaoyi/ammonite-interp-api_2.12.12/2.3.8-36-1cce53f3/ammonite-interp-api_2.12.12-2.3.8-36-1cce53f3.jar at spark://netrunner:43715/jars/ammonite-interp-api_2.12.12-2.3.8-36-1cce53f3.jar with timestamp 1637332287263\n",
      "21/11/19 15:31:27 INFO SparkContext: Added JAR file:/home/oscar/.cache/coursier/v1/https/repo1.maven.org/maven2/com/lihaoyi/ammonite-ops_2.12/2.3.8-36-1cce53f3/ammonite-ops_2.12-2.3.8-36-1cce53f3-sources.jar at spark://netrunner:43715/jars/ammonite-ops_2.12-2.3.8-36-1cce53f3-sources.jar with timestamp 1637332287263\n",
      "21/11/19 15:31:27 INFO SparkContext: Added JAR file:/home/oscar/.cache/coursier/v1/https/repo1.maven.org/maven2/com/lihaoyi/ammonite-ops_2.12/2.3.8-36-1cce53f3/ammonite-ops_2.12-2.3.8-36-1cce53f3.jar at spark://netrunner:43715/jars/ammonite-ops_2.12-2.3.8-36-1cce53f3.jar with timestamp 1637332287263\n",
      "21/11/19 15:31:27 INFO SparkContext: Added JAR file:/home/oscar/.cache/coursier/v1/https/repo1.maven.org/maven2/com/lihaoyi/ammonite-repl-api_2.12.12/2.3.8-36-1cce53f3/ammonite-repl-api_2.12.12-2.3.8-36-1cce53f3-sources.jar at spark://netrunner:43715/jars/ammonite-repl-api_2.12.12-2.3.8-36-1cce53f3-sources.jar with timestamp 1637332287263\n",
      "21/11/19 15:31:27 INFO SparkContext: Added JAR file:/home/oscar/.cache/coursier/v1/https/repo1.maven.org/maven2/com/lihaoyi/ammonite-repl-api_2.12.12/2.3.8-36-1cce53f3/ammonite-repl-api_2.12.12-2.3.8-36-1cce53f3.jar at spark://netrunner:43715/jars/ammonite-repl-api_2.12.12-2.3.8-36-1cce53f3.jar with timestamp 1637332287263\n",
      "21/11/19 15:31:27 INFO SparkContext: Added JAR file:/home/oscar/.cache/coursier/v1/https/repo1.maven.org/maven2/com/lihaoyi/ammonite-util_2.12/2.3.8-36-1cce53f3/ammonite-util_2.12-2.3.8-36-1cce53f3-sources.jar at spark://netrunner:43715/jars/ammonite-util_2.12-2.3.8-36-1cce53f3-sources.jar with timestamp 1637332287264\n",
      "21/11/19 15:31:27 INFO SparkContext: Added JAR file:/home/oscar/.cache/coursier/v1/https/repo1.maven.org/maven2/com/lihaoyi/ammonite-util_2.12/2.3.8-36-1cce53f3/ammonite-util_2.12-2.3.8-36-1cce53f3.jar at spark://netrunner:43715/jars/ammonite-util_2.12-2.3.8-36-1cce53f3.jar with timestamp 1637332287264\n",
      "21/11/19 15:31:27 INFO SparkContext: Added JAR file:/home/oscar/.cache/coursier/v1/https/repo1.maven.org/maven2/com/lihaoyi/fansi_2.12/0.2.9/fansi_2.12-0.2.9-sources.jar at spark://netrunner:43715/jars/fansi_2.12-0.2.9-sources.jar with timestamp 1637332287264\n",
      "21/11/19 15:31:27 INFO SparkContext: Added JAR file:/home/oscar/.cache/coursier/v1/https/repo1.maven.org/maven2/com/lihaoyi/fansi_2.12/0.2.9/fansi_2.12-0.2.9.jar at spark://netrunner:43715/jars/fansi_2.12-0.2.9.jar with timestamp 1637332287264\n",
      "21/11/19 15:31:27 INFO SparkContext: Added JAR file:/home/oscar/.cache/coursier/v1/https/repo1.maven.org/maven2/com/lihaoyi/fastparse_2.12/2.3.0/fastparse_2.12-2.3.0-sources.jar at spark://netrunner:43715/jars/fastparse_2.12-2.3.0-sources.jar with timestamp 1637332287264\n",
      "21/11/19 15:31:27 INFO SparkContext: Added JAR file:/home/oscar/.cache/coursier/v1/https/repo1.maven.org/maven2/com/lihaoyi/fastparse_2.12/2.3.0/fastparse_2.12-2.3.0.jar at spark://netrunner:43715/jars/fastparse_2.12-2.3.0.jar with timestamp 1637332287265\n",
      "21/11/19 15:31:27 INFO SparkContext: Added JAR file:/home/oscar/.cache/coursier/v1/https/repo1.maven.org/maven2/com/lihaoyi/geny_2.12/0.6.7/geny_2.12-0.6.7-sources.jar at spark://netrunner:43715/jars/geny_2.12-0.6.7-sources.jar with timestamp 1637332287265\n",
      "21/11/19 15:31:27 INFO SparkContext: Added JAR file:/home/oscar/.cache/coursier/v1/https/repo1.maven.org/maven2/com/lihaoyi/geny_2.12/0.6.7/geny_2.12-0.6.7.jar at spark://netrunner:43715/jars/geny_2.12-0.6.7.jar with timestamp 1637332287265\n"
     ]
    },
    {
     "name": "stderr",
     "output_type": "stream",
     "text": [
      "21/11/19 15:31:27 INFO SparkContext: Added JAR file:/home/oscar/.cache/coursier/v1/https/repo1.maven.org/maven2/com/lihaoyi/mainargs_2.12/0.1.4/mainargs_2.12-0.1.4-sources.jar at spark://netrunner:43715/jars/mainargs_2.12-0.1.4-sources.jar with timestamp 1637332287265\n",
      "21/11/19 15:31:27 INFO SparkContext: Added JAR file:/home/oscar/.cache/coursier/v1/https/repo1.maven.org/maven2/com/lihaoyi/mainargs_2.12/0.1.4/mainargs_2.12-0.1.4.jar at spark://netrunner:43715/jars/mainargs_2.12-0.1.4.jar with timestamp 1637332287265\n",
      "21/11/19 15:31:27 INFO SparkContext: Added JAR file:/home/oscar/.cache/coursier/v1/https/repo1.maven.org/maven2/com/lihaoyi/os-lib_2.12/0.7.1/os-lib_2.12-0.7.1-sources.jar at spark://netrunner:43715/jars/os-lib_2.12-0.7.1-sources.jar with timestamp 1637332287266\n",
      "21/11/19 15:31:27 INFO SparkContext: Added JAR file:/home/oscar/.cache/coursier/v1/https/repo1.maven.org/maven2/com/lihaoyi/os-lib_2.12/0.7.1/os-lib_2.12-0.7.1.jar at spark://netrunner:43715/jars/os-lib_2.12-0.7.1.jar with timestamp 1637332287266\n",
      "21/11/19 15:31:27 INFO SparkContext: Added JAR file:/home/oscar/.cache/coursier/v1/https/repo1.maven.org/maven2/com/lihaoyi/pprint_2.12/0.6.0/pprint_2.12-0.6.0-sources.jar at spark://netrunner:43715/jars/pprint_2.12-0.6.0-sources.jar with timestamp 1637332287266\n",
      "21/11/19 15:31:27 INFO SparkContext: Added JAR file:/home/oscar/.cache/coursier/v1/https/repo1.maven.org/maven2/com/lihaoyi/pprint_2.12/0.6.0/pprint_2.12-0.6.0.jar at spark://netrunner:43715/jars/pprint_2.12-0.6.0.jar with timestamp 1637332287266\n",
      "21/11/19 15:31:27 INFO SparkContext: Added JAR file:/home/oscar/.cache/coursier/v1/https/repo1.maven.org/maven2/com/lihaoyi/scalaparse_2.12/2.3.0/scalaparse_2.12-2.3.0-sources.jar at spark://netrunner:43715/jars/scalaparse_2.12-2.3.0-sources.jar with timestamp 1637332287266\n",
      "21/11/19 15:31:27 INFO SparkContext: Added JAR file:/home/oscar/.cache/coursier/v1/https/repo1.maven.org/maven2/com/lihaoyi/scalaparse_2.12/2.3.0/scalaparse_2.12-2.3.0.jar at spark://netrunner:43715/jars/scalaparse_2.12-2.3.0.jar with timestamp 1637332287267\n",
      "21/11/19 15:31:27 INFO SparkContext: Added JAR file:/home/oscar/.cache/coursier/v1/https/repo1.maven.org/maven2/com/lihaoyi/sourcecode_2.12/0.2.3/sourcecode_2.12-0.2.3-sources.jar at spark://netrunner:43715/jars/sourcecode_2.12-0.2.3-sources.jar with timestamp 1637332287267\n",
      "21/11/19 15:31:27 INFO SparkContext: Added JAR file:/home/oscar/.cache/coursier/v1/https/repo1.maven.org/maven2/com/lihaoyi/sourcecode_2.12/0.2.3/sourcecode_2.12-0.2.3.jar at spark://netrunner:43715/jars/sourcecode_2.12-0.2.3.jar with timestamp 1637332287267\n",
      "21/11/19 15:31:27 INFO SparkContext: Added JAR file:/home/oscar/.cache/coursier/v1/https/repo1.maven.org/maven2/io/get-coursier/interface/1.0.3/interface-1.0.3-sources.jar at spark://netrunner:43715/jars/interface-1.0.3-sources.jar with timestamp 1637332287267\n",
      "21/11/19 15:31:27 INFO SparkContext: Added JAR file:/home/oscar/.cache/coursier/v1/https/repo1.maven.org/maven2/io/get-coursier/interface/1.0.3/interface-1.0.3.jar at spark://netrunner:43715/jars/interface-1.0.3.jar with timestamp 1637332287268\n",
      "21/11/19 15:31:27 INFO SparkContext: Added JAR file:/home/oscar/.cache/coursier/v1/https/repo1.maven.org/maven2/org/javassist/javassist/3.21.0-GA/javassist-3.21.0-GA-sources.jar at spark://netrunner:43715/jars/javassist-3.21.0-GA-sources.jar with timestamp 1637332287268\n",
      "21/11/19 15:31:27 INFO SparkContext: Added JAR file:/home/oscar/.cache/coursier/v1/https/repo1.maven.org/maven2/org/javassist/javassist/3.21.0-GA/javassist-3.21.0-GA.jar at spark://netrunner:43715/jars/javassist-3.21.0-GA.jar with timestamp 1637332287268\n",
      "21/11/19 15:31:27 INFO SparkContext: Added JAR file:/home/oscar/.cache/coursier/v1/https/repo1.maven.org/maven2/org/scala-lang/modules/scala-collection-compat_2.12/2.4.3/scala-collection-compat_2.12-2.4.3-sources.jar at spark://netrunner:43715/jars/scala-collection-compat_2.12-2.4.3-sources.jar with timestamp 1637332287268\n",
      "21/11/19 15:31:27 INFO SparkContext: Added JAR file:/home/oscar/.cache/coursier/v1/https/repo1.maven.org/maven2/org/scala-lang/modules/scala-collection-compat_2.12/2.4.3/scala-collection-compat_2.12-2.4.3.jar at spark://netrunner:43715/jars/scala-collection-compat_2.12-2.4.3.jar with timestamp 1637332287268\n",
      "21/11/19 15:31:27 INFO SparkContext: Added JAR file:/home/oscar/.cache/coursier/v1/https/repo1.maven.org/maven2/org/scala-lang/modules/scala-xml_2.12/2.0.0-M3/scala-xml_2.12-2.0.0-M3-sources.jar at spark://netrunner:43715/jars/scala-xml_2.12-2.0.0-M3-sources.jar with timestamp 1637332287269\n",
      "21/11/19 15:31:27 INFO SparkContext: Added JAR file:/home/oscar/.cache/coursier/v1/https/repo1.maven.org/maven2/org/scala-lang/modules/scala-xml_2.12/2.0.0-M3/scala-xml_2.12-2.0.0-M3.jar at spark://netrunner:43715/jars/scala-xml_2.12-2.0.0-M3.jar with timestamp 1637332287269\n",
      "21/11/19 15:31:27 INFO SparkContext: Added JAR file:/home/oscar/.cache/coursier/v1/https/repo1.maven.org/maven2/org/scala-lang/scala-compiler/2.12.12/scala-compiler-2.12.12-sources.jar at spark://netrunner:43715/jars/scala-compiler-2.12.12-sources.jar with timestamp 1637332287269\n",
      "21/11/19 15:31:27 INFO SparkContext: Added JAR file:/home/oscar/.cache/coursier/v1/https/repo1.maven.org/maven2/org/scala-lang/scala-library/2.12.12/scala-library-2.12.12-sources.jar at spark://netrunner:43715/jars/scala-library-2.12.12-sources.jar with timestamp 1637332287269\n",
      "21/11/19 15:31:27 INFO SparkContext: Added JAR file:/home/oscar/.cache/coursier/v1/https/repo1.maven.org/maven2/org/scala-lang/scala-reflect/2.12.12/scala-reflect-2.12.12-sources.jar at spark://netrunner:43715/jars/scala-reflect-2.12.12-sources.jar with timestamp 1637332287270\n",
      "21/11/19 15:31:27 INFO SparkContext: Added JAR file:/home/oscar/.cache/coursier/v1/https/repo1.maven.org/maven2/sh/almond/interpreter-api_2.12/0.11.2/interpreter-api_2.12-0.11.2-sources.jar at spark://netrunner:43715/jars/interpreter-api_2.12-0.11.2-sources.jar with timestamp 1637332287270\n",
      "21/11/19 15:31:27 INFO SparkContext: Added JAR file:/home/oscar/.cache/coursier/v1/https/repo1.maven.org/maven2/sh/almond/interpreter-api_2.12/0.11.2/interpreter-api_2.12-0.11.2.jar at spark://netrunner:43715/jars/interpreter-api_2.12-0.11.2.jar with timestamp 1637332287270\n",
      "21/11/19 15:31:27 INFO SparkContext: Added JAR file:/home/oscar/.cache/coursier/v1/https/repo1.maven.org/maven2/sh/almond/jupyter-api_2.12/0.11.2/jupyter-api_2.12-0.11.2-sources.jar at spark://netrunner:43715/jars/jupyter-api_2.12-0.11.2-sources.jar with timestamp 1637332287270\n",
      "21/11/19 15:31:27 INFO SparkContext: Added JAR file:/home/oscar/.cache/coursier/v1/https/repo1.maven.org/maven2/sh/almond/jupyter-api_2.12/0.11.2/jupyter-api_2.12-0.11.2.jar at spark://netrunner:43715/jars/jupyter-api_2.12-0.11.2.jar with timestamp 1637332287271\n",
      "21/11/19 15:31:27 INFO SparkContext: Added JAR file:/home/oscar/.cache/coursier/v1/https/repo1.maven.org/maven2/sh/almond/scala-kernel-api_2.12.12/0.11.2/scala-kernel-api_2.12.12-0.11.2-sources.jar at spark://netrunner:43715/jars/scala-kernel-api_2.12.12-0.11.2-sources.jar with timestamp 1637332287271\n",
      "21/11/19 15:31:27 INFO SparkContext: Added JAR file:/home/oscar/.cache/coursier/v1/https/repo1.maven.org/maven2/sh/almond/scala-kernel-api_2.12.12/0.11.2/scala-kernel-api_2.12.12-0.11.2.jar at spark://netrunner:43715/jars/scala-kernel-api_2.12.12-0.11.2.jar with timestamp 1637332287271\n",
      "21/11/19 15:31:27 INFO SparkContext: Added JAR file:/home/oscar/.local/share/jupyter/kernels/scala212/launcher.jar at spark://netrunner:43715/jars/launcher.jar with timestamp 1637332287271\n",
      "21/11/19 15:31:27 INFO SparkContext: Added JAR file:/home/oscar/.cache/coursier/v1/https/repo1.maven.org/maven2/org/scala-lang/scala-library/2.12.13/scala-library-2.12.13.jar at spark://netrunner:43715/jars/scala-library-2.12.13.jar with timestamp 1637332287271\n",
      "21/11/19 15:31:27 INFO SparkContext: Added JAR file:/home/oscar/.cache/coursier/v1/https/repo1.maven.org/maven2/sh/almond/almond-spark_2.12/0.6.0/almond-spark_2.12-0.6.0.jar at spark://netrunner:43715/jars/almond-spark_2.12-0.6.0.jar with timestamp 1637332287272\n",
      "21/11/19 15:31:27 INFO SparkContext: Added JAR file:/home/oscar/.cache/coursier/v1/https/repo1.maven.org/maven2/sh/almond/ammonite-spark_2.12/0.5.0/ammonite-spark_2.12-0.5.0.jar at spark://netrunner:43715/jars/ammonite-spark_2.12-0.5.0.jar with timestamp 1637332287272\n"
     ]
    },
    {
     "name": "stderr",
     "output_type": "stream",
     "text": [
      "21/11/19 15:31:27 INFO SparkContext: Added JAR file:/home/oscar/.cache/coursier/v1/https/repo1.maven.org/maven2/com/github/alexarchambault/argonaut-shapeless_6.2_2.12/1.2.0-M11/argonaut-shapeless_6.2_2.12-1.2.0-M11.jar at spark://netrunner:43715/jars/argonaut-shapeless_6.2_2.12-1.2.0-M11.jar with timestamp 1637332287272\n",
      "21/11/19 15:31:27 INFO SparkContext: Added JAR file:/home/oscar/.cache/coursier/v1/https/repo1.maven.org/maven2/org/eclipse/jetty/jetty-server/9.4.19.v20190610/jetty-server-9.4.19.v20190610.jar at spark://netrunner:43715/jars/jetty-server-9.4.19.v20190610.jar with timestamp 1637332287272\n",
      "21/11/19 15:31:27 INFO SparkContext: Added JAR file:/home/oscar/.cache/coursier/v1/https/repo1.maven.org/maven2/io/argonaut/argonaut_2.12/6.2.3/argonaut_2.12-6.2.3.jar at spark://netrunner:43715/jars/argonaut_2.12-6.2.3.jar with timestamp 1637332287273\n",
      "21/11/19 15:31:27 INFO SparkContext: Added JAR file:/home/oscar/.cache/coursier/v1/https/repo1.maven.org/maven2/com/chuusai/shapeless_2.12/2.3.3/shapeless_2.12-2.3.3.jar at spark://netrunner:43715/jars/shapeless_2.12-2.3.3.jar with timestamp 1637332287273\n",
      "21/11/19 15:31:27 INFO SparkContext: Added JAR file:/home/oscar/.cache/coursier/v1/https/repo1.maven.org/maven2/org/eclipse/jetty/jetty-http/9.4.19.v20190610/jetty-http-9.4.19.v20190610.jar at spark://netrunner:43715/jars/jetty-http-9.4.19.v20190610.jar with timestamp 1637332287273\n",
      "21/11/19 15:31:27 INFO SparkContext: Added JAR file:/home/oscar/.cache/coursier/v1/https/repo1.maven.org/maven2/org/eclipse/jetty/jetty-io/9.4.19.v20190610/jetty-io-9.4.19.v20190610.jar at spark://netrunner:43715/jars/jetty-io-9.4.19.v20190610.jar with timestamp 1637332287273\n",
      "21/11/19 15:31:27 INFO SparkContext: Added JAR file:/home/oscar/.cache/coursier/v1/https/repo1.maven.org/maven2/org/typelevel/macro-compat_2.12/1.1.1/macro-compat_2.12-1.1.1.jar at spark://netrunner:43715/jars/macro-compat_2.12-1.1.1.jar with timestamp 1637332287273\n",
      "21/11/19 15:31:27 INFO SparkContext: Added JAR file:/home/oscar/.cache/coursier/v1/https/repo1.maven.org/maven2/org/eclipse/jetty/jetty-util/9.4.19.v20190610/jetty-util-9.4.19.v20190610.jar at spark://netrunner:43715/jars/jetty-util-9.4.19.v20190610.jar with timestamp 1637332287274\n",
      "21/11/19 15:31:27 INFO Executor: Starting executor ID driver on host localhost\n",
      "21/11/19 15:31:27 INFO Executor: Using REPL class URI: http://192.168.1.228:36567\n",
      "21/11/19 15:31:27 INFO Utils: Successfully started service 'org.apache.spark.network.netty.NettyBlockTransferService' on port 35589.\n",
      "21/11/19 15:31:27 INFO NettyBlockTransferService: Server created on netrunner:35589\n",
      "21/11/19 15:31:27 INFO BlockManager: Using org.apache.spark.storage.RandomBlockReplicationPolicy for block replication policy\n",
      "21/11/19 15:31:27 INFO BlockManagerMaster: Registering BlockManager BlockManagerId(driver, netrunner, 35589, None)\n",
      "21/11/19 15:31:27 INFO BlockManagerMasterEndpoint: Registering block manager netrunner:35589 with 1956.6 MB RAM, BlockManagerId(driver, netrunner, 35589, None)\n",
      "21/11/19 15:31:27 INFO BlockManagerMaster: Registered BlockManager BlockManagerId(driver, netrunner, 35589, None)\n",
      "21/11/19 15:31:27 INFO BlockManager: Initialized BlockManager: BlockManagerId(driver, netrunner, 35589, None)\n"
     ]
    },
    {
     "data": {
      "text/html": [
       "<a target=\"_blank\" href=\"http://netrunner:4040\">Spark UI</a>"
      ]
     },
     "metadata": {},
     "output_type": "display_data"
    },
    {
     "data": {
      "text/plain": [
       "\u001b[32mimport \u001b[39m\u001b[36m$ivy.$                                   // Or use any other 2.x version here\n",
       "\u001b[39m\n",
       "\u001b[32mimport \u001b[39m\u001b[36m$ivy.$                              \n",
       "\n",
       "\u001b[39m\n",
       "\u001b[32mimport \u001b[39m\u001b[36morg.apache.spark._\n",
       "\u001b[39m\n",
       "\u001b[32mimport \u001b[39m\u001b[36morg.apache.spark.sql.{functions => func, _}\n",
       "\u001b[39m\n",
       "\u001b[32mimport \u001b[39m\u001b[36morg.apache.spark.sql.functions._\n",
       "\u001b[39m\n",
       "\u001b[32mimport \u001b[39m\u001b[36morg.apache.spark.sql.types._\n",
       "\n",
       "\u001b[39m\n",
       "\u001b[32mimport \u001b[39m\u001b[36morg.slf4j.LoggerFactory\n",
       "\u001b[39m\n",
       "\u001b[32mimport \u001b[39m\u001b[36morg.apache.log4j.{Level, Logger}\n",
       "\n",
       "\u001b[39m\n",
       "\u001b[36mspark\u001b[39m: \u001b[32mSparkSession\u001b[39m = org.apache.spark.sql.SparkSession@69736d30\n",
       "\u001b[32mimport \u001b[39m\u001b[36mspark.implicits._\n",
       "\n",
       "\u001b[39m\n",
       "defined \u001b[32mfunction\u001b[39m \u001b[36mrun\u001b[39m"
      ]
     },
     "execution_count": 1,
     "metadata": {},
     "output_type": "execute_result"
    }
   ],
   "source": [
    "import $ivy.`org.apache.spark::spark-sql:2.4.3` // Or use any other 2.x version here\n",
    "import $ivy.`sh.almond::almond-spark:0.6.0`\n",
    "\n",
    "import org.apache.spark._\n",
    "import org.apache.spark.sql.{functions => func, _}\n",
    "import org.apache.spark.sql.functions._\n",
    "import org.apache.spark.sql.types._\n",
    "\n",
    "import org.slf4j.LoggerFactory\n",
    "import org.apache.log4j.{Level, Logger}\n",
    "\n",
    "val spark = NotebookSparkSession\n",
    "      .builder()\n",
    "      .config(\"spark.sql.join.preferSortMergeJoin\", false)\n",
    "      .config(\"spark.sql.shuffle.partitions\", 64)\n",
    "      .master(\"local[*]\")\n",
    "      .getOrCreate()\n",
    "\n",
    "import spark.implicits._\n",
    "\n",
    "Logger.getRootLogger().setLevel(Level.ERROR)\n",
    "\n",
    "def run[A](code: => A): A = {\n",
    "    val start = System.currentTimeMillis()\n",
    "    val res = code\n",
    "    println(s\"Took ${System.currentTimeMillis() - start}\")\n",
    "    res\n",
    "}"
   ]
  },
  {
   "cell_type": "code",
   "execution_count": 2,
   "id": "8407a7f0",
   "metadata": {},
   "outputs": [
    {
     "data": {
      "text/plain": [
       "\u001b[32mimport \u001b[39m\u001b[36morg.apache.spark.sql.expressions.Window\u001b[39m"
      ]
     },
     "execution_count": 2,
     "metadata": {},
     "output_type": "execute_result"
    }
   ],
   "source": [
    "import org.apache.spark.sql.expressions.Window"
   ]
  },
  {
   "cell_type": "code",
   "execution_count": 38,
   "id": "e35186ef",
   "metadata": {},
   "outputs": [
    {
     "data": {
      "text/html": [
       "<div>\n",
       "  <span style=\"float: left;\">load at cmd37.sc:6</span>\n",
       "</div>\n"
      ]
     },
     "metadata": {},
     "output_type": "display_data"
    },
    {
     "data": {
      "text/html": [
       "<div class=\"progress\">\n",
       "  <div class=\"progress-bar\" role=\"progressbar\" style=\"background-color: blue; width: 100%; word-wrap: normal; white-space: nowrap; text-align: center; color: white\" aria-valuenow=\"100\" aria-valuemin=\"0\" aria-valuemax=\"100\">\n",
       "    1 / 1\n",
       "  </div>\n",
       "  <div class=\"progress-bar\" role=\"progressbar\" style=\"background-color: red; width: 0%\" aria-valuenow=\"0\" aria-valuemin=\"0\" aria-valuemax=\"100\"></div>\n",
       "</div>\n"
      ]
     },
     "metadata": {},
     "output_type": "display_data"
    },
    {
     "data": {
      "text/plain": [
       "\u001b[36mlastRace\u001b[39m: \u001b[32mexpressions\u001b[39m.\u001b[32mWindowSpec\u001b[39m = org.apache.spark.sql.expressions.WindowSpec@32b44b34\n",
       "\u001b[36mlastRaces\u001b[39m: \u001b[32mDataFrame\u001b[39m = [raceId: string, year: string]"
      ]
     },
     "execution_count": 38,
     "metadata": {},
     "output_type": "execute_result"
    }
   ],
   "source": [
    "val lastRace = Window.partitionBy(\"year\")\n",
    "\n",
    "val lastRaces = spark.read.format(\"csv\")\n",
    "    .option(\"header\", \"true\")\n",
    "    .option(\"sep\", \",\")\n",
    "    .load(\"../data/races.csv\")\n",
    "//     .where(col(\"year\") >= 1990 && col(\"year\") <= 1999)\n",
    "    .withColumn(\"round\", col(\"round\").cast(IntegerType))\n",
    "    .withColumn(\"max\", max(col(\"round\")).over(lastRace))\n",
    "    .where(col(\"round\") === col(\"max\"))\n",
    "    .select(\"raceId\", \"year\")"
   ]
  },
  {
   "cell_type": "code",
   "execution_count": 39,
   "id": "9dbf9253",
   "metadata": {},
   "outputs": [
    {
     "data": {
      "text/html": [
       "<div>\n",
       "  <span style=\"float: left;\">load at cmd38.sc:6</span>\n",
       "</div>\n"
      ]
     },
     "metadata": {},
     "output_type": "display_data"
    },
    {
     "data": {
      "text/html": [
       "<div class=\"progress\">\n",
       "  <div class=\"progress-bar\" role=\"progressbar\" style=\"background-color: blue; width: 100%; word-wrap: normal; white-space: nowrap; text-align: center; color: white\" aria-valuenow=\"100\" aria-valuemin=\"0\" aria-valuemax=\"100\">\n",
       "    1 / 1\n",
       "  </div>\n",
       "  <div class=\"progress-bar\" role=\"progressbar\" style=\"background-color: red; width: 0%\" aria-valuenow=\"0\" aria-valuemin=\"0\" aria-valuemax=\"100\"></div>\n",
       "</div>\n"
      ]
     },
     "metadata": {},
     "output_type": "display_data"
    },
    {
     "data": {
      "text/plain": [
       "\u001b[36mconstructors\u001b[39m: \u001b[32mexpressions\u001b[39m.\u001b[32mWindowSpec\u001b[39m = org.apache.spark.sql.expressions.WindowSpec@3057b652\n",
       "\u001b[36mconstructorWinners\u001b[39m: \u001b[32mDataset\u001b[39m[\u001b[32mRow\u001b[39m] = [constructorId: string, year: string ... 2 more fields]"
      ]
     },
     "execution_count": 39,
     "metadata": {},
     "output_type": "execute_result"
    }
   ],
   "source": [
    "val constructors = Window.partitionBy(\"constructorId\")\n",
    "\n",
    "val constructorWinners = spark.read.format(\"csv\")\n",
    "    .option(\"header\", \"true\")\n",
    "    .option(\"sep\", \",\")\n",
    "    .load(\"../data/constructor_standings.csv\")\n",
    "    .join(lastRaces, Seq(\"raceId\"), \"right\")\n",
    "    .where(col(\"position\") === 1)\n",
    "    .select(\"constructorId\", \"wins\", \"year\")\n",
    "    .withColumn(\"totalChampWins\", count(col(\"constructorId\")).over(constructors))\n",
    "    .withColumn(\"totalRaceWins\", sum(col(\"wins\")).over(constructors).cast(IntegerType))\n",
    "    .drop(\"wins\")\n",
    "    .orderBy(col(\"totalChampWins\").desc, col(\"year\").asc)    "
   ]
  },
  {
   "cell_type": "code",
   "execution_count": 40,
   "id": "299ab61d",
   "metadata": {},
   "outputs": [
    {
     "data": {
      "text/html": [
       "<div>\n",
       "  <span style=\"float: left;\">load at cmd39.sc:4</span>\n",
       "</div>\n"
      ]
     },
     "metadata": {},
     "output_type": "display_data"
    },
    {
     "data": {
      "text/html": [
       "<div class=\"progress\">\n",
       "  <div class=\"progress-bar\" role=\"progressbar\" style=\"background-color: blue; width: 100%; word-wrap: normal; white-space: nowrap; text-align: center; color: white\" aria-valuenow=\"100\" aria-valuemin=\"0\" aria-valuemax=\"100\">\n",
       "    1 / 1\n",
       "  </div>\n",
       "  <div class=\"progress-bar\" role=\"progressbar\" style=\"background-color: red; width: 0%\" aria-valuenow=\"0\" aria-valuemin=\"0\" aria-valuemax=\"100\"></div>\n",
       "</div>\n"
      ]
     },
     "metadata": {},
     "output_type": "display_data"
    },
    {
     "data": {
      "text/plain": [
       "\u001b[36mconstructors\u001b[39m: \u001b[32mDataFrame\u001b[39m = [constructorId: string, name: string]"
      ]
     },
     "execution_count": 40,
     "metadata": {},
     "output_type": "execute_result"
    }
   ],
   "source": [
    "val constructors = spark.read.format(\"csv\")\n",
    "    .option(\"header\", \"true\")\n",
    "    .option(\"sep\", \",\")\n",
    "    .load(\"../data/constructors.csv\")\n",
    "    .select(\"constructorId\", \"name\")"
   ]
  },
  {
   "cell_type": "code",
   "execution_count": 41,
   "id": "1e113c5f",
   "metadata": {},
   "outputs": [
    {
     "data": {
      "text/html": [
       "<div>\n",
       "  <span style=\"float: left;\">run at ThreadPoolExecutor.java:1149</span>\n",
       "</div>\n"
      ]
     },
     "metadata": {},
     "output_type": "display_data"
    },
    {
     "data": {
      "text/html": [
       "<div class=\"progress\">\n",
       "  <div class=\"progress-bar\" role=\"progressbar\" style=\"background-color: blue; width: 100%; word-wrap: normal; white-space: nowrap; text-align: center; color: white\" aria-valuenow=\"100\" aria-valuemin=\"0\" aria-valuemax=\"100\">\n",
       "    1 / 1\n",
       "  </div>\n",
       "  <div class=\"progress-bar\" role=\"progressbar\" style=\"background-color: red; width: 0%\" aria-valuenow=\"0\" aria-valuemin=\"0\" aria-valuemax=\"100\"></div>\n",
       "</div>\n"
      ]
     },
     "metadata": {},
     "output_type": "display_data"
    },
    {
     "data": {
      "text/html": [
       "<div>\n",
       "  <span style=\"float: left;\">run at ThreadPoolExecutor.java:1149</span>\n",
       "</div>\n"
      ]
     },
     "metadata": {},
     "output_type": "display_data"
    },
    {
     "data": {
      "text/html": [
       "<div class=\"progress\">\n",
       "  <div class=\"progress-bar\" role=\"progressbar\" style=\"background-color: blue; width: 100%; word-wrap: normal; white-space: nowrap; text-align: center; color: white\" aria-valuenow=\"100\" aria-valuemin=\"0\" aria-valuemax=\"100\">\n",
       "    1 / 1\n",
       "  </div>\n",
       "  <div class=\"progress-bar\" role=\"progressbar\" style=\"background-color: red; width: 0%\" aria-valuenow=\"0\" aria-valuemin=\"0\" aria-valuemax=\"100\"></div>\n",
       "</div>\n"
      ]
     },
     "metadata": {},
     "output_type": "display_data"
    },
    {
     "data": {
      "text/html": [
       "<div>\n",
       "  <span style=\"float: left;\">run at ThreadPoolExecutor.java:1149</span>\n",
       "</div>\n"
      ]
     },
     "metadata": {},
     "output_type": "display_data"
    },
    {
     "data": {
      "text/html": [
       "<div class=\"progress\">\n",
       "  <div class=\"progress-bar\" role=\"progressbar\" style=\"background-color: blue; width: 100%; word-wrap: normal; white-space: nowrap; text-align: center; color: white\" aria-valuenow=\"100\" aria-valuemin=\"0\" aria-valuemax=\"100\">\n",
       "    64 / 64\n",
       "  </div>\n",
       "  <div class=\"progress-bar\" role=\"progressbar\" style=\"background-color: red; width: 0%\" aria-valuenow=\"0\" aria-valuemin=\"0\" aria-valuemax=\"100\"></div>\n",
       "</div>\n"
      ]
     },
     "metadata": {},
     "output_type": "display_data"
    },
    {
     "data": {
      "text/html": [
       "<div>\n",
       "  <span style=\"float: left;\">show at cmd40.sc:6</span>\n",
       "</div>\n"
      ]
     },
     "metadata": {},
     "output_type": "display_data"
    },
    {
     "data": {
      "text/html": [
       "<div class=\"progress\">\n",
       "  <div class=\"progress-bar\" role=\"progressbar\" style=\"background-color: blue; width: 100%; word-wrap: normal; white-space: nowrap; text-align: center; color: white\" aria-valuenow=\"100\" aria-valuemin=\"0\" aria-valuemax=\"100\">\n",
       "    1 / 1\n",
       "  </div>\n",
       "  <div class=\"progress-bar\" role=\"progressbar\" style=\"background-color: red; width: 0%\" aria-valuenow=\"0\" aria-valuemin=\"0\" aria-valuemax=\"100\"></div>\n",
       "</div>\n"
      ]
     },
     "metadata": {},
     "output_type": "display_data"
    },
    {
     "data": {
      "text/html": [
       "<div>\n",
       "  <span style=\"float: left;\">show at cmd40.sc:6</span>\n",
       "</div>\n"
      ]
     },
     "metadata": {},
     "output_type": "display_data"
    },
    {
     "data": {
      "text/html": [
       "<div class=\"progress\">\n",
       "  <div class=\"progress-bar\" role=\"progressbar\" style=\"background-color: blue; width: 100%; word-wrap: normal; white-space: nowrap; text-align: center; color: white\" aria-valuenow=\"100\" aria-valuemin=\"0\" aria-valuemax=\"100\">\n",
       "    64 / 64\n",
       "  </div>\n",
       "  <div class=\"progress-bar\" role=\"progressbar\" style=\"background-color: red; width: 0%\" aria-valuenow=\"0\" aria-valuemin=\"0\" aria-valuemax=\"100\"></div>\n",
       "</div>\n"
      ]
     },
     "metadata": {},
     "output_type": "display_data"
    },
    {
     "data": {
      "text/html": [
       "<div>\n",
       "  <span style=\"float: left;\">show at cmd40.sc:6</span>\n",
       "</div>\n"
      ]
     },
     "metadata": {},
     "output_type": "display_data"
    },
    {
     "data": {
      "text/html": [
       "<div class=\"progress\">\n",
       "  <div class=\"progress-bar\" role=\"progressbar\" style=\"background-color: blue; width: 100%; word-wrap: normal; white-space: nowrap; text-align: center; color: white\" aria-valuenow=\"100\" aria-valuemin=\"0\" aria-valuemax=\"100\">\n",
       "    64 / 64\n",
       "  </div>\n",
       "  <div class=\"progress-bar\" role=\"progressbar\" style=\"background-color: red; width: 0%\" aria-valuenow=\"0\" aria-valuemin=\"0\" aria-valuemax=\"100\"></div>\n",
       "</div>\n"
      ]
     },
     "metadata": {},
     "output_type": "display_data"
    },
    {
     "data": {
      "text/html": [
       "<div>\n",
       "  <span style=\"float: left;\">show at cmd40.sc:6</span>\n",
       "</div>\n"
      ]
     },
     "metadata": {},
     "output_type": "display_data"
    },
    {
     "data": {
      "text/html": [
       "<div class=\"progress\">\n",
       "  <div class=\"progress-bar\" role=\"progressbar\" style=\"background-color: blue; width: 100%; word-wrap: normal; white-space: nowrap; text-align: center; color: white\" aria-valuenow=\"100\" aria-valuemin=\"0\" aria-valuemax=\"100\">\n",
       "    63 / 63\n",
       "  </div>\n",
       "  <div class=\"progress-bar\" role=\"progressbar\" style=\"background-color: red; width: 0%\" aria-valuenow=\"0\" aria-valuemin=\"0\" aria-valuemax=\"100\"></div>\n",
       "</div>\n"
      ]
     },
     "metadata": {},
     "output_type": "display_data"
    },
    {
     "data": {
      "text/html": [
       "<div>\n",
       "  <span style=\"float: left;\">show at cmd40.sc:6</span>\n",
       "</div>\n"
      ]
     },
     "metadata": {},
     "output_type": "display_data"
    },
    {
     "data": {
      "text/html": [
       "<div class=\"progress\">\n",
       "  <div class=\"progress-bar\" role=\"progressbar\" style=\"background-color: blue; width: 100%; word-wrap: normal; white-space: nowrap; text-align: center; color: white\" aria-valuenow=\"100\" aria-valuemin=\"0\" aria-valuemax=\"100\">\n",
       "    64 / 64\n",
       "  </div>\n",
       "  <div class=\"progress-bar\" role=\"progressbar\" style=\"background-color: red; width: 0%\" aria-valuenow=\"0\" aria-valuemin=\"0\" aria-valuemax=\"100\"></div>\n",
       "</div>\n"
      ]
     },
     "metadata": {},
     "output_type": "display_data"
    },
    {
     "data": {
      "text/html": [
       "<div>\n",
       "  <span style=\"float: left;\">show at cmd40.sc:6</span>\n",
       "</div>\n"
      ]
     },
     "metadata": {},
     "output_type": "display_data"
    },
    {
     "data": {
      "text/html": [
       "<div class=\"progress\">\n",
       "  <div class=\"progress-bar\" role=\"progressbar\" style=\"background-color: blue; width: 100%; word-wrap: normal; white-space: nowrap; text-align: center; color: white\" aria-valuenow=\"100\" aria-valuemin=\"0\" aria-valuemax=\"100\">\n",
       "    64 / 64\n",
       "  </div>\n",
       "  <div class=\"progress-bar\" role=\"progressbar\" style=\"background-color: red; width: 0%\" aria-valuenow=\"0\" aria-valuemin=\"0\" aria-valuemax=\"100\"></div>\n",
       "</div>\n"
      ]
     },
     "metadata": {},
     "output_type": "display_data"
    },
    {
     "data": {
      "text/html": [
       "<div>\n",
       "  <span style=\"float: left;\">show at cmd40.sc:6</span>\n",
       "</div>\n"
      ]
     },
     "metadata": {},
     "output_type": "display_data"
    },
    {
     "data": {
      "text/html": [
       "<div class=\"progress\">\n",
       "  <div class=\"progress-bar\" role=\"progressbar\" style=\"background-color: blue; width: 100%; word-wrap: normal; white-space: nowrap; text-align: center; color: white\" aria-valuenow=\"100\" aria-valuemin=\"0\" aria-valuemax=\"100\">\n",
       "    1 / 1\n",
       "  </div>\n",
       "  <div class=\"progress-bar\" role=\"progressbar\" style=\"background-color: red; width: 0%\" aria-valuenow=\"0\" aria-valuemin=\"0\" aria-valuemax=\"100\"></div>\n",
       "</div>\n"
      ]
     },
     "metadata": {},
     "output_type": "display_data"
    },
    {
     "data": {
      "text/html": [
       "<div>\n",
       "  <span style=\"float: left;\">show at cmd40.sc:6</span>\n",
       "</div>\n"
      ]
     },
     "metadata": {},
     "output_type": "display_data"
    },
    {
     "data": {
      "text/html": [
       "<div class=\"progress\">\n",
       "  <div class=\"progress-bar\" role=\"progressbar\" style=\"background-color: blue; width: 100%; word-wrap: normal; white-space: nowrap; text-align: center; color: white\" aria-valuenow=\"100\" aria-valuemin=\"0\" aria-valuemax=\"100\">\n",
       "    4 / 4\n",
       "  </div>\n",
       "  <div class=\"progress-bar\" role=\"progressbar\" style=\"background-color: red; width: 0%\" aria-valuenow=\"0\" aria-valuemin=\"0\" aria-valuemax=\"100\"></div>\n",
       "</div>\n"
      ]
     },
     "metadata": {},
     "output_type": "display_data"
    },
    {
     "data": {
      "text/html": [
       "<div>\n",
       "  <span style=\"float: left;\">show at cmd40.sc:6</span>\n",
       "</div>\n"
      ]
     },
     "metadata": {},
     "output_type": "display_data"
    },
    {
     "data": {
      "text/html": [
       "<div class=\"progress\">\n",
       "  <div class=\"progress-bar\" role=\"progressbar\" style=\"background-color: blue; width: 100%; word-wrap: normal; white-space: nowrap; text-align: center; color: white\" aria-valuenow=\"100\" aria-valuemin=\"0\" aria-valuemax=\"100\">\n",
       "    12 / 12\n",
       "  </div>\n",
       "  <div class=\"progress-bar\" role=\"progressbar\" style=\"background-color: red; width: 0%\" aria-valuenow=\"0\" aria-valuemin=\"0\" aria-valuemax=\"100\"></div>\n",
       "</div>\n"
      ]
     },
     "metadata": {},
     "output_type": "display_data"
    },
    {
     "name": "stdout",
     "output_type": "stream",
     "text": [
      "+--------------+-------------+-------------+\n",
      "|totalChampWins|totalRaceWins|         name|\n",
      "+--------------+-------------+-------------+\n",
      "|            16|          117|      Ferrari|\n",
      "|             9|           75|     Williams|\n",
      "|             8|           70|      McLaren|\n",
      "|             7|          102|     Mercedes|\n",
      "|             4|           41|     Red Bull|\n",
      "|             4|           26|   Team Lotus|\n",
      "|             2|           16|      Renault|\n",
      "|             2|           13| Lotus-Climax|\n",
      "|             2|           11|Cooper-Climax|\n",
      "|             2|            8|Brabham-Repco|\n",
      "|             1|           11|     Benetton|\n",
      "|             1|            8|        Brawn|\n",
      "|             1|            7|      Tyrrell|\n",
      "|             1|            6|   Matra-Ford|\n",
      "|             1|            6|      Vanwall|\n",
      "|             1|            5|   Lotus-Ford|\n",
      "|             1|            4|          BRM|\n",
      "+--------------+-------------+-------------+\n",
      "\n"
     ]
    }
   ],
   "source": [
    "val mostDominantConstructor = constructorWinners\n",
    "    .drop(\"year\")\n",
    "    .dropDuplicates(\"constructorId\")\n",
    "    .orderBy(col(\"totalChampWins\").desc, col(\"totalRaceWins\").desc)\n",
    "    .join(constructors, \"constructorId\")\n",
    "    .drop(\"constructorId\")\n",
    "    .show"
   ]
  },
  {
   "cell_type": "code",
   "execution_count": null,
   "id": "ad8e8871",
   "metadata": {},
   "outputs": [],
   "source": []
  }
 ],
 "metadata": {
  "kernelspec": {
   "display_name": "Scala (2.12)",
   "language": "scala",
   "name": "scala212"
  },
  "language_info": {
   "codemirror_mode": "text/x-scala",
   "file_extension": ".sc",
   "mimetype": "text/x-scala",
   "name": "scala",
   "nbconvert_exporter": "script",
   "version": "2.12.12"
  }
 },
 "nbformat": 4,
 "nbformat_minor": 5
}
