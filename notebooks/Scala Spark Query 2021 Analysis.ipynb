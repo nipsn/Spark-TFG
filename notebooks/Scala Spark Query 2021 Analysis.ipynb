{
 "cells": [
  {
   "cell_type": "code",
   "execution_count": 1,
   "id": "cc90d563",
   "metadata": {},
   "outputs": [
    {
     "name": "stdout",
     "output_type": "stream",
     "text": [
      "Loading spark-stubs\n",
      "Getting spark JARs\n"
     ]
    },
    {
     "name": "stderr",
     "output_type": "stream",
     "text": [
      "log4j:WARN No appenders could be found for logger (org.eclipse.jetty.util.log).\n",
      "log4j:WARN Please initialize the log4j system properly.\n",
      "log4j:WARN See http://logging.apache.org/log4j/1.2/faq.html#noconfig for more info.\n"
     ]
    },
    {
     "name": "stdout",
     "output_type": "stream",
     "text": [
      "Creating SparkSession\n"
     ]
    },
    {
     "name": "stderr",
     "output_type": "stream",
     "text": [
      "Using Spark's default log4j profile: org/apache/spark/log4j-defaults.properties\n",
      "22/01/03 18:42:55 INFO SparkContext: Running Spark version 2.4.3\n",
      "22/01/03 18:42:55 WARN NativeCodeLoader: Unable to load native-hadoop library for your platform... using builtin-java classes where applicable\n",
      "22/01/03 18:42:55 INFO SparkContext: Submitted application: 1e5e0803-d0ba-4e29-b1a1-295ae5006e10\n",
      "22/01/03 18:42:55 INFO SecurityManager: Changing view acls to: oscar\n",
      "22/01/03 18:42:55 INFO SecurityManager: Changing modify acls to: oscar\n",
      "22/01/03 18:42:55 INFO SecurityManager: Changing view acls groups to: \n",
      "22/01/03 18:42:55 INFO SecurityManager: Changing modify acls groups to: \n",
      "22/01/03 18:42:55 INFO SecurityManager: SecurityManager: authentication disabled; ui acls disabled; users  with view permissions: Set(oscar); groups with view permissions: Set(); users  with modify permissions: Set(oscar); groups with modify permissions: Set()\n",
      "22/01/03 18:42:55 INFO Utils: Successfully started service 'sparkDriver' on port 41739.\n",
      "22/01/03 18:42:56 INFO SparkEnv: Registering MapOutputTracker\n",
      "22/01/03 18:42:56 INFO SparkEnv: Registering BlockManagerMaster\n",
      "22/01/03 18:42:56 INFO BlockManagerMasterEndpoint: Using org.apache.spark.storage.DefaultTopologyMapper for getting topology information\n",
      "22/01/03 18:42:56 INFO BlockManagerMasterEndpoint: BlockManagerMasterEndpoint up\n",
      "22/01/03 18:42:56 INFO DiskBlockManager: Created local directory at /tmp/blockmgr-99c81427-674c-4e92-8359-783c54f20b17\n",
      "22/01/03 18:42:56 INFO MemoryStore: MemoryStore started with capacity 1956.6 MB\n",
      "22/01/03 18:42:56 INFO SparkEnv: Registering OutputCommitCoordinator\n",
      "22/01/03 18:42:56 INFO Utils: Successfully started service 'SparkUI' on port 4040.\n",
      "22/01/03 18:42:56 INFO SparkUI: Bound SparkUI to 0.0.0.0, and started at http://netrunner:4040\n",
      "22/01/03 18:42:56 INFO SparkContext: Added JAR file:/home/oscar/.cache/coursier/v1/https/jitpack.io/com/github/jupyter/jvm-repr/0.4.0/jvm-repr-0.4.0-sources.jar at spark://netrunner:41739/jars/jvm-repr-0.4.0-sources.jar with timestamp 1641231776416\n",
      "22/01/03 18:42:56 INFO SparkContext: Added JAR file:/home/oscar/.cache/coursier/v1/https/jitpack.io/com/github/jupyter/jvm-repr/0.4.0/jvm-repr-0.4.0.jar at spark://netrunner:41739/jars/jvm-repr-0.4.0.jar with timestamp 1641231776416\n",
      "22/01/03 18:42:56 INFO SparkContext: Added JAR file:/home/oscar/.cache/coursier/v1/https/repo1.maven.org/maven2/com/github/javaparser/javaparser-core/3.2.5/javaparser-core-3.2.5-sources.jar at spark://netrunner:41739/jars/javaparser-core-3.2.5-sources.jar with timestamp 1641231776417\n",
      "22/01/03 18:42:56 INFO SparkContext: Added JAR file:/home/oscar/.cache/coursier/v1/https/repo1.maven.org/maven2/com/github/javaparser/javaparser-core/3.2.5/javaparser-core-3.2.5.jar at spark://netrunner:41739/jars/javaparser-core-3.2.5.jar with timestamp 1641231776417\n",
      "22/01/03 18:42:56 INFO SparkContext: Added JAR file:/home/oscar/.cache/coursier/v1/https/repo1.maven.org/maven2/com/lihaoyi/ammonite-compiler-interface_2.12/2.3.8-36-1cce53f3/ammonite-compiler-interface_2.12-2.3.8-36-1cce53f3-sources.jar at spark://netrunner:41739/jars/ammonite-compiler-interface_2.12-2.3.8-36-1cce53f3-sources.jar with timestamp 1641231776417\n",
      "22/01/03 18:42:56 INFO SparkContext: Added JAR file:/home/oscar/.cache/coursier/v1/https/repo1.maven.org/maven2/com/lihaoyi/ammonite-compiler-interface_2.12/2.3.8-36-1cce53f3/ammonite-compiler-interface_2.12-2.3.8-36-1cce53f3.jar at spark://netrunner:41739/jars/ammonite-compiler-interface_2.12-2.3.8-36-1cce53f3.jar with timestamp 1641231776417\n",
      "22/01/03 18:42:56 INFO SparkContext: Added JAR file:/home/oscar/.cache/coursier/v1/https/repo1.maven.org/maven2/com/lihaoyi/ammonite-compiler_2.12.12/2.3.8-36-1cce53f3/ammonite-compiler_2.12.12-2.3.8-36-1cce53f3-sources.jar at spark://netrunner:41739/jars/ammonite-compiler_2.12.12-2.3.8-36-1cce53f3-sources.jar with timestamp 1641231776417\n",
      "22/01/03 18:42:56 INFO SparkContext: Added JAR file:/home/oscar/.cache/coursier/v1/https/repo1.maven.org/maven2/com/lihaoyi/ammonite-compiler_2.12.12/2.3.8-36-1cce53f3/ammonite-compiler_2.12.12-2.3.8-36-1cce53f3.jar at spark://netrunner:41739/jars/ammonite-compiler_2.12.12-2.3.8-36-1cce53f3.jar with timestamp 1641231776418\n",
      "22/01/03 18:42:56 INFO SparkContext: Added JAR file:/home/oscar/.cache/coursier/v1/https/repo1.maven.org/maven2/com/lihaoyi/ammonite-interp-api_2.12.12/2.3.8-36-1cce53f3/ammonite-interp-api_2.12.12-2.3.8-36-1cce53f3-sources.jar at spark://netrunner:41739/jars/ammonite-interp-api_2.12.12-2.3.8-36-1cce53f3-sources.jar with timestamp 1641231776418\n",
      "22/01/03 18:42:56 INFO SparkContext: Added JAR file:/home/oscar/.cache/coursier/v1/https/repo1.maven.org/maven2/com/lihaoyi/ammonite-interp-api_2.12.12/2.3.8-36-1cce53f3/ammonite-interp-api_2.12.12-2.3.8-36-1cce53f3.jar at spark://netrunner:41739/jars/ammonite-interp-api_2.12.12-2.3.8-36-1cce53f3.jar with timestamp 1641231776418\n",
      "22/01/03 18:42:56 INFO SparkContext: Added JAR file:/home/oscar/.cache/coursier/v1/https/repo1.maven.org/maven2/com/lihaoyi/ammonite-ops_2.12/2.3.8-36-1cce53f3/ammonite-ops_2.12-2.3.8-36-1cce53f3-sources.jar at spark://netrunner:41739/jars/ammonite-ops_2.12-2.3.8-36-1cce53f3-sources.jar with timestamp 1641231776418\n",
      "22/01/03 18:42:56 INFO SparkContext: Added JAR file:/home/oscar/.cache/coursier/v1/https/repo1.maven.org/maven2/com/lihaoyi/ammonite-ops_2.12/2.3.8-36-1cce53f3/ammonite-ops_2.12-2.3.8-36-1cce53f3.jar at spark://netrunner:41739/jars/ammonite-ops_2.12-2.3.8-36-1cce53f3.jar with timestamp 1641231776418\n",
      "22/01/03 18:42:56 INFO SparkContext: Added JAR file:/home/oscar/.cache/coursier/v1/https/repo1.maven.org/maven2/com/lihaoyi/ammonite-repl-api_2.12.12/2.3.8-36-1cce53f3/ammonite-repl-api_2.12.12-2.3.8-36-1cce53f3-sources.jar at spark://netrunner:41739/jars/ammonite-repl-api_2.12.12-2.3.8-36-1cce53f3-sources.jar with timestamp 1641231776419\n",
      "22/01/03 18:42:56 INFO SparkContext: Added JAR file:/home/oscar/.cache/coursier/v1/https/repo1.maven.org/maven2/com/lihaoyi/ammonite-repl-api_2.12.12/2.3.8-36-1cce53f3/ammonite-repl-api_2.12.12-2.3.8-36-1cce53f3.jar at spark://netrunner:41739/jars/ammonite-repl-api_2.12.12-2.3.8-36-1cce53f3.jar with timestamp 1641231776419\n",
      "22/01/03 18:42:56 INFO SparkContext: Added JAR file:/home/oscar/.cache/coursier/v1/https/repo1.maven.org/maven2/com/lihaoyi/ammonite-util_2.12/2.3.8-36-1cce53f3/ammonite-util_2.12-2.3.8-36-1cce53f3-sources.jar at spark://netrunner:41739/jars/ammonite-util_2.12-2.3.8-36-1cce53f3-sources.jar with timestamp 1641231776419\n",
      "22/01/03 18:42:56 INFO SparkContext: Added JAR file:/home/oscar/.cache/coursier/v1/https/repo1.maven.org/maven2/com/lihaoyi/ammonite-util_2.12/2.3.8-36-1cce53f3/ammonite-util_2.12-2.3.8-36-1cce53f3.jar at spark://netrunner:41739/jars/ammonite-util_2.12-2.3.8-36-1cce53f3.jar with timestamp 1641231776419\n",
      "22/01/03 18:42:56 INFO SparkContext: Added JAR file:/home/oscar/.cache/coursier/v1/https/repo1.maven.org/maven2/com/lihaoyi/fansi_2.12/0.2.9/fansi_2.12-0.2.9-sources.jar at spark://netrunner:41739/jars/fansi_2.12-0.2.9-sources.jar with timestamp 1641231776419\n",
      "22/01/03 18:42:56 INFO SparkContext: Added JAR file:/home/oscar/.cache/coursier/v1/https/repo1.maven.org/maven2/com/lihaoyi/fansi_2.12/0.2.9/fansi_2.12-0.2.9.jar at spark://netrunner:41739/jars/fansi_2.12-0.2.9.jar with timestamp 1641231776419\n",
      "22/01/03 18:42:56 INFO SparkContext: Added JAR file:/home/oscar/.cache/coursier/v1/https/repo1.maven.org/maven2/com/lihaoyi/fastparse_2.12/2.3.0/fastparse_2.12-2.3.0-sources.jar at spark://netrunner:41739/jars/fastparse_2.12-2.3.0-sources.jar with timestamp 1641231776420\n",
      "22/01/03 18:42:56 INFO SparkContext: Added JAR file:/home/oscar/.cache/coursier/v1/https/repo1.maven.org/maven2/com/lihaoyi/fastparse_2.12/2.3.0/fastparse_2.12-2.3.0.jar at spark://netrunner:41739/jars/fastparse_2.12-2.3.0.jar with timestamp 1641231776420\n",
      "22/01/03 18:42:56 INFO SparkContext: Added JAR file:/home/oscar/.cache/coursier/v1/https/repo1.maven.org/maven2/com/lihaoyi/geny_2.12/0.6.7/geny_2.12-0.6.7-sources.jar at spark://netrunner:41739/jars/geny_2.12-0.6.7-sources.jar with timestamp 1641231776420\n",
      "22/01/03 18:42:56 INFO SparkContext: Added JAR file:/home/oscar/.cache/coursier/v1/https/repo1.maven.org/maven2/com/lihaoyi/geny_2.12/0.6.7/geny_2.12-0.6.7.jar at spark://netrunner:41739/jars/geny_2.12-0.6.7.jar with timestamp 1641231776420\n"
     ]
    },
    {
     "name": "stderr",
     "output_type": "stream",
     "text": [
      "22/01/03 18:42:56 INFO SparkContext: Added JAR file:/home/oscar/.cache/coursier/v1/https/repo1.maven.org/maven2/com/lihaoyi/mainargs_2.12/0.1.4/mainargs_2.12-0.1.4-sources.jar at spark://netrunner:41739/jars/mainargs_2.12-0.1.4-sources.jar with timestamp 1641231776420\n",
      "22/01/03 18:42:56 INFO SparkContext: Added JAR file:/home/oscar/.cache/coursier/v1/https/repo1.maven.org/maven2/com/lihaoyi/mainargs_2.12/0.1.4/mainargs_2.12-0.1.4.jar at spark://netrunner:41739/jars/mainargs_2.12-0.1.4.jar with timestamp 1641231776420\n",
      "22/01/03 18:42:56 INFO SparkContext: Added JAR file:/home/oscar/.cache/coursier/v1/https/repo1.maven.org/maven2/com/lihaoyi/os-lib_2.12/0.7.1/os-lib_2.12-0.7.1-sources.jar at spark://netrunner:41739/jars/os-lib_2.12-0.7.1-sources.jar with timestamp 1641231776421\n",
      "22/01/03 18:42:56 INFO SparkContext: Added JAR file:/home/oscar/.cache/coursier/v1/https/repo1.maven.org/maven2/com/lihaoyi/os-lib_2.12/0.7.1/os-lib_2.12-0.7.1.jar at spark://netrunner:41739/jars/os-lib_2.12-0.7.1.jar with timestamp 1641231776421\n",
      "22/01/03 18:42:56 INFO SparkContext: Added JAR file:/home/oscar/.cache/coursier/v1/https/repo1.maven.org/maven2/com/lihaoyi/pprint_2.12/0.6.0/pprint_2.12-0.6.0-sources.jar at spark://netrunner:41739/jars/pprint_2.12-0.6.0-sources.jar with timestamp 1641231776421\n",
      "22/01/03 18:42:56 INFO SparkContext: Added JAR file:/home/oscar/.cache/coursier/v1/https/repo1.maven.org/maven2/com/lihaoyi/pprint_2.12/0.6.0/pprint_2.12-0.6.0.jar at spark://netrunner:41739/jars/pprint_2.12-0.6.0.jar with timestamp 1641231776421\n",
      "22/01/03 18:42:56 INFO SparkContext: Added JAR file:/home/oscar/.cache/coursier/v1/https/repo1.maven.org/maven2/com/lihaoyi/scalaparse_2.12/2.3.0/scalaparse_2.12-2.3.0-sources.jar at spark://netrunner:41739/jars/scalaparse_2.12-2.3.0-sources.jar with timestamp 1641231776421\n",
      "22/01/03 18:42:56 INFO SparkContext: Added JAR file:/home/oscar/.cache/coursier/v1/https/repo1.maven.org/maven2/com/lihaoyi/scalaparse_2.12/2.3.0/scalaparse_2.12-2.3.0.jar at spark://netrunner:41739/jars/scalaparse_2.12-2.3.0.jar with timestamp 1641231776422\n",
      "22/01/03 18:42:56 INFO SparkContext: Added JAR file:/home/oscar/.cache/coursier/v1/https/repo1.maven.org/maven2/com/lihaoyi/sourcecode_2.12/0.2.3/sourcecode_2.12-0.2.3-sources.jar at spark://netrunner:41739/jars/sourcecode_2.12-0.2.3-sources.jar with timestamp 1641231776422\n",
      "22/01/03 18:42:56 INFO SparkContext: Added JAR file:/home/oscar/.cache/coursier/v1/https/repo1.maven.org/maven2/com/lihaoyi/sourcecode_2.12/0.2.3/sourcecode_2.12-0.2.3.jar at spark://netrunner:41739/jars/sourcecode_2.12-0.2.3.jar with timestamp 1641231776422\n",
      "22/01/03 18:42:56 INFO SparkContext: Added JAR file:/home/oscar/.cache/coursier/v1/https/repo1.maven.org/maven2/io/get-coursier/interface/1.0.3/interface-1.0.3-sources.jar at spark://netrunner:41739/jars/interface-1.0.3-sources.jar with timestamp 1641231776422\n",
      "22/01/03 18:42:56 INFO SparkContext: Added JAR file:/home/oscar/.cache/coursier/v1/https/repo1.maven.org/maven2/io/get-coursier/interface/1.0.3/interface-1.0.3.jar at spark://netrunner:41739/jars/interface-1.0.3.jar with timestamp 1641231776422\n",
      "22/01/03 18:42:56 INFO SparkContext: Added JAR file:/home/oscar/.cache/coursier/v1/https/repo1.maven.org/maven2/org/javassist/javassist/3.21.0-GA/javassist-3.21.0-GA-sources.jar at spark://netrunner:41739/jars/javassist-3.21.0-GA-sources.jar with timestamp 1641231776423\n",
      "22/01/03 18:42:56 INFO SparkContext: Added JAR file:/home/oscar/.cache/coursier/v1/https/repo1.maven.org/maven2/org/javassist/javassist/3.21.0-GA/javassist-3.21.0-GA.jar at spark://netrunner:41739/jars/javassist-3.21.0-GA.jar with timestamp 1641231776423\n",
      "22/01/03 18:42:56 INFO SparkContext: Added JAR file:/home/oscar/.cache/coursier/v1/https/repo1.maven.org/maven2/org/scala-lang/modules/scala-collection-compat_2.12/2.4.3/scala-collection-compat_2.12-2.4.3-sources.jar at spark://netrunner:41739/jars/scala-collection-compat_2.12-2.4.3-sources.jar with timestamp 1641231776423\n",
      "22/01/03 18:42:56 INFO SparkContext: Added JAR file:/home/oscar/.cache/coursier/v1/https/repo1.maven.org/maven2/org/scala-lang/modules/scala-collection-compat_2.12/2.4.3/scala-collection-compat_2.12-2.4.3.jar at spark://netrunner:41739/jars/scala-collection-compat_2.12-2.4.3.jar with timestamp 1641231776423\n",
      "22/01/03 18:42:56 INFO SparkContext: Added JAR file:/home/oscar/.cache/coursier/v1/https/repo1.maven.org/maven2/org/scala-lang/modules/scala-xml_2.12/2.0.0-M3/scala-xml_2.12-2.0.0-M3-sources.jar at spark://netrunner:41739/jars/scala-xml_2.12-2.0.0-M3-sources.jar with timestamp 1641231776424\n",
      "22/01/03 18:42:56 INFO SparkContext: Added JAR file:/home/oscar/.cache/coursier/v1/https/repo1.maven.org/maven2/org/scala-lang/modules/scala-xml_2.12/2.0.0-M3/scala-xml_2.12-2.0.0-M3.jar at spark://netrunner:41739/jars/scala-xml_2.12-2.0.0-M3.jar with timestamp 1641231776424\n",
      "22/01/03 18:42:56 INFO SparkContext: Added JAR file:/home/oscar/.cache/coursier/v1/https/repo1.maven.org/maven2/org/scala-lang/scala-compiler/2.12.12/scala-compiler-2.12.12-sources.jar at spark://netrunner:41739/jars/scala-compiler-2.12.12-sources.jar with timestamp 1641231776424\n",
      "22/01/03 18:42:56 INFO SparkContext: Added JAR file:/home/oscar/.cache/coursier/v1/https/repo1.maven.org/maven2/org/scala-lang/scala-library/2.12.12/scala-library-2.12.12-sources.jar at spark://netrunner:41739/jars/scala-library-2.12.12-sources.jar with timestamp 1641231776424\n",
      "22/01/03 18:42:56 INFO SparkContext: Added JAR file:/home/oscar/.cache/coursier/v1/https/repo1.maven.org/maven2/org/scala-lang/scala-reflect/2.12.12/scala-reflect-2.12.12-sources.jar at spark://netrunner:41739/jars/scala-reflect-2.12.12-sources.jar with timestamp 1641231776424\n",
      "22/01/03 18:42:56 INFO SparkContext: Added JAR file:/home/oscar/.cache/coursier/v1/https/repo1.maven.org/maven2/sh/almond/interpreter-api_2.12/0.11.2/interpreter-api_2.12-0.11.2-sources.jar at spark://netrunner:41739/jars/interpreter-api_2.12-0.11.2-sources.jar with timestamp 1641231776425\n",
      "22/01/03 18:42:56 INFO SparkContext: Added JAR file:/home/oscar/.cache/coursier/v1/https/repo1.maven.org/maven2/sh/almond/interpreter-api_2.12/0.11.2/interpreter-api_2.12-0.11.2.jar at spark://netrunner:41739/jars/interpreter-api_2.12-0.11.2.jar with timestamp 1641231776425\n",
      "22/01/03 18:42:56 INFO SparkContext: Added JAR file:/home/oscar/.cache/coursier/v1/https/repo1.maven.org/maven2/sh/almond/jupyter-api_2.12/0.11.2/jupyter-api_2.12-0.11.2-sources.jar at spark://netrunner:41739/jars/jupyter-api_2.12-0.11.2-sources.jar with timestamp 1641231776425\n",
      "22/01/03 18:42:56 INFO SparkContext: Added JAR file:/home/oscar/.cache/coursier/v1/https/repo1.maven.org/maven2/sh/almond/jupyter-api_2.12/0.11.2/jupyter-api_2.12-0.11.2.jar at spark://netrunner:41739/jars/jupyter-api_2.12-0.11.2.jar with timestamp 1641231776425\n",
      "22/01/03 18:42:56 INFO SparkContext: Added JAR file:/home/oscar/.cache/coursier/v1/https/repo1.maven.org/maven2/sh/almond/scala-kernel-api_2.12.12/0.11.2/scala-kernel-api_2.12.12-0.11.2-sources.jar at spark://netrunner:41739/jars/scala-kernel-api_2.12.12-0.11.2-sources.jar with timestamp 1641231776426\n",
      "22/01/03 18:42:56 INFO SparkContext: Added JAR file:/home/oscar/.cache/coursier/v1/https/repo1.maven.org/maven2/sh/almond/scala-kernel-api_2.12.12/0.11.2/scala-kernel-api_2.12.12-0.11.2.jar at spark://netrunner:41739/jars/scala-kernel-api_2.12.12-0.11.2.jar with timestamp 1641231776426\n",
      "22/01/03 18:42:56 INFO SparkContext: Added JAR file:/home/oscar/.local/share/jupyter/kernels/scala212/launcher.jar at spark://netrunner:41739/jars/launcher.jar with timestamp 1641231776426\n",
      "22/01/03 18:42:56 INFO SparkContext: Added JAR file:/home/oscar/.cache/coursier/v1/https/repo1.maven.org/maven2/org/scala-lang/scala-library/2.12.13/scala-library-2.12.13.jar at spark://netrunner:41739/jars/scala-library-2.12.13.jar with timestamp 1641231776426\n",
      "22/01/03 18:42:56 INFO SparkContext: Added JAR file:/home/oscar/.cache/coursier/v1/https/repo1.maven.org/maven2/sh/almond/almond-spark_2.12/0.6.0/almond-spark_2.12-0.6.0.jar at spark://netrunner:41739/jars/almond-spark_2.12-0.6.0.jar with timestamp 1641231776426\n",
      "22/01/03 18:42:56 INFO SparkContext: Added JAR file:/home/oscar/.cache/coursier/v1/https/repo1.maven.org/maven2/sh/almond/ammonite-spark_2.12/0.5.0/ammonite-spark_2.12-0.5.0.jar at spark://netrunner:41739/jars/ammonite-spark_2.12-0.5.0.jar with timestamp 1641231776427\n"
     ]
    },
    {
     "name": "stderr",
     "output_type": "stream",
     "text": [
      "22/01/03 18:42:56 INFO SparkContext: Added JAR file:/home/oscar/.cache/coursier/v1/https/repo1.maven.org/maven2/com/github/alexarchambault/argonaut-shapeless_6.2_2.12/1.2.0-M11/argonaut-shapeless_6.2_2.12-1.2.0-M11.jar at spark://netrunner:41739/jars/argonaut-shapeless_6.2_2.12-1.2.0-M11.jar with timestamp 1641231776427\n",
      "22/01/03 18:42:56 INFO SparkContext: Added JAR file:/home/oscar/.cache/coursier/v1/https/repo1.maven.org/maven2/org/eclipse/jetty/jetty-server/9.4.19.v20190610/jetty-server-9.4.19.v20190610.jar at spark://netrunner:41739/jars/jetty-server-9.4.19.v20190610.jar with timestamp 1641231776427\n",
      "22/01/03 18:42:56 INFO SparkContext: Added JAR file:/home/oscar/.cache/coursier/v1/https/repo1.maven.org/maven2/io/argonaut/argonaut_2.12/6.2.3/argonaut_2.12-6.2.3.jar at spark://netrunner:41739/jars/argonaut_2.12-6.2.3.jar with timestamp 1641231776427\n",
      "22/01/03 18:42:56 INFO SparkContext: Added JAR file:/home/oscar/.cache/coursier/v1/https/repo1.maven.org/maven2/com/chuusai/shapeless_2.12/2.3.3/shapeless_2.12-2.3.3.jar at spark://netrunner:41739/jars/shapeless_2.12-2.3.3.jar with timestamp 1641231776427\n",
      "22/01/03 18:42:56 INFO SparkContext: Added JAR file:/home/oscar/.cache/coursier/v1/https/repo1.maven.org/maven2/org/eclipse/jetty/jetty-http/9.4.19.v20190610/jetty-http-9.4.19.v20190610.jar at spark://netrunner:41739/jars/jetty-http-9.4.19.v20190610.jar with timestamp 1641231776428\n",
      "22/01/03 18:42:56 INFO SparkContext: Added JAR file:/home/oscar/.cache/coursier/v1/https/repo1.maven.org/maven2/org/eclipse/jetty/jetty-io/9.4.19.v20190610/jetty-io-9.4.19.v20190610.jar at spark://netrunner:41739/jars/jetty-io-9.4.19.v20190610.jar with timestamp 1641231776428\n",
      "22/01/03 18:42:56 INFO SparkContext: Added JAR file:/home/oscar/.cache/coursier/v1/https/repo1.maven.org/maven2/org/typelevel/macro-compat_2.12/1.1.1/macro-compat_2.12-1.1.1.jar at spark://netrunner:41739/jars/macro-compat_2.12-1.1.1.jar with timestamp 1641231776428\n",
      "22/01/03 18:42:56 INFO SparkContext: Added JAR file:/home/oscar/.cache/coursier/v1/https/repo1.maven.org/maven2/org/eclipse/jetty/jetty-util/9.4.19.v20190610/jetty-util-9.4.19.v20190610.jar at spark://netrunner:41739/jars/jetty-util-9.4.19.v20190610.jar with timestamp 1641231776428\n",
      "22/01/03 18:42:56 INFO Executor: Starting executor ID driver on host localhost\n",
      "22/01/03 18:42:56 INFO Executor: Using REPL class URI: http://192.168.198.49:34159\n",
      "22/01/03 18:42:56 INFO Utils: Successfully started service 'org.apache.spark.network.netty.NettyBlockTransferService' on port 36137.\n",
      "22/01/03 18:42:56 INFO NettyBlockTransferService: Server created on netrunner:36137\n",
      "22/01/03 18:42:56 INFO BlockManager: Using org.apache.spark.storage.RandomBlockReplicationPolicy for block replication policy\n",
      "22/01/03 18:42:56 INFO BlockManagerMaster: Registering BlockManager BlockManagerId(driver, netrunner, 36137, None)\n",
      "22/01/03 18:42:56 INFO BlockManagerMasterEndpoint: Registering block manager netrunner:36137 with 1956.6 MB RAM, BlockManagerId(driver, netrunner, 36137, None)\n",
      "22/01/03 18:42:56 INFO BlockManagerMaster: Registered BlockManager BlockManagerId(driver, netrunner, 36137, None)\n",
      "22/01/03 18:42:56 INFO BlockManager: Initialized BlockManager: BlockManagerId(driver, netrunner, 36137, None)\n"
     ]
    },
    {
     "data": {
      "text/html": [
       "<a target=\"_blank\" href=\"http://netrunner:4040\">Spark UI</a>"
      ]
     },
     "metadata": {},
     "output_type": "display_data"
    },
    {
     "data": {
      "text/plain": [
       "\u001b[32mimport \u001b[39m\u001b[36m$ivy.$                                  \n",
       "\u001b[39m\n",
       "\u001b[32mimport \u001b[39m\u001b[36m$ivy.$                              \n",
       "\n",
       "\u001b[39m\n",
       "\u001b[32mimport \u001b[39m\u001b[36morg.apache.spark._\n",
       "\u001b[39m\n",
       "\u001b[32mimport \u001b[39m\u001b[36morg.apache.spark.sql.{functions => func, _}\n",
       "\u001b[39m\n",
       "\u001b[32mimport \u001b[39m\u001b[36morg.apache.spark.sql.functions._\n",
       "\u001b[39m\n",
       "\u001b[32mimport \u001b[39m\u001b[36morg.apache.spark.sql.types._\n",
       "\n",
       "\u001b[39m\n",
       "\u001b[32mimport \u001b[39m\u001b[36morg.slf4j.LoggerFactory\n",
       "\u001b[39m\n",
       "\u001b[32mimport \u001b[39m\u001b[36morg.apache.log4j.{Level, Logger}\n",
       "\n",
       "\u001b[39m\n",
       "\u001b[36mspark\u001b[39m: \u001b[32mSparkSession\u001b[39m = org.apache.spark.sql.SparkSession@3737774\n",
       "\u001b[32mimport \u001b[39m\u001b[36mspark.implicits._\n",
       "\n",
       "\u001b[39m\n",
       "defined \u001b[32mfunction\u001b[39m \u001b[36mrun\u001b[39m"
      ]
     },
     "execution_count": 1,
     "metadata": {},
     "output_type": "execute_result"
    }
   ],
   "source": [
    "import $ivy.`org.apache.spark::spark-sql:2.4.3`\n",
    "import $ivy.`sh.almond::almond-spark:0.6.0`\n",
    "\n",
    "import org.apache.spark._\n",
    "import org.apache.spark.sql.{functions => func, _}\n",
    "import org.apache.spark.sql.functions._\n",
    "import org.apache.spark.sql.types._\n",
    "\n",
    "import org.slf4j.LoggerFactory\n",
    "import org.apache.log4j.{Level, Logger}\n",
    "\n",
    "val spark = NotebookSparkSession\n",
    "      .builder()\n",
    "      .config(\"spark.sql.join.preferSortMergeJoin\", false)\n",
    "      .config(\"spark.sql.shuffle.partitions\", 64)\n",
    "      .master(\"local[*]\")\n",
    "      .getOrCreate()\n",
    "\n",
    "import spark.implicits._\n",
    "\n",
    "Logger.getRootLogger().setLevel(Level.ERROR)\n",
    "\n",
    "def run[A](code: => A): A = {\n",
    "    val start = System.currentTimeMillis()\n",
    "    val res = code\n",
    "    println(s\"Took ${System.currentTimeMillis() - start}\")\n",
    "    res\n",
    "}"
   ]
  },
  {
   "cell_type": "code",
   "execution_count": 2,
   "id": "8acb1b2a",
   "metadata": {},
   "outputs": [
    {
     "data": {
      "text/plain": [
       "\u001b[32mimport \u001b[39m\u001b[36m$ivy.$                                      \n",
       "\u001b[39m\n",
       "\u001b[32mimport \u001b[39m\u001b[36mplotly._, plotly.element._, plotly.layout._, plotly.Almond._\n",
       "\n",
       "// if you want to have the plots available without an internet connection:\n",
       "//init(offline=true)\n",
       "\n",
       "// restrict the output height to avoid scrolling in output cells\n",
       "\u001b[39m"
      ]
     },
     "execution_count": 2,
     "metadata": {},
     "output_type": "execute_result"
    }
   ],
   "source": [
    "import $ivy.`org.plotly-scala::plotly-almond:0.7.0`\n",
    "import plotly._, plotly.element._, plotly.layout._, plotly.Almond._\n",
    "\n",
    "// if you want to have the plots available without an internet connection:\n",
    "//init(offline=true)\n",
    "\n",
    "// restrict the output height to avoid scrolling in output cells\n",
    "repl.pprinter() = repl.pprinter().copy(defaultHeight = 3)"
   ]
  },
  {
   "cell_type": "code",
   "execution_count": 2,
   "id": "e2be4ff4",
   "metadata": {},
   "outputs": [
    {
     "data": {
      "text/plain": [
       "\u001b[32mimport \u001b[39m\u001b[36morg.apache.spark.sql.expressions.Window\u001b[39m"
      ]
     },
     "execution_count": 2,
     "metadata": {},
     "output_type": "execute_result"
    }
   ],
   "source": [
    "import org.apache.spark.sql.expressions.Window"
   ]
  },
  {
   "cell_type": "code",
   "execution_count": 11,
   "id": "706bd707",
   "metadata": {},
   "outputs": [
    {
     "data": {
      "text/html": [
       "<div>\n",
       "  <span style=\"float: left;\">load at cmd10.sc:4</span>\n",
       "</div>\n"
      ]
     },
     "metadata": {},
     "output_type": "display_data"
    },
    {
     "data": {
      "text/html": [
       "<div class=\"progress\">\n",
       "  <div class=\"progress-bar\" role=\"progressbar\" style=\"background-color: blue; width: 100%; word-wrap: normal; white-space: nowrap; text-align: center; color: white\" aria-valuenow=\"100\" aria-valuemin=\"0\" aria-valuemax=\"100\">\n",
       "    1 / 1\n",
       "  </div>\n",
       "  <div class=\"progress-bar\" role=\"progressbar\" style=\"background-color: red; width: 0%\" aria-valuenow=\"0\" aria-valuemin=\"0\" aria-valuemax=\"100\"></div>\n",
       "</div>\n"
      ]
     },
     "metadata": {},
     "output_type": "display_data"
    },
    {
     "data": {
      "text/plain": [
       "\u001b[36mdrivers\u001b[39m: \u001b[32mDataFrame\u001b[39m = [driverId: string, driverRef: string ... 7 more fields]"
      ]
     },
     "execution_count": 11,
     "metadata": {},
     "output_type": "execute_result"
    }
   ],
   "source": [
    "val drivers = spark.read.format(\"csv\")\n",
    "    .option(\"header\", \"true\")\n",
    "    .option(\"sep\", \",\")\n",
    "    .load(\"../data/drivers.csv\")"
   ]
  },
  {
   "cell_type": "code",
   "execution_count": 12,
   "id": "950883cf",
   "metadata": {},
   "outputs": [
    {
     "data": {
      "text/html": [
       "<div>\n",
       "  <span style=\"float: left;\">load at cmd11.sc:4</span>\n",
       "</div>\n"
      ]
     },
     "metadata": {},
     "output_type": "display_data"
    },
    {
     "data": {
      "text/html": [
       "<div class=\"progress\">\n",
       "  <div class=\"progress-bar\" role=\"progressbar\" style=\"background-color: blue; width: 100%; word-wrap: normal; white-space: nowrap; text-align: center; color: white\" aria-valuenow=\"100\" aria-valuemin=\"0\" aria-valuemax=\"100\">\n",
       "    1 / 1\n",
       "  </div>\n",
       "  <div class=\"progress-bar\" role=\"progressbar\" style=\"background-color: red; width: 0%\" aria-valuenow=\"0\" aria-valuemin=\"0\" aria-valuemax=\"100\"></div>\n",
       "</div>\n"
      ]
     },
     "metadata": {},
     "output_type": "display_data"
    },
    {
     "data": {
      "text/plain": [
       "\u001b[36mraces\u001b[39m: \u001b[32mDataset\u001b[39m[\u001b[32mRow\u001b[39m] = [raceId: string, year: string]"
      ]
     },
     "execution_count": 12,
     "metadata": {},
     "output_type": "execute_result"
    }
   ],
   "source": [
    "val races = spark.read.format(\"csv\")\n",
    "    .option(\"header\", \"true\")\n",
    "    .option(\"sep\", \",\")\n",
    "    .load(\"../data/races.csv\")\n",
    "    .select(\"raceId\", \"year\")\n",
    "    .where(col(\"year\") === 2021)"
   ]
  },
  {
   "cell_type": "code",
   "execution_count": 13,
   "id": "9cbb4438",
   "metadata": {},
   "outputs": [
    {
     "data": {
      "text/plain": [
       "\u001b[36mdriverWindow\u001b[39m: \u001b[32mexpressions\u001b[39m.\u001b[32mWindowSpec\u001b[39m = org.apache.spark.sql.expressions.WindowSpec@439faf3f\n",
       "\u001b[36mseasonWindow\u001b[39m: \u001b[32mexpressions\u001b[39m.\u001b[32mWindowSpec\u001b[39m = org.apache.spark.sql.expressions.WindowSpec@7ea985db\n",
       "\u001b[36mdriverRaceWindow\u001b[39m: \u001b[32mexpressions\u001b[39m.\u001b[32mWindowSpec\u001b[39m = org.apache.spark.sql.expressions.WindowSpec@3dade0f4\n",
       "\u001b[36mraceDriverLapWindow\u001b[39m: \u001b[32mexpressions\u001b[39m.\u001b[32mWindowSpec\u001b[39m = org.apache.spark.sql.expressions.WindowSpec@2dc308d"
      ]
     },
     "execution_count": 13,
     "metadata": {},
     "output_type": "execute_result"
    }
   ],
   "source": [
    "val driverWindow = Window.partitionBy(\"driverId\")\n",
    "val seasonWindow = Window.partitionBy(\"year\")\n",
    "val driverRaceWindow = Window.partitionBy(\"driverId\", \"raceId\")\n",
    "val raceDriverLapWindow = Window.partitionBy(\"driverId\", \"raceId\").orderBy(\"lap\")"
   ]
  },
  {
   "cell_type": "code",
   "execution_count": 14,
   "id": "7e436443",
   "metadata": {},
   "outputs": [
    {
     "data": {
      "text/html": [
       "<div>\n",
       "  <span style=\"float: left;\">load at cmd13.sc:4</span>\n",
       "</div>\n"
      ]
     },
     "metadata": {},
     "output_type": "display_data"
    },
    {
     "data": {
      "text/html": [
       "<div class=\"progress\">\n",
       "  <div class=\"progress-bar\" role=\"progressbar\" style=\"background-color: blue; width: 100%; word-wrap: normal; white-space: nowrap; text-align: center; color: white\" aria-valuenow=\"100\" aria-valuemin=\"0\" aria-valuemax=\"100\">\n",
       "    1 / 1\n",
       "  </div>\n",
       "  <div class=\"progress-bar\" role=\"progressbar\" style=\"background-color: red; width: 0%\" aria-valuenow=\"0\" aria-valuemin=\"0\" aria-valuemax=\"100\"></div>\n",
       "</div>\n"
      ]
     },
     "metadata": {},
     "output_type": "display_data"
    },
    {
     "data": {
      "text/plain": [
       "\u001b[36mpitStops\u001b[39m: \u001b[32mDataFrame\u001b[39m = [raceId: string, driverId: string ... 1 more field]"
      ]
     },
     "execution_count": 14,
     "metadata": {},
     "output_type": "execute_result"
    }
   ],
   "source": [
    "val pitStops = spark.read.format(\"csv\")\n",
    "    .option(\"header\", \"true\")\n",
    "    .option(\"sep\", \",\")\n",
    "    .load(\"../data/pit_stops.csv\")\n",
    "    .withColumn(\"lap\", (col(\"lap\") - 1).cast(IntegerType)) \n",
    "    .join(races, \"raceId\")\n",
    "    .select(\"raceId\", \"driverId\", \"lap\")"
   ]
  },
  {
   "cell_type": "code",
   "execution_count": 7,
   "id": "c87117fd",
   "metadata": {},
   "outputs": [
    {
     "name": "stdout",
     "output_type": "stream",
     "text": [
      "root\n",
      " |-- raceId: string (nullable = true)\n",
      " |-- driverId: string (nullable = true)\n",
      " |-- lap: integer (nullable = true)\n",
      "\n"
     ]
    }
   ],
   "source": [
    "pitStops.printSchema"
   ]
  },
  {
   "cell_type": "code",
   "execution_count": 15,
   "id": "e1ac4629",
   "metadata": {},
   "outputs": [
    {
     "data": {
      "text/html": [
       "<div>\n",
       "  <span style=\"float: left;\">load at cmd14.sc:4</span>\n",
       "</div>\n"
      ]
     },
     "metadata": {},
     "output_type": "display_data"
    },
    {
     "data": {
      "text/html": [
       "<div class=\"progress\">\n",
       "  <div class=\"progress-bar\" role=\"progressbar\" style=\"background-color: blue; width: 100%; word-wrap: normal; white-space: nowrap; text-align: center; color: white\" aria-valuenow=\"100\" aria-valuemin=\"0\" aria-valuemax=\"100\">\n",
       "    1 / 1\n",
       "  </div>\n",
       "  <div class=\"progress-bar\" role=\"progressbar\" style=\"background-color: red; width: 0%\" aria-valuenow=\"0\" aria-valuemin=\"0\" aria-valuemax=\"100\"></div>\n",
       "</div>\n"
      ]
     },
     "metadata": {},
     "output_type": "display_data"
    },
    {
     "data": {
      "text/plain": [
       "\u001b[36movertakes\u001b[39m: \u001b[32mDataFrame\u001b[39m = [raceId: string, driverId: string ... 4 more fields]"
      ]
     },
     "execution_count": 15,
     "metadata": {},
     "output_type": "execute_result"
    }
   ],
   "source": [
    "val overtakes = spark.read.format(\"csv\")\n",
    "    .option(\"header\", \"true\")\n",
    "    .option(\"sep\", \",\")\n",
    "    .load(\"../data/lap_times.csv\")\n",
    "    .withColumn(\"position\", col(\"position\").cast(IntegerType)) \n",
    "    .withColumn(\"lap\", col(\"lap\").cast(IntegerType)) \n",
    "    .join(races, \"raceId\")\n",
    "    .join(pitStops, Seq(\"raceId\", \"driverId\", \"lap\"), \"left\")\n",
    "    .withColumn(\"positionNextLap\", lead(col(\"position\"), 1).over(raceDriverLapWindow))\n",
    "    .withColumn(\"positionsGainedLap\", when(col(\"positionNextLap\") < col(\"position\") , abs(col(\"position\") - col(\"positionNextLap\"))).otherwise(0))\n",
    "    .withColumn(\"positionsLostLap\", when(col(\"positionNextLap\") > col(\"position\"), abs(col(\"position\") - col(\"positionNextLap\"))).otherwise(0))\n",
    "    .withColumn(\"positionsGained\", sum(col(\"positionsGainedLap\")).over(driverRaceWindow))\n",
    "    .withColumn(\"positionsLost\", sum(col(\"positionsLostLap\")).over(driverRaceWindow))\n",
    "    .withColumn(\"lapLeader\", when(col(\"position\") === 1, 1).otherwise(0))\n",
    "    .withColumn(\"lapsLed\", sum(col(\"lapLeader\")).over(driverWindow))\n",
    "    .withColumn(\"totalLaps\", sum(col(\"lapLeader\")).over(seasonWindow))\n",
    "    .withColumn(\"percLapsLed\", round(col(\"lapsLed\") / col(\"totalLaps\"), 2))\n",
    "//     .sort(col(\"lap\"))\n",
    "    .where(col(\"lap\") === 1)\n",
    "    .select(\"raceId\", \"driverId\", \"positionsGained\", \"positionsLost\", \"lapsLed\", \"percLapsLed\")\n"
   ]
  },
  {
   "cell_type": "code",
   "execution_count": 17,
   "id": "2468ec96",
   "metadata": {},
   "outputs": [
    {
     "data": {
      "text/html": [
       "<div>\n",
       "  <span style=\"float: left;\">load at cmd16.sc:4</span>\n",
       "</div>\n"
      ]
     },
     "metadata": {},
     "output_type": "display_data"
    },
    {
     "data": {
      "text/html": [
       "<div class=\"progress\">\n",
       "  <div class=\"progress-bar\" role=\"progressbar\" style=\"background-color: blue; width: 100%; word-wrap: normal; white-space: nowrap; text-align: center; color: white\" aria-valuenow=\"100\" aria-valuemin=\"0\" aria-valuemax=\"100\">\n",
       "    1 / 1\n",
       "  </div>\n",
       "  <div class=\"progress-bar\" role=\"progressbar\" style=\"background-color: red; width: 0%\" aria-valuenow=\"0\" aria-valuemin=\"0\" aria-valuemax=\"100\"></div>\n",
       "</div>\n"
      ]
     },
     "metadata": {},
     "output_type": "display_data"
    },
    {
     "data": {
      "text/html": [
       "<div>\n",
       "  <span style=\"float: left;\">run at ThreadPoolExecutor.java:1149</span>\n",
       "</div>\n"
      ]
     },
     "metadata": {},
     "output_type": "display_data"
    },
    {
     "data": {
      "text/html": [
       "<div class=\"progress\">\n",
       "  <div class=\"progress-bar\" role=\"progressbar\" style=\"background-color: blue; width: 100%; word-wrap: normal; white-space: nowrap; text-align: center; color: white\" aria-valuenow=\"100\" aria-valuemin=\"0\" aria-valuemax=\"100\">\n",
       "    1 / 1\n",
       "  </div>\n",
       "  <div class=\"progress-bar\" role=\"progressbar\" style=\"background-color: red; width: 0%\" aria-valuenow=\"0\" aria-valuemin=\"0\" aria-valuemax=\"100\"></div>\n",
       "</div>\n"
      ]
     },
     "metadata": {},
     "output_type": "display_data"
    },
    {
     "data": {
      "text/html": [
       "<div>\n",
       "  <span style=\"float: left;\">run at ThreadPoolExecutor.java:1149</span>\n",
       "</div>\n"
      ]
     },
     "metadata": {},
     "output_type": "display_data"
    },
    {
     "data": {
      "text/html": [
       "<div class=\"progress\">\n",
       "  <div class=\"progress-bar\" role=\"progressbar\" style=\"background-color: blue; width: 100%; word-wrap: normal; white-space: nowrap; text-align: center; color: white\" aria-valuenow=\"100\" aria-valuemin=\"0\" aria-valuemax=\"100\">\n",
       "    1 / 1\n",
       "  </div>\n",
       "  <div class=\"progress-bar\" role=\"progressbar\" style=\"background-color: red; width: 0%\" aria-valuenow=\"0\" aria-valuemin=\"0\" aria-valuemax=\"100\"></div>\n",
       "</div>\n"
      ]
     },
     "metadata": {},
     "output_type": "display_data"
    },
    {
     "data": {
      "text/html": [
       "<div>\n",
       "  <span style=\"float: left;\">run at ThreadPoolExecutor.java:1149</span>\n",
       "</div>\n"
      ]
     },
     "metadata": {},
     "output_type": "display_data"
    },
    {
     "data": {
      "text/html": [
       "<div class=\"progress\">\n",
       "  <div class=\"progress-bar\" role=\"progressbar\" style=\"background-color: blue; width: 100%; word-wrap: normal; white-space: nowrap; text-align: center; color: white\" aria-valuenow=\"100\" aria-valuemin=\"0\" aria-valuemax=\"100\">\n",
       "    1 / 1\n",
       "  </div>\n",
       "  <div class=\"progress-bar\" role=\"progressbar\" style=\"background-color: red; width: 0%\" aria-valuenow=\"0\" aria-valuemin=\"0\" aria-valuemax=\"100\"></div>\n",
       "</div>\n"
      ]
     },
     "metadata": {},
     "output_type": "display_data"
    },
    {
     "data": {
      "text/html": [
       "<div>\n",
       "  <span style=\"float: left;\">show at cmd16.sc:37</span>\n",
       "</div>\n"
      ]
     },
     "metadata": {},
     "output_type": "display_data"
    },
    {
     "data": {
      "text/html": [
       "<div class=\"progress\">\n",
       "  <div class=\"progress-bar\" role=\"progressbar\" style=\"background-color: blue; width: 100%; word-wrap: normal; white-space: nowrap; text-align: center; color: white\" aria-valuenow=\"100\" aria-valuemin=\"0\" aria-valuemax=\"100\">\n",
       "    1 / 1\n",
       "  </div>\n",
       "  <div class=\"progress-bar\" role=\"progressbar\" style=\"background-color: red; width: 0%\" aria-valuenow=\"0\" aria-valuemin=\"0\" aria-valuemax=\"100\"></div>\n",
       "</div>\n"
      ]
     },
     "metadata": {},
     "output_type": "display_data"
    },
    {
     "data": {
      "text/html": [
       "<div>\n",
       "  <span style=\"float: left;\">show at cmd16.sc:37</span>\n",
       "</div>\n"
      ]
     },
     "metadata": {},
     "output_type": "display_data"
    },
    {
     "data": {
      "text/html": [
       "<div class=\"progress\">\n",
       "  <div class=\"progress-bar\" role=\"progressbar\" style=\"background-color: blue; width: 100%; word-wrap: normal; white-space: nowrap; text-align: center; color: white\" aria-valuenow=\"100\" aria-valuemin=\"0\" aria-valuemax=\"100\">\n",
       "    4 / 4\n",
       "  </div>\n",
       "  <div class=\"progress-bar\" role=\"progressbar\" style=\"background-color: red; width: 0%\" aria-valuenow=\"0\" aria-valuemin=\"0\" aria-valuemax=\"100\"></div>\n",
       "</div>\n"
      ]
     },
     "metadata": {},
     "output_type": "display_data"
    },
    {
     "data": {
      "text/html": [
       "<div>\n",
       "  <span style=\"float: left;\">show at cmd16.sc:37</span>\n",
       "</div>\n"
      ]
     },
     "metadata": {},
     "output_type": "display_data"
    },
    {
     "data": {
      "text/html": [
       "<div class=\"progress\">\n",
       "  <div class=\"progress-bar\" role=\"progressbar\" style=\"background-color: blue; width: 100%; word-wrap: normal; white-space: nowrap; text-align: center; color: white\" aria-valuenow=\"100\" aria-valuemin=\"0\" aria-valuemax=\"100\">\n",
       "    1 / 1\n",
       "  </div>\n",
       "  <div class=\"progress-bar\" role=\"progressbar\" style=\"background-color: red; width: 0%\" aria-valuenow=\"0\" aria-valuemin=\"0\" aria-valuemax=\"100\"></div>\n",
       "</div>\n"
      ]
     },
     "metadata": {},
     "output_type": "display_data"
    },
    {
     "data": {
      "text/html": [
       "<div>\n",
       "  <span style=\"float: left;\">show at cmd16.sc:37</span>\n",
       "</div>\n"
      ]
     },
     "metadata": {},
     "output_type": "display_data"
    },
    {
     "data": {
      "text/html": [
       "<div class=\"progress\">\n",
       "  <div class=\"progress-bar\" role=\"progressbar\" style=\"background-color: blue; width: 100%; word-wrap: normal; white-space: nowrap; text-align: center; color: white\" aria-valuenow=\"100\" aria-valuemin=\"0\" aria-valuemax=\"100\">\n",
       "    64 / 64\n",
       "  </div>\n",
       "  <div class=\"progress-bar\" role=\"progressbar\" style=\"background-color: red; width: 0%\" aria-valuenow=\"0\" aria-valuemin=\"0\" aria-valuemax=\"100\"></div>\n",
       "</div>\n"
      ]
     },
     "metadata": {},
     "output_type": "display_data"
    },
    {
     "data": {
      "text/html": [
       "<div>\n",
       "  <span style=\"float: left;\">show at cmd16.sc:37</span>\n",
       "</div>\n"
      ]
     },
     "metadata": {},
     "output_type": "display_data"
    },
    {
     "data": {
      "text/html": [
       "<div class=\"progress\">\n",
       "  <div class=\"progress-bar\" role=\"progressbar\" style=\"background-color: blue; width: 100%; word-wrap: normal; white-space: nowrap; text-align: center; color: white\" aria-valuenow=\"100\" aria-valuemin=\"0\" aria-valuemax=\"100\">\n",
       "    64 / 64\n",
       "  </div>\n",
       "  <div class=\"progress-bar\" role=\"progressbar\" style=\"background-color: red; width: 0%\" aria-valuenow=\"0\" aria-valuemin=\"0\" aria-valuemax=\"100\"></div>\n",
       "</div>\n"
      ]
     },
     "metadata": {},
     "output_type": "display_data"
    },
    {
     "data": {
      "text/html": [
       "<div>\n",
       "  <span style=\"float: left;\">show at cmd16.sc:37</span>\n",
       "</div>\n"
      ]
     },
     "metadata": {},
     "output_type": "display_data"
    },
    {
     "data": {
      "text/html": [
       "<div class=\"progress\">\n",
       "  <div class=\"progress-bar\" role=\"progressbar\" style=\"background-color: blue; width: 100%; word-wrap: normal; white-space: nowrap; text-align: center; color: white\" aria-valuenow=\"100\" aria-valuemin=\"0\" aria-valuemax=\"100\">\n",
       "    64 / 64\n",
       "  </div>\n",
       "  <div class=\"progress-bar\" role=\"progressbar\" style=\"background-color: red; width: 0%\" aria-valuenow=\"0\" aria-valuemin=\"0\" aria-valuemax=\"100\"></div>\n",
       "</div>\n"
      ]
     },
     "metadata": {},
     "output_type": "display_data"
    },
    {
     "data": {
      "text/html": [
       "<div>\n",
       "  <span style=\"float: left;\">show at cmd16.sc:37</span>\n",
       "</div>\n"
      ]
     },
     "metadata": {},
     "output_type": "display_data"
    },
    {
     "data": {
      "text/html": [
       "<div class=\"progress\">\n",
       "  <div class=\"progress-bar\" role=\"progressbar\" style=\"background-color: blue; width: 100%; word-wrap: normal; white-space: nowrap; text-align: center; color: white\" aria-valuenow=\"100\" aria-valuemin=\"0\" aria-valuemax=\"100\">\n",
       "    64 / 64\n",
       "  </div>\n",
       "  <div class=\"progress-bar\" role=\"progressbar\" style=\"background-color: red; width: 0%\" aria-valuenow=\"0\" aria-valuemin=\"0\" aria-valuemax=\"100\"></div>\n",
       "</div>\n"
      ]
     },
     "metadata": {},
     "output_type": "display_data"
    },
    {
     "data": {
      "text/html": [
       "<div>\n",
       "  <span style=\"float: left;\">show at cmd16.sc:37</span>\n",
       "</div>\n"
      ]
     },
     "metadata": {},
     "output_type": "display_data"
    },
    {
     "data": {
      "text/html": [
       "<div class=\"progress\">\n",
       "  <div class=\"progress-bar\" role=\"progressbar\" style=\"background-color: blue; width: 100%; word-wrap: normal; white-space: nowrap; text-align: center; color: white\" aria-valuenow=\"100\" aria-valuemin=\"0\" aria-valuemax=\"100\">\n",
       "    64 / 64\n",
       "  </div>\n",
       "  <div class=\"progress-bar\" role=\"progressbar\" style=\"background-color: red; width: 0%\" aria-valuenow=\"0\" aria-valuemin=\"0\" aria-valuemax=\"100\"></div>\n",
       "</div>\n"
      ]
     },
     "metadata": {},
     "output_type": "display_data"
    },
    {
     "data": {
      "text/html": [
       "<div>\n",
       "  <span style=\"float: left;\">show at cmd16.sc:37</span>\n",
       "</div>\n"
      ]
     },
     "metadata": {},
     "output_type": "display_data"
    },
    {
     "data": {
      "text/html": [
       "<div class=\"progress\">\n",
       "  <div class=\"progress-bar\" role=\"progressbar\" style=\"background-color: blue; width: 100%; word-wrap: normal; white-space: nowrap; text-align: center; color: white\" aria-valuenow=\"100\" aria-valuemin=\"0\" aria-valuemax=\"100\">\n",
       "    64 / 64\n",
       "  </div>\n",
       "  <div class=\"progress-bar\" role=\"progressbar\" style=\"background-color: red; width: 0%\" aria-valuenow=\"0\" aria-valuemin=\"0\" aria-valuemax=\"100\"></div>\n",
       "</div>\n"
      ]
     },
     "metadata": {},
     "output_type": "display_data"
    },
    {
     "data": {
      "text/html": [
       "<div>\n",
       "  <span style=\"float: left;\">show at cmd16.sc:37</span>\n",
       "</div>\n"
      ]
     },
     "metadata": {},
     "output_type": "display_data"
    },
    {
     "data": {
      "text/html": [
       "<div class=\"progress\">\n",
       "  <div class=\"progress-bar\" role=\"progressbar\" style=\"background-color: blue; width: 100%; word-wrap: normal; white-space: nowrap; text-align: center; color: white\" aria-valuenow=\"100\" aria-valuemin=\"0\" aria-valuemax=\"100\">\n",
       "    64 / 64\n",
       "  </div>\n",
       "  <div class=\"progress-bar\" role=\"progressbar\" style=\"background-color: red; width: 0%\" aria-valuenow=\"0\" aria-valuemin=\"0\" aria-valuemax=\"100\"></div>\n",
       "</div>\n"
      ]
     },
     "metadata": {},
     "output_type": "display_data"
    },
    {
     "data": {
      "text/html": [
       "<div>\n",
       "  <span style=\"float: left;\">show at cmd16.sc:37</span>\n",
       "</div>\n"
      ]
     },
     "metadata": {},
     "output_type": "display_data"
    },
    {
     "data": {
      "text/html": [
       "<div class=\"progress\">\n",
       "  <div class=\"progress-bar\" role=\"progressbar\" style=\"background-color: blue; width: 100%; word-wrap: normal; white-space: nowrap; text-align: center; color: white\" aria-valuenow=\"100\" aria-valuemin=\"0\" aria-valuemax=\"100\">\n",
       "    64 / 64\n",
       "  </div>\n",
       "  <div class=\"progress-bar\" role=\"progressbar\" style=\"background-color: red; width: 0%\" aria-valuenow=\"0\" aria-valuemin=\"0\" aria-valuemax=\"100\"></div>\n",
       "</div>\n"
      ]
     },
     "metadata": {},
     "output_type": "display_data"
    },
    {
     "data": {
      "text/html": [
       "<div>\n",
       "  <span style=\"float: left;\">show at cmd16.sc:37</span>\n",
       "</div>\n"
      ]
     },
     "metadata": {},
     "output_type": "display_data"
    },
    {
     "data": {
      "text/html": [
       "<div class=\"progress\">\n",
       "  <div class=\"progress-bar\" role=\"progressbar\" style=\"background-color: blue; width: 100%; word-wrap: normal; white-space: nowrap; text-align: center; color: white\" aria-valuenow=\"100\" aria-valuemin=\"0\" aria-valuemax=\"100\">\n",
       "    64 / 64\n",
       "  </div>\n",
       "  <div class=\"progress-bar\" role=\"progressbar\" style=\"background-color: red; width: 0%\" aria-valuenow=\"0\" aria-valuemin=\"0\" aria-valuemax=\"100\"></div>\n",
       "</div>\n"
      ]
     },
     "metadata": {},
     "output_type": "display_data"
    },
    {
     "name": "stdout",
     "output_type": "stream",
     "text": [
      "+----+-----------+-------------+------------+------------+-------------+-------------+----------------+---------------+------------------+-----------------+-------+-----------+\n",
      "|code|champPoints|averagePoints|pointPercent|totalPodiums|podiumPercent|positionDelta|avgPositionsLost|avgPositionsWon|totalPositionsLost|totalPositionsWon|lapsLed|percLapsLed|\n",
      "+----+-----------+-------------+------------+------------+-------------+-------------+----------------+---------------+------------------+-----------------+-------+-----------+\n",
      "| VER|        395|        17.95|         1.0|          18|         0.82|        -1.21|            2.71|           3.38|                57|               71|    652|        0.5|\n",
      "| HAM|        387|        17.59|        0.98|          17|         0.77|        -0.29|            4.32|           4.41|                95|               97|    297|       0.23|\n",
      "| BOT|        226|        10.27|        0.57|          11|          0.5|        -0.78|            4.33|           5.81|                91|              122|     79|       0.06|\n",
      "| PER|        190|         8.64|        0.48|           5|         0.23|          2.2|            5.67|           7.19|               119|              151|     46|       0.04|\n",
      "| SAI|        164|         7.45|        0.42|           4|         0.18|        -1.41|            6.14|           6.95|               135|              153|     12|       0.01|\n",
      "| NOR|        160|         7.27|        0.41|           4|         0.18|        -0.29|            6.05|           7.05|               133|              155|     31|       0.02|\n",
      "| LEC|        159|         7.23|         0.4|           1|         0.05|         -0.1|            7.55|           6.85|               151|              137|     60|       0.05|\n",
      "| RIC|        115|         5.23|        0.29|           1|         0.05|        -1.52|             6.5|           7.68|               143|              169|     48|       0.04|\n",
      "| GAS|        110|          5.0|        0.28|           1|         0.05|         1.11|            7.91|           7.23|               174|              159|      0|        0.0|\n",
      "| ALO|         81|         3.68|        0.21|           1|         0.05|         -1.1|            7.45|           8.14|               164|              179|      2|        0.0|\n",
      "| OCO|         74|         3.36|        0.19|           1|         0.05|        -1.11|             6.9|           6.57|               145|              138|     66|       0.05|\n",
      "| VET|         43|         1.95|        0.11|           1|         0.05|        -0.05|            8.23|           8.41|               181|              185|      4|        0.0|\n",
      "| STR|         34|         1.55|        0.09|           0|          0.0|         -2.0|            7.52|           8.86|               158|              186|      0|        0.0|\n",
      "| TSU|         32|         1.45|        0.08|           0|          0.0|         0.28|             7.9|            8.2|               158|              164|      0|        0.0|\n",
      "| RUS|         16|         0.73|        0.04|           1|         0.05|        -0.24|            7.59|           7.18|               167|              158|      0|        0.0|\n",
      "| RAI|         10|          0.5|        0.03|           0|          0.0|        -0.56|             8.1|           8.45|               162|              169|      0|        0.0|\n",
      "| LAT|          7|         0.32|        0.02|           0|          0.0|        -0.05|            5.95|           7.29|               125|              153|      0|        0.0|\n",
      "| GIO|          3|         0.14|        0.01|           0|          0.0|         0.14|            7.59|           7.73|               167|              170|      0|        0.0|\n",
      "| KUB|          0|          0.0|         0.0|           0|          0.0|         -2.0|             7.0|            7.5|                14|               15|      0|        0.0|\n",
      "| MSC|          0|          0.0|         0.0|           0|          0.0|        -1.37|            4.67|           4.67|                98|               98|      0|        0.0|\n",
      "| MAZ|          0|          0.0|         0.0|           0|          0.0|        -0.63|             3.5|            3.6|                70|               72|   null|       null|\n",
      "+----+-----------+-------------+------------+------------+-------------+-------------+----------------+---------------+------------------+-----------------+-------+-----------+\n",
      "\n"
     ]
    }
   ],
   "source": [
    "val results = spark.read.format(\"csv\")\n",
    "    .option(\"header\", \"true\")\n",
    "    .option(\"sep\", \",\")\n",
    "    .load(\"../data/results.csv\")\n",
    "\n",
    "    .withColumn(\"position\", col(\"position\").cast(IntegerType))    \n",
    "    .withColumn(\"grid\", col(\"grid\").cast(IntegerType))    \n",
    "    .withColumn(\"points\", col(\"points\").cast(IntegerType))\n",
    "\n",
    "    .join(races, \"raceId\")\n",
    "    .join(overtakes, Seq(\"raceId\", \"driverId\"), \"left\")\n",
    "    .join(drivers, \"driverId\")\n",
    "\n",
    "    .withColumn(\"podium\", when(col(\"position\") === 1 || col(\"position\") === 2 ||col(\"position\") === 3, lit(1)).otherwise(lit(0)))\n",
    "    .withColumn(\"averagePoints\", round(avg(col(\"points\")).over(driverWindow), 2))\n",
    "    .withColumn(\"maxAvgPoints\", max(col(\"averagePoints\")).over(seasonWindow))\n",
    "\n",
    "    .select(\n",
    "        col(\"code\"),\n",
    "        sum(col(\"points\")).over(driverWindow).as(\"champPoints\"),\n",
    "        col(\"averagePoints\"),\n",
    "        round(col(\"averagePoints\") / col(\"maxAvgPoints\"),2).as(\"pointPercent\"),\n",
    "        sum(col(\"podium\")).over(driverWindow).as(\"totalPodiums\"),\n",
    "        round(sum(col(\"podium\")).over(driverWindow) / count(col(\"podium\")).over(driverWindow), 2).as(\"podiumPercent\"),\n",
    "        round(avg(col(\"position\") - col(\"grid\")).over(driverWindow), 2).as(\"positionDelta\"),\n",
    "        round(avg(col(\"positionsLost\")).over(driverWindow), 2).as(\"avgPositionsLost\"),\n",
    "        round(avg(col(\"positionsGained\")).over(driverWindow), 2).as(\"avgPositionsWon\"),\n",
    "        sum(col(\"positionsLost\")).over(driverWindow).as(\"totalPositionsLost\"),\n",
    "        sum(col(\"positionsGained\")).over(driverWindow).as(\"totalPositionsWon\"),\n",
    "        col(\"lapsLed\"),\n",
    "        col(\"percLapsLed\")\n",
    "    )\n",
    "\n",
    "\n",
    "    .dropDuplicates(Seq(\"code\"))\n",
    "    .sort(col(\"champPoints\").desc)\n",
    "    .show(30)"
   ]
  },
  {
   "cell_type": "code",
   "execution_count": 6,
   "id": "c2b95b19",
   "metadata": {},
   "outputs": [
    {
     "data": {
      "application/vnd.plotly.v1+json": {
       "data": [
        {
         "marker": {
          "color": "rgb(158, 202, 225)",
          "line": {
           "color": "rgb(8, 48, 107)",
           "width": 1.5
          },
          "opacity": 0.6
         },
         "text": [
          "27% market share",
          "24% market share",
          "19% market share"
         ],
         "type": "bar",
         "x": [
          "Product A",
          "Product B",
          "Product C"
         ],
         "y": [
          20,
          14,
          23
         ]
        }
       ],
       "layout": {
        "annotations": [
         {
          "showarrow": false,
          "text": "20",
          "x": "Product A",
          "xanchor": "center",
          "y": 20,
          "yanchor": "bottom"
         },
         {
          "showarrow": false,
          "text": "14",
          "x": "Product B",
          "xanchor": "center",
          "y": 14,
          "yanchor": "bottom"
         },
         {
          "showarrow": false,
          "text": "23",
          "x": "Product C",
          "xanchor": "center",
          "y": 23,
          "yanchor": "bottom"
         }
        ],
        "title": "January 2013 Sales Report"
       }
      },
      "text/html": [
       "<div class=\"chart\" id=\"plot-41be04cc-db4d-436d-a9c3-b5d102bd7222\"></div>\n",
       "<script>require(['plotly'], function(Plotly) {\n",
       "  (function () {\n",
       "  var data0 = {\"x\":[\"Product A\",\"Product B\",\"Product C\"],\"y\":[20.0,14.0,23.0],\"marker\":{\"line\":{\"color\":\"rgb(8, 48, 107)\",\"width\":1.5},\"color\":\"rgb(158, 202, 225)\",\"opacity\":0.6},\"text\":[\"27% market share\",\"24% market share\",\"19% market share\"],\"type\":\"bar\"};\n",
       "\n",
       "  var data = [data0];\n",
       "  var layout = {\"annotations\":[{\"x\":\"Product A\",\"y\":20.0,\"yanchor\":\"bottom\",\"text\":\"20\",\"showarrow\":false,\"xanchor\":\"center\"},{\"x\":\"Product B\",\"y\":14.0,\"yanchor\":\"bottom\",\"text\":\"14\",\"showarrow\":false,\"xanchor\":\"center\"},{\"x\":\"Product C\",\"y\":23.0,\"yanchor\":\"bottom\",\"text\":\"23\",\"showarrow\":false,\"xanchor\":\"center\"}],\"title\":\"January 2013 Sales Report\"};\n",
       "\n",
       "  Plotly.plot('plot-41be04cc-db4d-436d-a9c3-b5d102bd7222', data, layout);\n",
       "})();\n",
       "});\n",
       "      </script>\n",
       "           "
      ]
     },
     "metadata": {},
     "output_type": "display_data"
    },
    {
     "data": {
      "text/plain": [
       "\u001b[36mxValue\u001b[39m: \u001b[32mSeq\u001b[39m[\u001b[32mString\u001b[39m] = \u001b[33mList\u001b[39m(\u001b[32m\"Product A\"\u001b[39m, \u001b[32m\"Product B\"\u001b[39m, \u001b[32m\"Product C\"\u001b[39m)\n",
       "\u001b[36myValue\u001b[39m: \u001b[32mSeq\u001b[39m[\u001b[32mInt\u001b[39m] = \u001b[33mList\u001b[39m(\u001b[32m20\u001b[39m, \u001b[32m14\u001b[39m, \u001b[32m23\u001b[39m)\n",
       "\u001b[36mtrace1\u001b[39m: \u001b[32mBar\u001b[39m = \u001b[33mBar\u001b[39m(\n",
       "  \u001b[33mStrings\u001b[39m(\u001b[33mList\u001b[39m(\u001b[32m\"Product A\"\u001b[39m, \u001b[32m\"Product B\"\u001b[39m, \u001b[32m\"Product C\"\u001b[39m)),\n",
       "...\n",
       "\u001b[36mdata\u001b[39m: \u001b[32mSeq\u001b[39m[\u001b[32mBar\u001b[39m] = \u001b[33mList\u001b[39m(\n",
       "  \u001b[33mBar\u001b[39m(\n",
       "...\n",
       "\u001b[36mannotations\u001b[39m: \u001b[32mSeq\u001b[39m[\u001b[32mAnnotation\u001b[39m] = \u001b[33mList\u001b[39m(\n",
       "  \u001b[33mAnnotation\u001b[39m(\n",
       "...\n",
       "\u001b[36mlayout\u001b[39m: \u001b[32mLayout\u001b[39m = \u001b[33mLayout\u001b[39m(\n",
       "  \u001b[33mSome\u001b[39m(\u001b[32m\"January 2013 Sales Report\"\u001b[39m),\n",
       "...\n",
       "\u001b[36mres5_6\u001b[39m: \u001b[32mString\u001b[39m = \u001b[32m\"plot-41be04cc-db4d-436d-a9c3-b5d102bd7222\"\u001b[39m"
      ]
     },
     "execution_count": 6,
     "metadata": {},
     "output_type": "execute_result"
    }
   ],
   "source": [
    "val trace1 = Bar(\n",
    "  Seq(\"giraffes\", \"orangutans\", \"monkeys\"),\n",
    "  Seq(20, 14, 23),\n",
    "  name = \"SF Zoo\"\n",
    ")\n",
    "\n",
    "val trace2 = Bar(\n",
    "  Seq(\"giraffes\", \"orangutans\", \"monkeys\"),\n",
    "  Seq(12, 18, 29),\n",
    "  name = \"LA Zoo\"\n",
    ")\n",
    "\n",
    "val data = Seq(trace1, trace2)\n",
    "\n",
    "val layout = Layout( \n",
    "  barmode = BarMode.Group\n",
    ")\n",
    "\n",
    "plot(data, layout)"
   ]
  },
  {
   "cell_type": "code",
   "execution_count": null,
   "id": "30fd2d88",
   "metadata": {},
   "outputs": [],
   "source": []
  }
 ],
 "metadata": {
  "kernelspec": {
   "display_name": "Scala (2.12)",
   "language": "scala",
   "name": "scala212"
  },
  "language_info": {
   "codemirror_mode": "text/x-scala",
   "file_extension": ".sc",
   "mimetype": "text/x-scala",
   "name": "scala",
   "nbconvert_exporter": "script",
   "version": "2.12.12"
  }
 },
 "nbformat": 4,
 "nbformat_minor": 5
}
