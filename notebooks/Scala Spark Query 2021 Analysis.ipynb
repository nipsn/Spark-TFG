{
 "cells": [
  {
   "cell_type": "code",
   "execution_count": 1,
   "id": "cc90d563",
   "metadata": {},
   "outputs": [
    {
     "name": "stdout",
     "output_type": "stream",
     "text": [
      "Loading spark-stubs\n",
      "Getting spark JARs\n"
     ]
    },
    {
     "name": "stderr",
     "output_type": "stream",
     "text": [
      "log4j:WARN No appenders could be found for logger (org.eclipse.jetty.util.log).\n",
      "log4j:WARN Please initialize the log4j system properly.\n",
      "log4j:WARN See http://logging.apache.org/log4j/1.2/faq.html#noconfig for more info.\n"
     ]
    },
    {
     "name": "stdout",
     "output_type": "stream",
     "text": [
      "Creating SparkSession\n"
     ]
    },
    {
     "name": "stderr",
     "output_type": "stream",
     "text": [
      "Using Spark's default log4j profile: org/apache/spark/log4j-defaults.properties\n",
      "21/11/29 20:07:16 INFO SparkContext: Running Spark version 2.4.3\n",
      "21/11/29 20:07:17 WARN NativeCodeLoader: Unable to load native-hadoop library for your platform... using builtin-java classes where applicable\n",
      "21/11/29 20:07:17 INFO SparkContext: Submitted application: 6de845dd-81a7-4c91-9a9d-ee8cf2f24bea\n",
      "21/11/29 20:07:17 INFO SecurityManager: Changing view acls to: oscar\n",
      "21/11/29 20:07:17 INFO SecurityManager: Changing modify acls to: oscar\n",
      "21/11/29 20:07:17 INFO SecurityManager: Changing view acls groups to: \n",
      "21/11/29 20:07:17 INFO SecurityManager: Changing modify acls groups to: \n",
      "21/11/29 20:07:17 INFO SecurityManager: SecurityManager: authentication disabled; ui acls disabled; users  with view permissions: Set(oscar); groups with view permissions: Set(); users  with modify permissions: Set(oscar); groups with modify permissions: Set()\n",
      "21/11/29 20:07:17 INFO Utils: Successfully started service 'sparkDriver' on port 46861.\n",
      "21/11/29 20:07:17 INFO SparkEnv: Registering MapOutputTracker\n",
      "21/11/29 20:07:17 INFO SparkEnv: Registering BlockManagerMaster\n",
      "21/11/29 20:07:17 INFO BlockManagerMasterEndpoint: Using org.apache.spark.storage.DefaultTopologyMapper for getting topology information\n",
      "21/11/29 20:07:17 INFO BlockManagerMasterEndpoint: BlockManagerMasterEndpoint up\n",
      "21/11/29 20:07:17 INFO DiskBlockManager: Created local directory at /tmp/blockmgr-fa26a49c-f256-47a0-b581-10c12622c851\n",
      "21/11/29 20:07:17 INFO MemoryStore: MemoryStore started with capacity 1956.6 MB\n",
      "21/11/29 20:07:17 INFO SparkEnv: Registering OutputCommitCoordinator\n",
      "21/11/29 20:07:17 INFO Utils: Successfully started service 'SparkUI' on port 4041.\n",
      "21/11/29 20:07:17 INFO SparkUI: Bound SparkUI to 0.0.0.0, and started at http://netrunner:4041\n",
      "21/11/29 20:07:17 INFO SparkContext: Added JAR file:/home/oscar/.cache/coursier/v1/https/jitpack.io/com/github/jupyter/jvm-repr/0.4.0/jvm-repr-0.4.0-sources.jar at spark://netrunner:46861/jars/jvm-repr-0.4.0-sources.jar with timestamp 1638212837952\n",
      "21/11/29 20:07:17 INFO SparkContext: Added JAR file:/home/oscar/.cache/coursier/v1/https/jitpack.io/com/github/jupyter/jvm-repr/0.4.0/jvm-repr-0.4.0.jar at spark://netrunner:46861/jars/jvm-repr-0.4.0.jar with timestamp 1638212837953\n",
      "21/11/29 20:07:17 INFO SparkContext: Added JAR file:/home/oscar/.cache/coursier/v1/https/repo1.maven.org/maven2/com/github/javaparser/javaparser-core/3.2.5/javaparser-core-3.2.5-sources.jar at spark://netrunner:46861/jars/javaparser-core-3.2.5-sources.jar with timestamp 1638212837954\n",
      "21/11/29 20:07:17 INFO SparkContext: Added JAR file:/home/oscar/.cache/coursier/v1/https/repo1.maven.org/maven2/com/github/javaparser/javaparser-core/3.2.5/javaparser-core-3.2.5.jar at spark://netrunner:46861/jars/javaparser-core-3.2.5.jar with timestamp 1638212837954\n",
      "21/11/29 20:07:17 INFO SparkContext: Added JAR file:/home/oscar/.cache/coursier/v1/https/repo1.maven.org/maven2/com/lihaoyi/ammonite-compiler-interface_2.12/2.3.8-36-1cce53f3/ammonite-compiler-interface_2.12-2.3.8-36-1cce53f3-sources.jar at spark://netrunner:46861/jars/ammonite-compiler-interface_2.12-2.3.8-36-1cce53f3-sources.jar with timestamp 1638212837954\n",
      "21/11/29 20:07:17 INFO SparkContext: Added JAR file:/home/oscar/.cache/coursier/v1/https/repo1.maven.org/maven2/com/lihaoyi/ammonite-compiler-interface_2.12/2.3.8-36-1cce53f3/ammonite-compiler-interface_2.12-2.3.8-36-1cce53f3.jar at spark://netrunner:46861/jars/ammonite-compiler-interface_2.12-2.3.8-36-1cce53f3.jar with timestamp 1638212837954\n",
      "21/11/29 20:07:17 INFO SparkContext: Added JAR file:/home/oscar/.cache/coursier/v1/https/repo1.maven.org/maven2/com/lihaoyi/ammonite-compiler_2.12.12/2.3.8-36-1cce53f3/ammonite-compiler_2.12.12-2.3.8-36-1cce53f3-sources.jar at spark://netrunner:46861/jars/ammonite-compiler_2.12.12-2.3.8-36-1cce53f3-sources.jar with timestamp 1638212837954\n",
      "21/11/29 20:07:17 INFO SparkContext: Added JAR file:/home/oscar/.cache/coursier/v1/https/repo1.maven.org/maven2/com/lihaoyi/ammonite-compiler_2.12.12/2.3.8-36-1cce53f3/ammonite-compiler_2.12.12-2.3.8-36-1cce53f3.jar at spark://netrunner:46861/jars/ammonite-compiler_2.12.12-2.3.8-36-1cce53f3.jar with timestamp 1638212837955\n",
      "21/11/29 20:07:17 INFO SparkContext: Added JAR file:/home/oscar/.cache/coursier/v1/https/repo1.maven.org/maven2/com/lihaoyi/ammonite-interp-api_2.12.12/2.3.8-36-1cce53f3/ammonite-interp-api_2.12.12-2.3.8-36-1cce53f3-sources.jar at spark://netrunner:46861/jars/ammonite-interp-api_2.12.12-2.3.8-36-1cce53f3-sources.jar with timestamp 1638212837955\n",
      "21/11/29 20:07:17 INFO SparkContext: Added JAR file:/home/oscar/.cache/coursier/v1/https/repo1.maven.org/maven2/com/lihaoyi/ammonite-interp-api_2.12.12/2.3.8-36-1cce53f3/ammonite-interp-api_2.12.12-2.3.8-36-1cce53f3.jar at spark://netrunner:46861/jars/ammonite-interp-api_2.12.12-2.3.8-36-1cce53f3.jar with timestamp 1638212837955\n",
      "21/11/29 20:07:17 INFO SparkContext: Added JAR file:/home/oscar/.cache/coursier/v1/https/repo1.maven.org/maven2/com/lihaoyi/ammonite-ops_2.12/2.3.8-36-1cce53f3/ammonite-ops_2.12-2.3.8-36-1cce53f3-sources.jar at spark://netrunner:46861/jars/ammonite-ops_2.12-2.3.8-36-1cce53f3-sources.jar with timestamp 1638212837955\n",
      "21/11/29 20:07:17 INFO SparkContext: Added JAR file:/home/oscar/.cache/coursier/v1/https/repo1.maven.org/maven2/com/lihaoyi/ammonite-ops_2.12/2.3.8-36-1cce53f3/ammonite-ops_2.12-2.3.8-36-1cce53f3.jar at spark://netrunner:46861/jars/ammonite-ops_2.12-2.3.8-36-1cce53f3.jar with timestamp 1638212837955\n",
      "21/11/29 20:07:17 INFO SparkContext: Added JAR file:/home/oscar/.cache/coursier/v1/https/repo1.maven.org/maven2/com/lihaoyi/ammonite-repl-api_2.12.12/2.3.8-36-1cce53f3/ammonite-repl-api_2.12.12-2.3.8-36-1cce53f3-sources.jar at spark://netrunner:46861/jars/ammonite-repl-api_2.12.12-2.3.8-36-1cce53f3-sources.jar with timestamp 1638212837956\n",
      "21/11/29 20:07:17 INFO SparkContext: Added JAR file:/home/oscar/.cache/coursier/v1/https/repo1.maven.org/maven2/com/lihaoyi/ammonite-repl-api_2.12.12/2.3.8-36-1cce53f3/ammonite-repl-api_2.12.12-2.3.8-36-1cce53f3.jar at spark://netrunner:46861/jars/ammonite-repl-api_2.12.12-2.3.8-36-1cce53f3.jar with timestamp 1638212837956\n",
      "21/11/29 20:07:17 INFO SparkContext: Added JAR file:/home/oscar/.cache/coursier/v1/https/repo1.maven.org/maven2/com/lihaoyi/ammonite-util_2.12/2.3.8-36-1cce53f3/ammonite-util_2.12-2.3.8-36-1cce53f3-sources.jar at spark://netrunner:46861/jars/ammonite-util_2.12-2.3.8-36-1cce53f3-sources.jar with timestamp 1638212837956\n",
      "21/11/29 20:07:17 INFO SparkContext: Added JAR file:/home/oscar/.cache/coursier/v1/https/repo1.maven.org/maven2/com/lihaoyi/ammonite-util_2.12/2.3.8-36-1cce53f3/ammonite-util_2.12-2.3.8-36-1cce53f3.jar at spark://netrunner:46861/jars/ammonite-util_2.12-2.3.8-36-1cce53f3.jar with timestamp 1638212837956\n",
      "21/11/29 20:07:17 INFO SparkContext: Added JAR file:/home/oscar/.cache/coursier/v1/https/repo1.maven.org/maven2/com/lihaoyi/fansi_2.12/0.2.9/fansi_2.12-0.2.9-sources.jar at spark://netrunner:46861/jars/fansi_2.12-0.2.9-sources.jar with timestamp 1638212837956\n",
      "21/11/29 20:07:17 INFO SparkContext: Added JAR file:/home/oscar/.cache/coursier/v1/https/repo1.maven.org/maven2/com/lihaoyi/fansi_2.12/0.2.9/fansi_2.12-0.2.9.jar at spark://netrunner:46861/jars/fansi_2.12-0.2.9.jar with timestamp 1638212837957\n",
      "21/11/29 20:07:17 INFO SparkContext: Added JAR file:/home/oscar/.cache/coursier/v1/https/repo1.maven.org/maven2/com/lihaoyi/fastparse_2.12/2.3.0/fastparse_2.12-2.3.0-sources.jar at spark://netrunner:46861/jars/fastparse_2.12-2.3.0-sources.jar with timestamp 1638212837957\n",
      "21/11/29 20:07:17 INFO SparkContext: Added JAR file:/home/oscar/.cache/coursier/v1/https/repo1.maven.org/maven2/com/lihaoyi/fastparse_2.12/2.3.0/fastparse_2.12-2.3.0.jar at spark://netrunner:46861/jars/fastparse_2.12-2.3.0.jar with timestamp 1638212837957\n",
      "21/11/29 20:07:17 INFO SparkContext: Added JAR file:/home/oscar/.cache/coursier/v1/https/repo1.maven.org/maven2/com/lihaoyi/geny_2.12/0.6.7/geny_2.12-0.6.7-sources.jar at spark://netrunner:46861/jars/geny_2.12-0.6.7-sources.jar with timestamp 1638212837957\n",
      "21/11/29 20:07:17 INFO SparkContext: Added JAR file:/home/oscar/.cache/coursier/v1/https/repo1.maven.org/maven2/com/lihaoyi/geny_2.12/0.6.7/geny_2.12-0.6.7.jar at spark://netrunner:46861/jars/geny_2.12-0.6.7.jar with timestamp 1638212837957\n"
     ]
    },
    {
     "name": "stderr",
     "output_type": "stream",
     "text": [
      "21/11/29 20:07:17 INFO SparkContext: Added JAR file:/home/oscar/.cache/coursier/v1/https/repo1.maven.org/maven2/com/lihaoyi/mainargs_2.12/0.1.4/mainargs_2.12-0.1.4-sources.jar at spark://netrunner:46861/jars/mainargs_2.12-0.1.4-sources.jar with timestamp 1638212837958\n",
      "21/11/29 20:07:17 INFO SparkContext: Added JAR file:/home/oscar/.cache/coursier/v1/https/repo1.maven.org/maven2/com/lihaoyi/mainargs_2.12/0.1.4/mainargs_2.12-0.1.4.jar at spark://netrunner:46861/jars/mainargs_2.12-0.1.4.jar with timestamp 1638212837958\n",
      "21/11/29 20:07:17 INFO SparkContext: Added JAR file:/home/oscar/.cache/coursier/v1/https/repo1.maven.org/maven2/com/lihaoyi/os-lib_2.12/0.7.1/os-lib_2.12-0.7.1-sources.jar at spark://netrunner:46861/jars/os-lib_2.12-0.7.1-sources.jar with timestamp 1638212837958\n",
      "21/11/29 20:07:17 INFO SparkContext: Added JAR file:/home/oscar/.cache/coursier/v1/https/repo1.maven.org/maven2/com/lihaoyi/os-lib_2.12/0.7.1/os-lib_2.12-0.7.1.jar at spark://netrunner:46861/jars/os-lib_2.12-0.7.1.jar with timestamp 1638212837958\n",
      "21/11/29 20:07:17 INFO SparkContext: Added JAR file:/home/oscar/.cache/coursier/v1/https/repo1.maven.org/maven2/com/lihaoyi/pprint_2.12/0.6.0/pprint_2.12-0.6.0-sources.jar at spark://netrunner:46861/jars/pprint_2.12-0.6.0-sources.jar with timestamp 1638212837958\n",
      "21/11/29 20:07:17 INFO SparkContext: Added JAR file:/home/oscar/.cache/coursier/v1/https/repo1.maven.org/maven2/com/lihaoyi/pprint_2.12/0.6.0/pprint_2.12-0.6.0.jar at spark://netrunner:46861/jars/pprint_2.12-0.6.0.jar with timestamp 1638212837958\n",
      "21/11/29 20:07:17 INFO SparkContext: Added JAR file:/home/oscar/.cache/coursier/v1/https/repo1.maven.org/maven2/com/lihaoyi/scalaparse_2.12/2.3.0/scalaparse_2.12-2.3.0-sources.jar at spark://netrunner:46861/jars/scalaparse_2.12-2.3.0-sources.jar with timestamp 1638212837959\n",
      "21/11/29 20:07:17 INFO SparkContext: Added JAR file:/home/oscar/.cache/coursier/v1/https/repo1.maven.org/maven2/com/lihaoyi/scalaparse_2.12/2.3.0/scalaparse_2.12-2.3.0.jar at spark://netrunner:46861/jars/scalaparse_2.12-2.3.0.jar with timestamp 1638212837959\n",
      "21/11/29 20:07:17 INFO SparkContext: Added JAR file:/home/oscar/.cache/coursier/v1/https/repo1.maven.org/maven2/com/lihaoyi/sourcecode_2.12/0.2.3/sourcecode_2.12-0.2.3-sources.jar at spark://netrunner:46861/jars/sourcecode_2.12-0.2.3-sources.jar with timestamp 1638212837959\n",
      "21/11/29 20:07:17 INFO SparkContext: Added JAR file:/home/oscar/.cache/coursier/v1/https/repo1.maven.org/maven2/com/lihaoyi/sourcecode_2.12/0.2.3/sourcecode_2.12-0.2.3.jar at spark://netrunner:46861/jars/sourcecode_2.12-0.2.3.jar with timestamp 1638212837959\n",
      "21/11/29 20:07:17 INFO SparkContext: Added JAR file:/home/oscar/.cache/coursier/v1/https/repo1.maven.org/maven2/io/get-coursier/interface/1.0.3/interface-1.0.3-sources.jar at spark://netrunner:46861/jars/interface-1.0.3-sources.jar with timestamp 1638212837959\n",
      "21/11/29 20:07:17 INFO SparkContext: Added JAR file:/home/oscar/.cache/coursier/v1/https/repo1.maven.org/maven2/io/get-coursier/interface/1.0.3/interface-1.0.3.jar at spark://netrunner:46861/jars/interface-1.0.3.jar with timestamp 1638212837959\n",
      "21/11/29 20:07:17 INFO SparkContext: Added JAR file:/home/oscar/.cache/coursier/v1/https/repo1.maven.org/maven2/org/javassist/javassist/3.21.0-GA/javassist-3.21.0-GA-sources.jar at spark://netrunner:46861/jars/javassist-3.21.0-GA-sources.jar with timestamp 1638212837959\n",
      "21/11/29 20:07:17 INFO SparkContext: Added JAR file:/home/oscar/.cache/coursier/v1/https/repo1.maven.org/maven2/org/javassist/javassist/3.21.0-GA/javassist-3.21.0-GA.jar at spark://netrunner:46861/jars/javassist-3.21.0-GA.jar with timestamp 1638212837960\n",
      "21/11/29 20:07:17 INFO SparkContext: Added JAR file:/home/oscar/.cache/coursier/v1/https/repo1.maven.org/maven2/org/scala-lang/modules/scala-collection-compat_2.12/2.4.3/scala-collection-compat_2.12-2.4.3-sources.jar at spark://netrunner:46861/jars/scala-collection-compat_2.12-2.4.3-sources.jar with timestamp 1638212837960\n",
      "21/11/29 20:07:17 INFO SparkContext: Added JAR file:/home/oscar/.cache/coursier/v1/https/repo1.maven.org/maven2/org/scala-lang/modules/scala-collection-compat_2.12/2.4.3/scala-collection-compat_2.12-2.4.3.jar at spark://netrunner:46861/jars/scala-collection-compat_2.12-2.4.3.jar with timestamp 1638212837960\n",
      "21/11/29 20:07:17 INFO SparkContext: Added JAR file:/home/oscar/.cache/coursier/v1/https/repo1.maven.org/maven2/org/scala-lang/modules/scala-xml_2.12/2.0.0-M3/scala-xml_2.12-2.0.0-M3-sources.jar at spark://netrunner:46861/jars/scala-xml_2.12-2.0.0-M3-sources.jar with timestamp 1638212837960\n",
      "21/11/29 20:07:17 INFO SparkContext: Added JAR file:/home/oscar/.cache/coursier/v1/https/repo1.maven.org/maven2/org/scala-lang/modules/scala-xml_2.12/2.0.0-M3/scala-xml_2.12-2.0.0-M3.jar at spark://netrunner:46861/jars/scala-xml_2.12-2.0.0-M3.jar with timestamp 1638212837960\n",
      "21/11/29 20:07:17 INFO SparkContext: Added JAR file:/home/oscar/.cache/coursier/v1/https/repo1.maven.org/maven2/org/scala-lang/scala-compiler/2.12.12/scala-compiler-2.12.12-sources.jar at spark://netrunner:46861/jars/scala-compiler-2.12.12-sources.jar with timestamp 1638212837960\n",
      "21/11/29 20:07:17 INFO SparkContext: Added JAR file:/home/oscar/.cache/coursier/v1/https/repo1.maven.org/maven2/org/scala-lang/scala-library/2.12.12/scala-library-2.12.12-sources.jar at spark://netrunner:46861/jars/scala-library-2.12.12-sources.jar with timestamp 1638212837961\n",
      "21/11/29 20:07:17 INFO SparkContext: Added JAR file:/home/oscar/.cache/coursier/v1/https/repo1.maven.org/maven2/org/scala-lang/scala-reflect/2.12.12/scala-reflect-2.12.12-sources.jar at spark://netrunner:46861/jars/scala-reflect-2.12.12-sources.jar with timestamp 1638212837961\n",
      "21/11/29 20:07:17 INFO SparkContext: Added JAR file:/home/oscar/.cache/coursier/v1/https/repo1.maven.org/maven2/sh/almond/interpreter-api_2.12/0.11.2/interpreter-api_2.12-0.11.2-sources.jar at spark://netrunner:46861/jars/interpreter-api_2.12-0.11.2-sources.jar with timestamp 1638212837961\n",
      "21/11/29 20:07:17 INFO SparkContext: Added JAR file:/home/oscar/.cache/coursier/v1/https/repo1.maven.org/maven2/sh/almond/interpreter-api_2.12/0.11.2/interpreter-api_2.12-0.11.2.jar at spark://netrunner:46861/jars/interpreter-api_2.12-0.11.2.jar with timestamp 1638212837961\n",
      "21/11/29 20:07:17 INFO SparkContext: Added JAR file:/home/oscar/.cache/coursier/v1/https/repo1.maven.org/maven2/sh/almond/jupyter-api_2.12/0.11.2/jupyter-api_2.12-0.11.2-sources.jar at spark://netrunner:46861/jars/jupyter-api_2.12-0.11.2-sources.jar with timestamp 1638212837961\n",
      "21/11/29 20:07:17 INFO SparkContext: Added JAR file:/home/oscar/.cache/coursier/v1/https/repo1.maven.org/maven2/sh/almond/jupyter-api_2.12/0.11.2/jupyter-api_2.12-0.11.2.jar at spark://netrunner:46861/jars/jupyter-api_2.12-0.11.2.jar with timestamp 1638212837961\n",
      "21/11/29 20:07:17 INFO SparkContext: Added JAR file:/home/oscar/.cache/coursier/v1/https/repo1.maven.org/maven2/sh/almond/scala-kernel-api_2.12.12/0.11.2/scala-kernel-api_2.12.12-0.11.2-sources.jar at spark://netrunner:46861/jars/scala-kernel-api_2.12.12-0.11.2-sources.jar with timestamp 1638212837961\n",
      "21/11/29 20:07:17 INFO SparkContext: Added JAR file:/home/oscar/.cache/coursier/v1/https/repo1.maven.org/maven2/sh/almond/scala-kernel-api_2.12.12/0.11.2/scala-kernel-api_2.12.12-0.11.2.jar at spark://netrunner:46861/jars/scala-kernel-api_2.12.12-0.11.2.jar with timestamp 1638212837962\n",
      "21/11/29 20:07:17 INFO SparkContext: Added JAR file:/home/oscar/.local/share/jupyter/kernels/scala212/launcher.jar at spark://netrunner:46861/jars/launcher.jar with timestamp 1638212837962\n",
      "21/11/29 20:07:17 INFO SparkContext: Added JAR file:/home/oscar/.cache/coursier/v1/https/repo1.maven.org/maven2/org/scala-lang/scala-library/2.12.13/scala-library-2.12.13.jar at spark://netrunner:46861/jars/scala-library-2.12.13.jar with timestamp 1638212837962\n",
      "21/11/29 20:07:17 INFO SparkContext: Added JAR file:/home/oscar/.cache/coursier/v1/https/repo1.maven.org/maven2/sh/almond/almond-spark_2.12/0.6.0/almond-spark_2.12-0.6.0.jar at spark://netrunner:46861/jars/almond-spark_2.12-0.6.0.jar with timestamp 1638212837962\n",
      "21/11/29 20:07:17 INFO SparkContext: Added JAR file:/home/oscar/.cache/coursier/v1/https/repo1.maven.org/maven2/sh/almond/ammonite-spark_2.12/0.5.0/ammonite-spark_2.12-0.5.0.jar at spark://netrunner:46861/jars/ammonite-spark_2.12-0.5.0.jar with timestamp 1638212837962\n"
     ]
    },
    {
     "name": "stderr",
     "output_type": "stream",
     "text": [
      "21/11/29 20:07:17 INFO SparkContext: Added JAR file:/home/oscar/.cache/coursier/v1/https/repo1.maven.org/maven2/com/github/alexarchambault/argonaut-shapeless_6.2_2.12/1.2.0-M11/argonaut-shapeless_6.2_2.12-1.2.0-M11.jar at spark://netrunner:46861/jars/argonaut-shapeless_6.2_2.12-1.2.0-M11.jar with timestamp 1638212837963\n",
      "21/11/29 20:07:17 INFO SparkContext: Added JAR file:/home/oscar/.cache/coursier/v1/https/repo1.maven.org/maven2/org/eclipse/jetty/jetty-server/9.4.19.v20190610/jetty-server-9.4.19.v20190610.jar at spark://netrunner:46861/jars/jetty-server-9.4.19.v20190610.jar with timestamp 1638212837963\n",
      "21/11/29 20:07:17 INFO SparkContext: Added JAR file:/home/oscar/.cache/coursier/v1/https/repo1.maven.org/maven2/io/argonaut/argonaut_2.12/6.2.3/argonaut_2.12-6.2.3.jar at spark://netrunner:46861/jars/argonaut_2.12-6.2.3.jar with timestamp 1638212837963\n",
      "21/11/29 20:07:17 INFO SparkContext: Added JAR file:/home/oscar/.cache/coursier/v1/https/repo1.maven.org/maven2/com/chuusai/shapeless_2.12/2.3.3/shapeless_2.12-2.3.3.jar at spark://netrunner:46861/jars/shapeless_2.12-2.3.3.jar with timestamp 1638212837963\n",
      "21/11/29 20:07:17 INFO SparkContext: Added JAR file:/home/oscar/.cache/coursier/v1/https/repo1.maven.org/maven2/org/eclipse/jetty/jetty-http/9.4.19.v20190610/jetty-http-9.4.19.v20190610.jar at spark://netrunner:46861/jars/jetty-http-9.4.19.v20190610.jar with timestamp 1638212837963\n",
      "21/11/29 20:07:17 INFO SparkContext: Added JAR file:/home/oscar/.cache/coursier/v1/https/repo1.maven.org/maven2/org/eclipse/jetty/jetty-io/9.4.19.v20190610/jetty-io-9.4.19.v20190610.jar at spark://netrunner:46861/jars/jetty-io-9.4.19.v20190610.jar with timestamp 1638212837963\n",
      "21/11/29 20:07:17 INFO SparkContext: Added JAR file:/home/oscar/.cache/coursier/v1/https/repo1.maven.org/maven2/org/typelevel/macro-compat_2.12/1.1.1/macro-compat_2.12-1.1.1.jar at spark://netrunner:46861/jars/macro-compat_2.12-1.1.1.jar with timestamp 1638212837964\n",
      "21/11/29 20:07:17 INFO SparkContext: Added JAR file:/home/oscar/.cache/coursier/v1/https/repo1.maven.org/maven2/org/eclipse/jetty/jetty-util/9.4.19.v20190610/jetty-util-9.4.19.v20190610.jar at spark://netrunner:46861/jars/jetty-util-9.4.19.v20190610.jar with timestamp 1638212837964\n",
      "21/11/29 20:07:18 INFO Executor: Starting executor ID driver on host localhost\n",
      "21/11/29 20:07:18 INFO Executor: Using REPL class URI: http://192.168.1.228:43073\n",
      "21/11/29 20:07:18 INFO Utils: Successfully started service 'org.apache.spark.network.netty.NettyBlockTransferService' on port 32789.\n",
      "21/11/29 20:07:18 INFO NettyBlockTransferService: Server created on netrunner:32789\n",
      "21/11/29 20:07:18 INFO BlockManager: Using org.apache.spark.storage.RandomBlockReplicationPolicy for block replication policy\n",
      "21/11/29 20:07:18 INFO BlockManagerMaster: Registering BlockManager BlockManagerId(driver, netrunner, 32789, None)\n",
      "21/11/29 20:07:18 INFO BlockManagerMasterEndpoint: Registering block manager netrunner:32789 with 1956.6 MB RAM, BlockManagerId(driver, netrunner, 32789, None)\n",
      "21/11/29 20:07:18 INFO BlockManagerMaster: Registered BlockManager BlockManagerId(driver, netrunner, 32789, None)\n",
      "21/11/29 20:07:18 INFO BlockManager: Initialized BlockManager: BlockManagerId(driver, netrunner, 32789, None)\n"
     ]
    },
    {
     "data": {
      "text/html": [
       "<a target=\"_blank\" href=\"http://netrunner:4041\">Spark UI</a>"
      ]
     },
     "metadata": {},
     "output_type": "display_data"
    },
    {
     "data": {
      "text/plain": [
       "\u001b[32mimport \u001b[39m\u001b[36m$ivy.$                                  \n",
       "\u001b[39m\n",
       "\u001b[32mimport \u001b[39m\u001b[36m$ivy.$                              \n",
       "\n",
       "\u001b[39m\n",
       "\u001b[32mimport \u001b[39m\u001b[36morg.apache.spark._\n",
       "\u001b[39m\n",
       "\u001b[32mimport \u001b[39m\u001b[36morg.apache.spark.sql.{functions => func, _}\n",
       "\u001b[39m\n",
       "\u001b[32mimport \u001b[39m\u001b[36morg.apache.spark.sql.functions._\n",
       "\u001b[39m\n",
       "\u001b[32mimport \u001b[39m\u001b[36morg.apache.spark.sql.types._\n",
       "\n",
       "\u001b[39m\n",
       "\u001b[32mimport \u001b[39m\u001b[36morg.slf4j.LoggerFactory\n",
       "\u001b[39m\n",
       "\u001b[32mimport \u001b[39m\u001b[36morg.apache.log4j.{Level, Logger}\n",
       "\n",
       "\u001b[39m\n",
       "\u001b[36mspark\u001b[39m: \u001b[32mSparkSession\u001b[39m = org.apache.spark.sql.SparkSession@6d146ef3\n",
       "\u001b[32mimport \u001b[39m\u001b[36mspark.implicits._\n",
       "\n",
       "\u001b[39m\n",
       "defined \u001b[32mfunction\u001b[39m \u001b[36mrun\u001b[39m"
      ]
     },
     "execution_count": 1,
     "metadata": {},
     "output_type": "execute_result"
    }
   ],
   "source": [
    "import $ivy.`org.apache.spark::spark-sql:2.4.3`\n",
    "import $ivy.`sh.almond::almond-spark:0.6.0`\n",
    "\n",
    "import org.apache.spark._\n",
    "import org.apache.spark.sql.{functions => func, _}\n",
    "import org.apache.spark.sql.functions._\n",
    "import org.apache.spark.sql.types._\n",
    "\n",
    "import org.slf4j.LoggerFactory\n",
    "import org.apache.log4j.{Level, Logger}\n",
    "\n",
    "val spark = NotebookSparkSession\n",
    "      .builder()\n",
    "      .config(\"spark.sql.join.preferSortMergeJoin\", false)\n",
    "      .config(\"spark.sql.shuffle.partitions\", 64)\n",
    "      .master(\"local[*]\")\n",
    "      .getOrCreate()\n",
    "\n",
    "import spark.implicits._\n",
    "\n",
    "Logger.getRootLogger().setLevel(Level.ERROR)\n",
    "\n",
    "def run[A](code: => A): A = {\n",
    "    val start = System.currentTimeMillis()\n",
    "    val res = code\n",
    "    println(s\"Took ${System.currentTimeMillis() - start}\")\n",
    "    res\n",
    "}"
   ]
  },
  {
   "cell_type": "code",
   "execution_count": 2,
   "id": "e2be4ff4",
   "metadata": {},
   "outputs": [
    {
     "data": {
      "text/plain": [
       "\u001b[32mimport \u001b[39m\u001b[36morg.apache.spark.sql.expressions.Window\u001b[39m"
      ]
     },
     "execution_count": 2,
     "metadata": {},
     "output_type": "execute_result"
    }
   ],
   "source": [
    "import org.apache.spark.sql.expressions.Window"
   ]
  },
  {
   "cell_type": "code",
   "execution_count": 21,
   "id": "b3c50658",
   "metadata": {},
   "outputs": [
    {
     "data": {
      "text/html": [
       "<div>\n",
       "  <span style=\"float: left;\">load at cmd20.sc:4</span>\n",
       "</div>\n"
      ]
     },
     "metadata": {},
     "output_type": "display_data"
    },
    {
     "data": {
      "text/html": [
       "<div class=\"progress\">\n",
       "  <div class=\"progress-bar\" role=\"progressbar\" style=\"background-color: blue; width: 100%; word-wrap: normal; white-space: nowrap; text-align: center; color: white\" aria-valuenow=\"100\" aria-valuemin=\"0\" aria-valuemax=\"100\">\n",
       "    1 / 1\n",
       "  </div>\n",
       "  <div class=\"progress-bar\" role=\"progressbar\" style=\"background-color: red; width: 0%\" aria-valuenow=\"0\" aria-valuemin=\"0\" aria-valuemax=\"100\"></div>\n",
       "</div>\n"
      ]
     },
     "metadata": {},
     "output_type": "display_data"
    },
    {
     "data": {
      "text/plain": [
       "\u001b[36mdrivers\u001b[39m: \u001b[32mDataFrame\u001b[39m = [driverId: string, driverRef: string ... 7 more fields]"
      ]
     },
     "execution_count": 21,
     "metadata": {},
     "output_type": "execute_result"
    }
   ],
   "source": [
    "val drivers = spark.read.format(\"csv\")\n",
    "    .option(\"header\", \"true\")\n",
    "    .option(\"sep\", \",\")\n",
    "    .load(\"../data/drivers.csv\")"
   ]
  },
  {
   "cell_type": "code",
   "execution_count": 3,
   "id": "950883cf",
   "metadata": {},
   "outputs": [
    {
     "data": {
      "text/html": [
       "<script>\n",
       "var comm = Jupyter.notebook.kernel.comm_manager.new_comm('cancel-stage-50c96a84-cca3-40a5-85a3-4f8216f560aa', {});\n",
       "\n",
       "function cancelStage(stageId) {\n",
       "  console.log('Cancelling stage ' + stageId);\n",
       "  comm.send({ 'stageId': stageId });\n",
       "}\n",
       "</script>\n",
       "          "
      ]
     },
     "metadata": {},
     "output_type": "display_data"
    },
    {
     "data": {
      "text/html": [
       "<div>\n",
       "  <span style=\"float: left;\">load at cmd2.sc:4</span>\n",
       "</div>\n"
      ]
     },
     "metadata": {},
     "output_type": "display_data"
    },
    {
     "data": {
      "text/html": [
       "<div class=\"progress\">\n",
       "  <div class=\"progress-bar\" role=\"progressbar\" style=\"background-color: blue; width: 100%; word-wrap: normal; white-space: nowrap; text-align: center; color: white\" aria-valuenow=\"100\" aria-valuemin=\"0\" aria-valuemax=\"100\">\n",
       "    1 / 1\n",
       "  </div>\n",
       "  <div class=\"progress-bar\" role=\"progressbar\" style=\"background-color: red; width: 0%\" aria-valuenow=\"0\" aria-valuemin=\"0\" aria-valuemax=\"100\"></div>\n",
       "</div>\n"
      ]
     },
     "metadata": {},
     "output_type": "display_data"
    },
    {
     "data": {
      "text/plain": [
       "\u001b[36mraces\u001b[39m: \u001b[32mDataset\u001b[39m[\u001b[32mRow\u001b[39m] = [raceId: string, year: string]"
      ]
     },
     "execution_count": 3,
     "metadata": {},
     "output_type": "execute_result"
    }
   ],
   "source": [
    "val races = spark.read.format(\"csv\")\n",
    "    .option(\"header\", \"true\")\n",
    "    .option(\"sep\", \",\")\n",
    "    .load(\"../data/races.csv\")\n",
    "    .select(\"raceId\", \"year\")\n",
    "    .where(col(\"year\") === 2021)"
   ]
  },
  {
   "cell_type": "code",
   "execution_count": 9,
   "id": "9cbb4438",
   "metadata": {},
   "outputs": [
    {
     "data": {
      "text/plain": [
       "\u001b[36mdriverWindow\u001b[39m: \u001b[32mexpressions\u001b[39m.\u001b[32mWindowSpec\u001b[39m = org.apache.spark.sql.expressions.WindowSpec@2884d4c3\n",
       "\u001b[36mseasonWindow\u001b[39m: \u001b[32mexpressions\u001b[39m.\u001b[32mWindowSpec\u001b[39m = org.apache.spark.sql.expressions.WindowSpec@72aa5cd2"
      ]
     },
     "execution_count": 9,
     "metadata": {},
     "output_type": "execute_result"
    }
   ],
   "source": [
    "val driverWindow = Window.partitionBy(\"driverId\")\n",
    "val seasonWindow = Window.partitionBy(\"year\")"
   ]
  },
  {
   "cell_type": "code",
   "execution_count": 29,
   "id": "e075a7a6",
   "metadata": {},
   "outputs": [
    {
     "data": {
      "text/plain": [
       "\u001b[36mraceDriverLapWindow\u001b[39m: \u001b[32mexpressions\u001b[39m.\u001b[32mWindowSpec\u001b[39m = org.apache.spark.sql.expressions.WindowSpec@efb5892"
      ]
     },
     "execution_count": 29,
     "metadata": {},
     "output_type": "execute_result"
    }
   ],
   "source": [
    "val raceDriverLapWindow = Window.partitionBy(\"driverId\", \"raceId\").orderBy(\"lap\")"
   ]
  },
  {
   "cell_type": "code",
   "execution_count": 34,
   "id": "f40ca7e2",
   "metadata": {},
   "outputs": [
    {
     "data": {
      "text/html": [
       "<div>\n",
       "  <span style=\"float: left;\">load at cmd33.sc:4</span>\n",
       "</div>\n"
      ]
     },
     "metadata": {},
     "output_type": "display_data"
    },
    {
     "data": {
      "text/html": [
       "<div class=\"progress\">\n",
       "  <div class=\"progress-bar\" role=\"progressbar\" style=\"background-color: blue; width: 100%; word-wrap: normal; white-space: nowrap; text-align: center; color: white\" aria-valuenow=\"100\" aria-valuemin=\"0\" aria-valuemax=\"100\">\n",
       "    1 / 1\n",
       "  </div>\n",
       "  <div class=\"progress-bar\" role=\"progressbar\" style=\"background-color: red; width: 0%\" aria-valuenow=\"0\" aria-valuemin=\"0\" aria-valuemax=\"100\"></div>\n",
       "</div>\n"
      ]
     },
     "metadata": {},
     "output_type": "display_data"
    },
    {
     "data": {
      "text/html": [
       "<div>\n",
       "  <span style=\"float: left;\">run at ThreadPoolExecutor.java:1149</span>\n",
       "</div>\n"
      ]
     },
     "metadata": {},
     "output_type": "display_data"
    },
    {
     "data": {
      "text/html": [
       "<div class=\"progress\">\n",
       "  <div class=\"progress-bar\" role=\"progressbar\" style=\"background-color: blue; width: 100%; word-wrap: normal; white-space: nowrap; text-align: center; color: white\" aria-valuenow=\"100\" aria-valuemin=\"0\" aria-valuemax=\"100\">\n",
       "    1 / 1\n",
       "  </div>\n",
       "  <div class=\"progress-bar\" role=\"progressbar\" style=\"background-color: red; width: 0%\" aria-valuenow=\"0\" aria-valuemin=\"0\" aria-valuemax=\"100\"></div>\n",
       "</div>\n"
      ]
     },
     "metadata": {},
     "output_type": "display_data"
    },
    {
     "data": {
      "text/html": [
       "<div>\n",
       "  <span style=\"float: left;\">show at cmd33.sc:12</span>\n",
       "</div>\n"
      ]
     },
     "metadata": {},
     "output_type": "display_data"
    },
    {
     "data": {
      "text/html": [
       "<div class=\"progress\">\n",
       "  <div class=\"progress-bar\" role=\"progressbar\" style=\"background-color: blue; width: 100%; word-wrap: normal; white-space: nowrap; text-align: center; color: white\" aria-valuenow=\"100\" aria-valuemin=\"0\" aria-valuemax=\"100\">\n",
       "    4 / 4\n",
       "  </div>\n",
       "  <div class=\"progress-bar\" role=\"progressbar\" style=\"background-color: red; width: 0%\" aria-valuenow=\"0\" aria-valuemin=\"0\" aria-valuemax=\"100\"></div>\n",
       "</div>\n"
      ]
     },
     "metadata": {},
     "output_type": "display_data"
    },
    {
     "data": {
      "text/html": [
       "<div>\n",
       "  <span style=\"float: left;\">show at cmd33.sc:12</span>\n",
       "</div>\n"
      ]
     },
     "metadata": {},
     "output_type": "display_data"
    },
    {
     "data": {
      "text/html": [
       "<div class=\"progress\">\n",
       "  <div class=\"progress-bar\" role=\"progressbar\" style=\"background-color: blue; width: 100%; word-wrap: normal; white-space: nowrap; text-align: center; color: white\" aria-valuenow=\"100\" aria-valuemin=\"0\" aria-valuemax=\"100\">\n",
       "    64 / 64\n",
       "  </div>\n",
       "  <div class=\"progress-bar\" role=\"progressbar\" style=\"background-color: red; width: 0%\" aria-valuenow=\"0\" aria-valuemin=\"0\" aria-valuemax=\"100\"></div>\n",
       "</div>\n"
      ]
     },
     "metadata": {},
     "output_type": "display_data"
    },
    {
     "name": "stdout",
     "output_type": "stream",
     "text": [
      "+--------+---+--------+---------------+\n",
      "|driverId|lap|position|positionNextLap|\n",
      "+--------+---+--------+---------------+\n",
      "|       1|  1|       2|           null|\n",
      "|       1| 10|       2|              2|\n",
      "|       1| 11|       2|              2|\n",
      "|       1| 12|       2|              2|\n",
      "|       1| 13|       2|              2|\n",
      "|       1| 14|       2|              2|\n",
      "|       1| 15|       2|              2|\n",
      "|       1| 16|       2|              2|\n",
      "|       1| 17|       2|              2|\n",
      "|       1| 18|       2|              2|\n",
      "|       1| 19|       2|              2|\n",
      "|       1|  2|       2|              2|\n",
      "|       1| 20|       2|              2|\n",
      "|       1| 21|       2|              2|\n",
      "|       1| 22|       2|              2|\n",
      "|       1| 23|       2|              2|\n",
      "|       1| 24|       2|              2|\n",
      "|       1| 25|       2|              2|\n",
      "|       1| 26|       2|              2|\n",
      "|       1| 27|       1|              2|\n",
      "+--------+---+--------+---------------+\n",
      "only showing top 20 rows\n",
      "\n"
     ]
    }
   ],
   "source": [
    "val overtakes = spark.read.format(\"csv\")\n",
    "    .option(\"header\", \"true\")\n",
    "    .option(\"sep\", \",\")\n",
    "    .load(\"../data/lap_times.csv\")\n",
    "    .withColumn(\"position\", col(\"position\").cast(IntegerType)) \n",
    "    .where(col(\"driverId\") === 1)\n",
    "    .where(col(\"raceId\") === 1053)\n",
    "    .join(races, \"raceId\")\n",
    "    .withColumn(\"positionNextLap\", lag(col(\"position\"), 1).over(raceDriverLapWindow))\n",
    "//     .withColumn(\"lapPositionDelta\", col(\"position\"))\n",
    "    .select(\"driverId\", \"lap\", \"position\", \"positionNextLap\")\n",
    "    .sort(col(\"lap\"))\n",
    "    .show"
   ]
  },
  {
   "cell_type": "code",
   "execution_count": 28,
   "id": "deb52a88",
   "metadata": {},
   "outputs": [
    {
     "data": {
      "text/html": [
       "<div>\n",
       "  <span style=\"float: left;\">load at cmd27.sc:4</span>\n",
       "</div>\n"
      ]
     },
     "metadata": {},
     "output_type": "display_data"
    },
    {
     "data": {
      "text/html": [
       "<div class=\"progress\">\n",
       "  <div class=\"progress-bar\" role=\"progressbar\" style=\"background-color: blue; width: 100%; word-wrap: normal; white-space: nowrap; text-align: center; color: white\" aria-valuenow=\"100\" aria-valuemin=\"0\" aria-valuemax=\"100\">\n",
       "    1 / 1\n",
       "  </div>\n",
       "  <div class=\"progress-bar\" role=\"progressbar\" style=\"background-color: red; width: 0%\" aria-valuenow=\"0\" aria-valuemin=\"0\" aria-valuemax=\"100\"></div>\n",
       "</div>\n"
      ]
     },
     "metadata": {},
     "output_type": "display_data"
    },
    {
     "data": {
      "text/html": [
       "<div>\n",
       "  <span style=\"float: left;\">run at ThreadPoolExecutor.java:1149</span>\n",
       "</div>\n"
      ]
     },
     "metadata": {},
     "output_type": "display_data"
    },
    {
     "data": {
      "text/html": [
       "<div class=\"progress\">\n",
       "  <div class=\"progress-bar\" role=\"progressbar\" style=\"background-color: blue; width: 100%; word-wrap: normal; white-space: nowrap; text-align: center; color: white\" aria-valuenow=\"100\" aria-valuemin=\"0\" aria-valuemax=\"100\">\n",
       "    1 / 1\n",
       "  </div>\n",
       "  <div class=\"progress-bar\" role=\"progressbar\" style=\"background-color: red; width: 0%\" aria-valuenow=\"0\" aria-valuemin=\"0\" aria-valuemax=\"100\"></div>\n",
       "</div>\n"
      ]
     },
     "metadata": {},
     "output_type": "display_data"
    },
    {
     "data": {
      "text/html": [
       "<div>\n",
       "  <span style=\"float: left;\">run at ThreadPoolExecutor.java:1149</span>\n",
       "</div>\n"
      ]
     },
     "metadata": {},
     "output_type": "display_data"
    },
    {
     "data": {
      "text/html": [
       "<div class=\"progress\">\n",
       "  <div class=\"progress-bar\" role=\"progressbar\" style=\"background-color: blue; width: 100%; word-wrap: normal; white-space: nowrap; text-align: center; color: white\" aria-valuenow=\"100\" aria-valuemin=\"0\" aria-valuemax=\"100\">\n",
       "    1 / 1\n",
       "  </div>\n",
       "  <div class=\"progress-bar\" role=\"progressbar\" style=\"background-color: red; width: 0%\" aria-valuenow=\"0\" aria-valuemin=\"0\" aria-valuemax=\"100\"></div>\n",
       "</div>\n"
      ]
     },
     "metadata": {},
     "output_type": "display_data"
    },
    {
     "data": {
      "text/html": [
       "<div>\n",
       "  <span style=\"float: left;\">show at cmd27.sc:23</span>\n",
       "</div>\n"
      ]
     },
     "metadata": {},
     "output_type": "display_data"
    },
    {
     "data": {
      "text/html": [
       "<div class=\"progress\">\n",
       "  <div class=\"progress-bar\" role=\"progressbar\" style=\"background-color: blue; width: 100%; word-wrap: normal; white-space: nowrap; text-align: center; color: white\" aria-valuenow=\"100\" aria-valuemin=\"0\" aria-valuemax=\"100\">\n",
       "    1 / 1\n",
       "  </div>\n",
       "  <div class=\"progress-bar\" role=\"progressbar\" style=\"background-color: red; width: 0%\" aria-valuenow=\"0\" aria-valuemin=\"0\" aria-valuemax=\"100\"></div>\n",
       "</div>\n"
      ]
     },
     "metadata": {},
     "output_type": "display_data"
    },
    {
     "data": {
      "text/html": [
       "<div>\n",
       "  <span style=\"float: left;\">show at cmd27.sc:23</span>\n",
       "</div>\n"
      ]
     },
     "metadata": {},
     "output_type": "display_data"
    },
    {
     "data": {
      "text/html": [
       "<div class=\"progress\">\n",
       "  <div class=\"progress-bar\" role=\"progressbar\" style=\"background-color: blue; width: 100%; word-wrap: normal; white-space: nowrap; text-align: center; color: white\" aria-valuenow=\"100\" aria-valuemin=\"0\" aria-valuemax=\"100\">\n",
       "    64 / 64\n",
       "  </div>\n",
       "  <div class=\"progress-bar\" role=\"progressbar\" style=\"background-color: red; width: 0%\" aria-valuenow=\"0\" aria-valuemin=\"0\" aria-valuemax=\"100\"></div>\n",
       "</div>\n"
      ]
     },
     "metadata": {},
     "output_type": "display_data"
    },
    {
     "data": {
      "text/html": [
       "<div>\n",
       "  <span style=\"float: left;\">show at cmd27.sc:23</span>\n",
       "</div>\n"
      ]
     },
     "metadata": {},
     "output_type": "display_data"
    },
    {
     "data": {
      "text/html": [
       "<div class=\"progress\">\n",
       "  <div class=\"progress-bar\" role=\"progressbar\" style=\"background-color: blue; width: 100%; word-wrap: normal; white-space: nowrap; text-align: center; color: white\" aria-valuenow=\"100\" aria-valuemin=\"0\" aria-valuemax=\"100\">\n",
       "    64 / 64\n",
       "  </div>\n",
       "  <div class=\"progress-bar\" role=\"progressbar\" style=\"background-color: red; width: 0%\" aria-valuenow=\"0\" aria-valuemin=\"0\" aria-valuemax=\"100\"></div>\n",
       "</div>\n"
      ]
     },
     "metadata": {},
     "output_type": "display_data"
    },
    {
     "data": {
      "text/html": [
       "<div>\n",
       "  <span style=\"float: left;\">show at cmd27.sc:23</span>\n",
       "</div>\n"
      ]
     },
     "metadata": {},
     "output_type": "display_data"
    },
    {
     "data": {
      "text/html": [
       "<div class=\"progress\">\n",
       "  <div class=\"progress-bar\" role=\"progressbar\" style=\"background-color: blue; width: 100%; word-wrap: normal; white-space: nowrap; text-align: center; color: white\" aria-valuenow=\"100\" aria-valuemin=\"0\" aria-valuemax=\"100\">\n",
       "    64 / 64\n",
       "  </div>\n",
       "  <div class=\"progress-bar\" role=\"progressbar\" style=\"background-color: red; width: 0%\" aria-valuenow=\"0\" aria-valuemin=\"0\" aria-valuemax=\"100\"></div>\n",
       "</div>\n"
      ]
     },
     "metadata": {},
     "output_type": "display_data"
    },
    {
     "name": "stdout",
     "output_type": "stream",
     "text": [
      "+----+-----------+-------------+------------+------------+-------------+-------------+\n",
      "|code|champPoints|averagePoints|pointPercent|totalPodiums|podiumPercent|positionDelta|\n",
      "+----+-----------+-------------+------------+------------+-------------+-------------+\n",
      "| VER|        182|        20.22|         1.0|           8|         0.89|        -0.38|\n",
      "| HAM|        150|        16.67|        0.82|           6|         0.67|         1.33|\n",
      "| PER|        104|        11.56|        0.57|           2|         0.22|         0.33|\n",
      "| NOR|        101|        11.22|        0.55|           3|         0.33|        -1.78|\n",
      "| BOT|         92|        10.22|        0.51|           5|         0.56|          0.0|\n",
      "| LEC|         62|         6.89|        0.34|           0|          0.0|          1.0|\n",
      "| SAI|         60|         6.67|        0.33|           1|         0.11|        -0.33|\n",
      "| RIC|         40|         4.44|        0.22|           0|          0.0|        -2.33|\n",
      "| GAS|         39|         4.33|        0.21|           1|         0.11|          2.0|\n",
      "| VET|         30|         3.33|        0.16|           1|         0.11|         0.22|\n",
      "| ALO|         20|         2.22|        0.11|           0|          0.0|        -1.63|\n",
      "| STR|         14|         1.56|        0.08|           0|          0.0|         -2.0|\n",
      "| OCO|         12|         1.33|        0.07|           0|          0.0|          0.0|\n",
      "| TSU|          9|          1.0|        0.05|           0|          0.0|         0.75|\n",
      "| RAI|          1|         0.11|        0.01|           0|          0.0|        -3.25|\n",
      "| GIO|          1|         0.11|        0.01|           0|          0.0|        -1.11|\n",
      "| RUS|          0|          0.0|         0.0|           0|          0.0|          0.5|\n",
      "| LAT|          0|          0.0|         0.0|           0|          0.0|         -0.5|\n",
      "| MSC|          0|          0.0|         0.0|           0|          0.0|        -1.33|\n",
      "| MAZ|          0|          0.0|         0.0|           0|          0.0|        -1.38|\n",
      "+----+-----------+-------------+------------+------------+-------------+-------------+\n",
      "\n"
     ]
    }
   ],
   "source": [
    "val results = spark.read.format(\"csv\")\n",
    "    .option(\"header\", \"true\")\n",
    "    .option(\"sep\", \",\")\n",
    "    .load(\"../data/results.csv\")\n",
    "//     .where(col(\"driverId\") === 830)\n",
    "    .withColumn(\"position\", col(\"position\").cast(IntegerType))    \n",
    "    .withColumn(\"grid\", col(\"grid\").cast(IntegerType))    \n",
    "    .withColumn(\"points\", col(\"points\").cast(IntegerType))\n",
    "\n",
    "    .join(races, \"raceId\")\n",
    "\n",
    "    .withColumn(\"averagePoints\", round(avg(col(\"points\")).over(driverWindow), 2))\n",
    "    .withColumn(\"maxAvgPoints\", max(col(\"averagePoints\")).over(seasonWindow))\n",
    "    .withColumn(\"pointPercent\", round(col(\"averagePoints\") / col(\"maxAvgPoints\"), 2))\n",
    "    .withColumn(\"podium\", when(col(\"position\") === 1 || col(\"position\") === 2 ||col(\"position\") === 3, lit(1)).otherwise(lit(0)))\n",
    "    .withColumn(\"podiumPercent\", round(sum(col(\"podium\")).over(driverWindow) / count(col(\"podium\")).over(driverWindow), 2))\n",
    "    .withColumn(\"totalPodiums\", sum(col(\"podium\")).over(driverWindow))\n",
    "    .withColumn(\"positionDelta\", round(avg(col(\"position\") - col(\"grid\")).over(driverWindow), 2))\n",
    "    .withColumn(\"champPoints\", sum(col(\"points\")).over(driverWindow))\n",
    "    .join(drivers, \"driverId\")\n",
    "    .dropDuplicates(Seq(\"driverId\"))\n",
    "    .select(\"code\", \"champPoints\", \"averagePoints\", \"pointPercent\", \"totalPodiums\", \"podiumPercent\", \"positionDelta\")\n",
    "    .sort(col(\"champPoints\").desc)\n",
    "    .show()"
   ]
  },
  {
   "cell_type": "code",
   "execution_count": null,
   "id": "2468ec96",
   "metadata": {},
   "outputs": [],
   "source": []
  }
 ],
 "metadata": {
  "kernelspec": {
   "display_name": "Scala (2.12)",
   "language": "scala",
   "name": "scala212"
  },
  "language_info": {
   "codemirror_mode": "text/x-scala",
   "file_extension": ".sc",
   "mimetype": "text/x-scala",
   "name": "scala",
   "nbconvert_exporter": "script",
   "version": "2.12.12"
  }
 },
 "nbformat": 4,
 "nbformat_minor": 5
}
