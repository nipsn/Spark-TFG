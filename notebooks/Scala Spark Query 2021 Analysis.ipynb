{
 "cells": [
  {
   "cell_type": "code",
   "execution_count": 1,
   "id": "cc90d563",
   "metadata": {},
   "outputs": [
    {
     "name": "stdout",
     "output_type": "stream",
     "text": [
      "Loading spark-stubs\n",
      "Getting spark JARs\n"
     ]
    },
    {
     "name": "stderr",
     "output_type": "stream",
     "text": [
      "log4j:WARN No appenders could be found for logger (org.eclipse.jetty.util.log).\n",
      "log4j:WARN Please initialize the log4j system properly.\n",
      "log4j:WARN See http://logging.apache.org/log4j/1.2/faq.html#noconfig for more info.\n"
     ]
    },
    {
     "name": "stdout",
     "output_type": "stream",
     "text": [
      "Creating SparkSession\n"
     ]
    },
    {
     "name": "stderr",
     "output_type": "stream",
     "text": [
      "Using Spark's default log4j profile: org/apache/spark/log4j-defaults.properties\n",
      "22/01/24 16:31:25 INFO SparkContext: Running Spark version 2.4.3\n",
      "22/01/24 16:31:25 WARN NativeCodeLoader: Unable to load native-hadoop library for your platform... using builtin-java classes where applicable\n",
      "22/01/24 16:31:25 INFO SparkContext: Submitted application: 88a00bda-2b24-400f-afd3-6586cf28e476\n",
      "22/01/24 16:31:25 INFO SecurityManager: Changing view acls to: oscar\n",
      "22/01/24 16:31:25 INFO SecurityManager: Changing modify acls to: oscar\n",
      "22/01/24 16:31:25 INFO SecurityManager: Changing view acls groups to: \n",
      "22/01/24 16:31:25 INFO SecurityManager: Changing modify acls groups to: \n",
      "22/01/24 16:31:25 INFO SecurityManager: SecurityManager: authentication disabled; ui acls disabled; users  with view permissions: Set(oscar); groups with view permissions: Set(); users  with modify permissions: Set(oscar); groups with modify permissions: Set()\n",
      "22/01/24 16:31:26 INFO Utils: Successfully started service 'sparkDriver' on port 34131.\n",
      "22/01/24 16:31:26 INFO SparkEnv: Registering MapOutputTracker\n",
      "22/01/24 16:31:26 INFO SparkEnv: Registering BlockManagerMaster\n",
      "22/01/24 16:31:26 INFO BlockManagerMasterEndpoint: Using org.apache.spark.storage.DefaultTopologyMapper for getting topology information\n",
      "22/01/24 16:31:26 INFO BlockManagerMasterEndpoint: BlockManagerMasterEndpoint up\n",
      "22/01/24 16:31:26 INFO DiskBlockManager: Created local directory at /tmp/blockmgr-a8fe91dc-3570-4faa-a8ae-82c8df34e536\n",
      "22/01/24 16:31:26 INFO MemoryStore: MemoryStore started with capacity 1956.6 MB\n",
      "22/01/24 16:31:26 INFO SparkEnv: Registering OutputCommitCoordinator\n",
      "22/01/24 16:31:26 INFO Utils: Successfully started service 'SparkUI' on port 4040.\n",
      "22/01/24 16:31:26 INFO SparkUI: Bound SparkUI to 0.0.0.0, and started at http://netrunner:4040\n",
      "22/01/24 16:31:26 INFO SparkContext: Added JAR file:/home/oscar/.cache/coursier/v1/https/jitpack.io/com/github/jupyter/jvm-repr/0.4.0/jvm-repr-0.4.0-sources.jar at spark://netrunner:34131/jars/jvm-repr-0.4.0-sources.jar with timestamp 1643038286713\n",
      "22/01/24 16:31:26 INFO SparkContext: Added JAR file:/home/oscar/.cache/coursier/v1/https/jitpack.io/com/github/jupyter/jvm-repr/0.4.0/jvm-repr-0.4.0.jar at spark://netrunner:34131/jars/jvm-repr-0.4.0.jar with timestamp 1643038286714\n",
      "22/01/24 16:31:26 INFO SparkContext: Added JAR file:/home/oscar/.cache/coursier/v1/https/repo1.maven.org/maven2/com/github/javaparser/javaparser-core/3.2.5/javaparser-core-3.2.5-sources.jar at spark://netrunner:34131/jars/javaparser-core-3.2.5-sources.jar with timestamp 1643038286714\n",
      "22/01/24 16:31:26 INFO SparkContext: Added JAR file:/home/oscar/.cache/coursier/v1/https/repo1.maven.org/maven2/com/github/javaparser/javaparser-core/3.2.5/javaparser-core-3.2.5.jar at spark://netrunner:34131/jars/javaparser-core-3.2.5.jar with timestamp 1643038286715\n",
      "22/01/24 16:31:26 INFO SparkContext: Added JAR file:/home/oscar/.cache/coursier/v1/https/repo1.maven.org/maven2/com/lihaoyi/ammonite-compiler-interface_2.12/2.3.8-36-1cce53f3/ammonite-compiler-interface_2.12-2.3.8-36-1cce53f3-sources.jar at spark://netrunner:34131/jars/ammonite-compiler-interface_2.12-2.3.8-36-1cce53f3-sources.jar with timestamp 1643038286715\n",
      "22/01/24 16:31:26 INFO SparkContext: Added JAR file:/home/oscar/.cache/coursier/v1/https/repo1.maven.org/maven2/com/lihaoyi/ammonite-compiler-interface_2.12/2.3.8-36-1cce53f3/ammonite-compiler-interface_2.12-2.3.8-36-1cce53f3.jar at spark://netrunner:34131/jars/ammonite-compiler-interface_2.12-2.3.8-36-1cce53f3.jar with timestamp 1643038286715\n",
      "22/01/24 16:31:26 INFO SparkContext: Added JAR file:/home/oscar/.cache/coursier/v1/https/repo1.maven.org/maven2/com/lihaoyi/ammonite-compiler_2.12.12/2.3.8-36-1cce53f3/ammonite-compiler_2.12.12-2.3.8-36-1cce53f3-sources.jar at spark://netrunner:34131/jars/ammonite-compiler_2.12.12-2.3.8-36-1cce53f3-sources.jar with timestamp 1643038286715\n",
      "22/01/24 16:31:26 INFO SparkContext: Added JAR file:/home/oscar/.cache/coursier/v1/https/repo1.maven.org/maven2/com/lihaoyi/ammonite-compiler_2.12.12/2.3.8-36-1cce53f3/ammonite-compiler_2.12.12-2.3.8-36-1cce53f3.jar at spark://netrunner:34131/jars/ammonite-compiler_2.12.12-2.3.8-36-1cce53f3.jar with timestamp 1643038286715\n",
      "22/01/24 16:31:26 INFO SparkContext: Added JAR file:/home/oscar/.cache/coursier/v1/https/repo1.maven.org/maven2/com/lihaoyi/ammonite-interp-api_2.12.12/2.3.8-36-1cce53f3/ammonite-interp-api_2.12.12-2.3.8-36-1cce53f3-sources.jar at spark://netrunner:34131/jars/ammonite-interp-api_2.12.12-2.3.8-36-1cce53f3-sources.jar with timestamp 1643038286716\n",
      "22/01/24 16:31:26 INFO SparkContext: Added JAR file:/home/oscar/.cache/coursier/v1/https/repo1.maven.org/maven2/com/lihaoyi/ammonite-interp-api_2.12.12/2.3.8-36-1cce53f3/ammonite-interp-api_2.12.12-2.3.8-36-1cce53f3.jar at spark://netrunner:34131/jars/ammonite-interp-api_2.12.12-2.3.8-36-1cce53f3.jar with timestamp 1643038286716\n",
      "22/01/24 16:31:26 INFO SparkContext: Added JAR file:/home/oscar/.cache/coursier/v1/https/repo1.maven.org/maven2/com/lihaoyi/ammonite-ops_2.12/2.3.8-36-1cce53f3/ammonite-ops_2.12-2.3.8-36-1cce53f3-sources.jar at spark://netrunner:34131/jars/ammonite-ops_2.12-2.3.8-36-1cce53f3-sources.jar with timestamp 1643038286716\n",
      "22/01/24 16:31:26 INFO SparkContext: Added JAR file:/home/oscar/.cache/coursier/v1/https/repo1.maven.org/maven2/com/lihaoyi/ammonite-ops_2.12/2.3.8-36-1cce53f3/ammonite-ops_2.12-2.3.8-36-1cce53f3.jar at spark://netrunner:34131/jars/ammonite-ops_2.12-2.3.8-36-1cce53f3.jar with timestamp 1643038286716\n",
      "22/01/24 16:31:26 INFO SparkContext: Added JAR file:/home/oscar/.cache/coursier/v1/https/repo1.maven.org/maven2/com/lihaoyi/ammonite-repl-api_2.12.12/2.3.8-36-1cce53f3/ammonite-repl-api_2.12.12-2.3.8-36-1cce53f3-sources.jar at spark://netrunner:34131/jars/ammonite-repl-api_2.12.12-2.3.8-36-1cce53f3-sources.jar with timestamp 1643038286716\n",
      "22/01/24 16:31:26 INFO SparkContext: Added JAR file:/home/oscar/.cache/coursier/v1/https/repo1.maven.org/maven2/com/lihaoyi/ammonite-repl-api_2.12.12/2.3.8-36-1cce53f3/ammonite-repl-api_2.12.12-2.3.8-36-1cce53f3.jar at spark://netrunner:34131/jars/ammonite-repl-api_2.12.12-2.3.8-36-1cce53f3.jar with timestamp 1643038286717\n",
      "22/01/24 16:31:26 INFO SparkContext: Added JAR file:/home/oscar/.cache/coursier/v1/https/repo1.maven.org/maven2/com/lihaoyi/ammonite-util_2.12/2.3.8-36-1cce53f3/ammonite-util_2.12-2.3.8-36-1cce53f3-sources.jar at spark://netrunner:34131/jars/ammonite-util_2.12-2.3.8-36-1cce53f3-sources.jar with timestamp 1643038286717\n",
      "22/01/24 16:31:26 INFO SparkContext: Added JAR file:/home/oscar/.cache/coursier/v1/https/repo1.maven.org/maven2/com/lihaoyi/ammonite-util_2.12/2.3.8-36-1cce53f3/ammonite-util_2.12-2.3.8-36-1cce53f3.jar at spark://netrunner:34131/jars/ammonite-util_2.12-2.3.8-36-1cce53f3.jar with timestamp 1643038286717\n",
      "22/01/24 16:31:26 INFO SparkContext: Added JAR file:/home/oscar/.cache/coursier/v1/https/repo1.maven.org/maven2/com/lihaoyi/fansi_2.12/0.2.9/fansi_2.12-0.2.9-sources.jar at spark://netrunner:34131/jars/fansi_2.12-0.2.9-sources.jar with timestamp 1643038286717\n",
      "22/01/24 16:31:26 INFO SparkContext: Added JAR file:/home/oscar/.cache/coursier/v1/https/repo1.maven.org/maven2/com/lihaoyi/fansi_2.12/0.2.9/fansi_2.12-0.2.9.jar at spark://netrunner:34131/jars/fansi_2.12-0.2.9.jar with timestamp 1643038286718\n",
      "22/01/24 16:31:26 INFO SparkContext: Added JAR file:/home/oscar/.cache/coursier/v1/https/repo1.maven.org/maven2/com/lihaoyi/fastparse_2.12/2.3.0/fastparse_2.12-2.3.0-sources.jar at spark://netrunner:34131/jars/fastparse_2.12-2.3.0-sources.jar with timestamp 1643038286718\n",
      "22/01/24 16:31:26 INFO SparkContext: Added JAR file:/home/oscar/.cache/coursier/v1/https/repo1.maven.org/maven2/com/lihaoyi/fastparse_2.12/2.3.0/fastparse_2.12-2.3.0.jar at spark://netrunner:34131/jars/fastparse_2.12-2.3.0.jar with timestamp 1643038286718\n",
      "22/01/24 16:31:26 INFO SparkContext: Added JAR file:/home/oscar/.cache/coursier/v1/https/repo1.maven.org/maven2/com/lihaoyi/geny_2.12/0.6.7/geny_2.12-0.6.7-sources.jar at spark://netrunner:34131/jars/geny_2.12-0.6.7-sources.jar with timestamp 1643038286718\n",
      "22/01/24 16:31:26 INFO SparkContext: Added JAR file:/home/oscar/.cache/coursier/v1/https/repo1.maven.org/maven2/com/lihaoyi/geny_2.12/0.6.7/geny_2.12-0.6.7.jar at spark://netrunner:34131/jars/geny_2.12-0.6.7.jar with timestamp 1643038286718\n"
     ]
    },
    {
     "name": "stderr",
     "output_type": "stream",
     "text": [
      "22/01/24 16:31:26 INFO SparkContext: Added JAR file:/home/oscar/.cache/coursier/v1/https/repo1.maven.org/maven2/com/lihaoyi/mainargs_2.12/0.1.4/mainargs_2.12-0.1.4-sources.jar at spark://netrunner:34131/jars/mainargs_2.12-0.1.4-sources.jar with timestamp 1643038286719\n",
      "22/01/24 16:31:26 INFO SparkContext: Added JAR file:/home/oscar/.cache/coursier/v1/https/repo1.maven.org/maven2/com/lihaoyi/mainargs_2.12/0.1.4/mainargs_2.12-0.1.4.jar at spark://netrunner:34131/jars/mainargs_2.12-0.1.4.jar with timestamp 1643038286719\n",
      "22/01/24 16:31:26 INFO SparkContext: Added JAR file:/home/oscar/.cache/coursier/v1/https/repo1.maven.org/maven2/com/lihaoyi/os-lib_2.12/0.7.1/os-lib_2.12-0.7.1-sources.jar at spark://netrunner:34131/jars/os-lib_2.12-0.7.1-sources.jar with timestamp 1643038286719\n",
      "22/01/24 16:31:26 INFO SparkContext: Added JAR file:/home/oscar/.cache/coursier/v1/https/repo1.maven.org/maven2/com/lihaoyi/os-lib_2.12/0.7.1/os-lib_2.12-0.7.1.jar at spark://netrunner:34131/jars/os-lib_2.12-0.7.1.jar with timestamp 1643038286719\n",
      "22/01/24 16:31:26 INFO SparkContext: Added JAR file:/home/oscar/.cache/coursier/v1/https/repo1.maven.org/maven2/com/lihaoyi/pprint_2.12/0.6.0/pprint_2.12-0.6.0-sources.jar at spark://netrunner:34131/jars/pprint_2.12-0.6.0-sources.jar with timestamp 1643038286719\n",
      "22/01/24 16:31:26 INFO SparkContext: Added JAR file:/home/oscar/.cache/coursier/v1/https/repo1.maven.org/maven2/com/lihaoyi/pprint_2.12/0.6.0/pprint_2.12-0.6.0.jar at spark://netrunner:34131/jars/pprint_2.12-0.6.0.jar with timestamp 1643038286720\n",
      "22/01/24 16:31:26 INFO SparkContext: Added JAR file:/home/oscar/.cache/coursier/v1/https/repo1.maven.org/maven2/com/lihaoyi/scalaparse_2.12/2.3.0/scalaparse_2.12-2.3.0-sources.jar at spark://netrunner:34131/jars/scalaparse_2.12-2.3.0-sources.jar with timestamp 1643038286720\n",
      "22/01/24 16:31:26 INFO SparkContext: Added JAR file:/home/oscar/.cache/coursier/v1/https/repo1.maven.org/maven2/com/lihaoyi/scalaparse_2.12/2.3.0/scalaparse_2.12-2.3.0.jar at spark://netrunner:34131/jars/scalaparse_2.12-2.3.0.jar with timestamp 1643038286720\n",
      "22/01/24 16:31:26 INFO SparkContext: Added JAR file:/home/oscar/.cache/coursier/v1/https/repo1.maven.org/maven2/com/lihaoyi/sourcecode_2.12/0.2.3/sourcecode_2.12-0.2.3-sources.jar at spark://netrunner:34131/jars/sourcecode_2.12-0.2.3-sources.jar with timestamp 1643038286720\n",
      "22/01/24 16:31:26 INFO SparkContext: Added JAR file:/home/oscar/.cache/coursier/v1/https/repo1.maven.org/maven2/com/lihaoyi/sourcecode_2.12/0.2.3/sourcecode_2.12-0.2.3.jar at spark://netrunner:34131/jars/sourcecode_2.12-0.2.3.jar with timestamp 1643038286720\n",
      "22/01/24 16:31:26 INFO SparkContext: Added JAR file:/home/oscar/.cache/coursier/v1/https/repo1.maven.org/maven2/io/get-coursier/interface/1.0.3/interface-1.0.3-sources.jar at spark://netrunner:34131/jars/interface-1.0.3-sources.jar with timestamp 1643038286721\n",
      "22/01/24 16:31:26 INFO SparkContext: Added JAR file:/home/oscar/.cache/coursier/v1/https/repo1.maven.org/maven2/io/get-coursier/interface/1.0.3/interface-1.0.3.jar at spark://netrunner:34131/jars/interface-1.0.3.jar with timestamp 1643038286721\n",
      "22/01/24 16:31:26 INFO SparkContext: Added JAR file:/home/oscar/.cache/coursier/v1/https/repo1.maven.org/maven2/org/javassist/javassist/3.21.0-GA/javassist-3.21.0-GA-sources.jar at spark://netrunner:34131/jars/javassist-3.21.0-GA-sources.jar with timestamp 1643038286721\n",
      "22/01/24 16:31:26 INFO SparkContext: Added JAR file:/home/oscar/.cache/coursier/v1/https/repo1.maven.org/maven2/org/javassist/javassist/3.21.0-GA/javassist-3.21.0-GA.jar at spark://netrunner:34131/jars/javassist-3.21.0-GA.jar with timestamp 1643038286721\n",
      "22/01/24 16:31:26 INFO SparkContext: Added JAR file:/home/oscar/.cache/coursier/v1/https/repo1.maven.org/maven2/org/scala-lang/modules/scala-collection-compat_2.12/2.4.3/scala-collection-compat_2.12-2.4.3-sources.jar at spark://netrunner:34131/jars/scala-collection-compat_2.12-2.4.3-sources.jar with timestamp 1643038286722\n",
      "22/01/24 16:31:26 INFO SparkContext: Added JAR file:/home/oscar/.cache/coursier/v1/https/repo1.maven.org/maven2/org/scala-lang/modules/scala-collection-compat_2.12/2.4.3/scala-collection-compat_2.12-2.4.3.jar at spark://netrunner:34131/jars/scala-collection-compat_2.12-2.4.3.jar with timestamp 1643038286722\n",
      "22/01/24 16:31:26 INFO SparkContext: Added JAR file:/home/oscar/.cache/coursier/v1/https/repo1.maven.org/maven2/org/scala-lang/modules/scala-xml_2.12/2.0.0-M3/scala-xml_2.12-2.0.0-M3-sources.jar at spark://netrunner:34131/jars/scala-xml_2.12-2.0.0-M3-sources.jar with timestamp 1643038286722\n",
      "22/01/24 16:31:26 INFO SparkContext: Added JAR file:/home/oscar/.cache/coursier/v1/https/repo1.maven.org/maven2/org/scala-lang/modules/scala-xml_2.12/2.0.0-M3/scala-xml_2.12-2.0.0-M3.jar at spark://netrunner:34131/jars/scala-xml_2.12-2.0.0-M3.jar with timestamp 1643038286722\n",
      "22/01/24 16:31:26 INFO SparkContext: Added JAR file:/home/oscar/.cache/coursier/v1/https/repo1.maven.org/maven2/org/scala-lang/scala-compiler/2.12.12/scala-compiler-2.12.12-sources.jar at spark://netrunner:34131/jars/scala-compiler-2.12.12-sources.jar with timestamp 1643038286722\n",
      "22/01/24 16:31:26 INFO SparkContext: Added JAR file:/home/oscar/.cache/coursier/v1/https/repo1.maven.org/maven2/org/scala-lang/scala-library/2.12.12/scala-library-2.12.12-sources.jar at spark://netrunner:34131/jars/scala-library-2.12.12-sources.jar with timestamp 1643038286723\n",
      "22/01/24 16:31:26 INFO SparkContext: Added JAR file:/home/oscar/.cache/coursier/v1/https/repo1.maven.org/maven2/org/scala-lang/scala-reflect/2.12.12/scala-reflect-2.12.12-sources.jar at spark://netrunner:34131/jars/scala-reflect-2.12.12-sources.jar with timestamp 1643038286723\n",
      "22/01/24 16:31:26 INFO SparkContext: Added JAR file:/home/oscar/.cache/coursier/v1/https/repo1.maven.org/maven2/sh/almond/interpreter-api_2.12/0.11.2/interpreter-api_2.12-0.11.2-sources.jar at spark://netrunner:34131/jars/interpreter-api_2.12-0.11.2-sources.jar with timestamp 1643038286723\n",
      "22/01/24 16:31:26 INFO SparkContext: Added JAR file:/home/oscar/.cache/coursier/v1/https/repo1.maven.org/maven2/sh/almond/interpreter-api_2.12/0.11.2/interpreter-api_2.12-0.11.2.jar at spark://netrunner:34131/jars/interpreter-api_2.12-0.11.2.jar with timestamp 1643038286723\n",
      "22/01/24 16:31:26 INFO SparkContext: Added JAR file:/home/oscar/.cache/coursier/v1/https/repo1.maven.org/maven2/sh/almond/jupyter-api_2.12/0.11.2/jupyter-api_2.12-0.11.2-sources.jar at spark://netrunner:34131/jars/jupyter-api_2.12-0.11.2-sources.jar with timestamp 1643038286723\n",
      "22/01/24 16:31:26 INFO SparkContext: Added JAR file:/home/oscar/.cache/coursier/v1/https/repo1.maven.org/maven2/sh/almond/jupyter-api_2.12/0.11.2/jupyter-api_2.12-0.11.2.jar at spark://netrunner:34131/jars/jupyter-api_2.12-0.11.2.jar with timestamp 1643038286723\n",
      "22/01/24 16:31:26 INFO SparkContext: Added JAR file:/home/oscar/.cache/coursier/v1/https/repo1.maven.org/maven2/sh/almond/scala-kernel-api_2.12.12/0.11.2/scala-kernel-api_2.12.12-0.11.2-sources.jar at spark://netrunner:34131/jars/scala-kernel-api_2.12.12-0.11.2-sources.jar with timestamp 1643038286724\n",
      "22/01/24 16:31:26 INFO SparkContext: Added JAR file:/home/oscar/.cache/coursier/v1/https/repo1.maven.org/maven2/sh/almond/scala-kernel-api_2.12.12/0.11.2/scala-kernel-api_2.12.12-0.11.2.jar at spark://netrunner:34131/jars/scala-kernel-api_2.12.12-0.11.2.jar with timestamp 1643038286724\n",
      "22/01/24 16:31:26 INFO SparkContext: Added JAR file:/home/oscar/.local/share/jupyter/kernels/scala212/launcher.jar at spark://netrunner:34131/jars/launcher.jar with timestamp 1643038286724\n",
      "22/01/24 16:31:26 INFO SparkContext: Added JAR file:/home/oscar/.cache/coursier/v1/https/repo1.maven.org/maven2/org/scala-lang/scala-library/2.12.13/scala-library-2.12.13.jar at spark://netrunner:34131/jars/scala-library-2.12.13.jar with timestamp 1643038286724\n",
      "22/01/24 16:31:26 INFO SparkContext: Added JAR file:/home/oscar/.cache/coursier/v1/https/repo1.maven.org/maven2/sh/almond/almond-spark_2.12/0.6.0/almond-spark_2.12-0.6.0.jar at spark://netrunner:34131/jars/almond-spark_2.12-0.6.0.jar with timestamp 1643038286724\n",
      "22/01/24 16:31:26 INFO SparkContext: Added JAR file:/home/oscar/.cache/coursier/v1/https/repo1.maven.org/maven2/sh/almond/ammonite-spark_2.12/0.5.0/ammonite-spark_2.12-0.5.0.jar at spark://netrunner:34131/jars/ammonite-spark_2.12-0.5.0.jar with timestamp 1643038286725\n"
     ]
    },
    {
     "name": "stderr",
     "output_type": "stream",
     "text": [
      "22/01/24 16:31:26 INFO SparkContext: Added JAR file:/home/oscar/.cache/coursier/v1/https/repo1.maven.org/maven2/com/github/alexarchambault/argonaut-shapeless_6.2_2.12/1.2.0-M11/argonaut-shapeless_6.2_2.12-1.2.0-M11.jar at spark://netrunner:34131/jars/argonaut-shapeless_6.2_2.12-1.2.0-M11.jar with timestamp 1643038286725\n",
      "22/01/24 16:31:26 INFO SparkContext: Added JAR file:/home/oscar/.cache/coursier/v1/https/repo1.maven.org/maven2/org/eclipse/jetty/jetty-server/9.4.19.v20190610/jetty-server-9.4.19.v20190610.jar at spark://netrunner:34131/jars/jetty-server-9.4.19.v20190610.jar with timestamp 1643038286725\n",
      "22/01/24 16:31:26 INFO SparkContext: Added JAR file:/home/oscar/.cache/coursier/v1/https/repo1.maven.org/maven2/io/argonaut/argonaut_2.12/6.2.3/argonaut_2.12-6.2.3.jar at spark://netrunner:34131/jars/argonaut_2.12-6.2.3.jar with timestamp 1643038286725\n",
      "22/01/24 16:31:26 INFO SparkContext: Added JAR file:/home/oscar/.cache/coursier/v1/https/repo1.maven.org/maven2/com/chuusai/shapeless_2.12/2.3.3/shapeless_2.12-2.3.3.jar at spark://netrunner:34131/jars/shapeless_2.12-2.3.3.jar with timestamp 1643038286725\n",
      "22/01/24 16:31:26 INFO SparkContext: Added JAR file:/home/oscar/.cache/coursier/v1/https/repo1.maven.org/maven2/org/eclipse/jetty/jetty-http/9.4.19.v20190610/jetty-http-9.4.19.v20190610.jar at spark://netrunner:34131/jars/jetty-http-9.4.19.v20190610.jar with timestamp 1643038286725\n",
      "22/01/24 16:31:26 INFO SparkContext: Added JAR file:/home/oscar/.cache/coursier/v1/https/repo1.maven.org/maven2/org/eclipse/jetty/jetty-io/9.4.19.v20190610/jetty-io-9.4.19.v20190610.jar at spark://netrunner:34131/jars/jetty-io-9.4.19.v20190610.jar with timestamp 1643038286725\n",
      "22/01/24 16:31:26 INFO SparkContext: Added JAR file:/home/oscar/.cache/coursier/v1/https/repo1.maven.org/maven2/org/typelevel/macro-compat_2.12/1.1.1/macro-compat_2.12-1.1.1.jar at spark://netrunner:34131/jars/macro-compat_2.12-1.1.1.jar with timestamp 1643038286726\n",
      "22/01/24 16:31:26 INFO SparkContext: Added JAR file:/home/oscar/.cache/coursier/v1/https/repo1.maven.org/maven2/org/eclipse/jetty/jetty-util/9.4.19.v20190610/jetty-util-9.4.19.v20190610.jar at spark://netrunner:34131/jars/jetty-util-9.4.19.v20190610.jar with timestamp 1643038286726\n",
      "22/01/24 16:31:26 INFO Executor: Starting executor ID driver on host localhost\n",
      "22/01/24 16:31:26 INFO Executor: Using REPL class URI: http://192.168.1.228:45539\n",
      "22/01/24 16:31:26 INFO Utils: Successfully started service 'org.apache.spark.network.netty.NettyBlockTransferService' on port 41447.\n",
      "22/01/24 16:31:26 INFO NettyBlockTransferService: Server created on netrunner:41447\n",
      "22/01/24 16:31:26 INFO BlockManager: Using org.apache.spark.storage.RandomBlockReplicationPolicy for block replication policy\n",
      "22/01/24 16:31:26 INFO BlockManagerMaster: Registering BlockManager BlockManagerId(driver, netrunner, 41447, None)\n",
      "22/01/24 16:31:26 INFO BlockManagerMasterEndpoint: Registering block manager netrunner:41447 with 1956.6 MB RAM, BlockManagerId(driver, netrunner, 41447, None)\n",
      "22/01/24 16:31:26 INFO BlockManagerMaster: Registered BlockManager BlockManagerId(driver, netrunner, 41447, None)\n",
      "22/01/24 16:31:26 INFO BlockManager: Initialized BlockManager: BlockManagerId(driver, netrunner, 41447, None)\n"
     ]
    },
    {
     "data": {
      "text/html": [
       "<a target=\"_blank\" href=\"http://netrunner:4040\">Spark UI</a>"
      ]
     },
     "metadata": {},
     "output_type": "display_data"
    },
    {
     "data": {
      "text/plain": [
       "\u001b[32mimport \u001b[39m\u001b[36m$ivy.$                                  \n",
       "\u001b[39m\n",
       "\u001b[32mimport \u001b[39m\u001b[36m$ivy.$                              \n",
       "\n",
       "\u001b[39m\n",
       "\u001b[32mimport \u001b[39m\u001b[36morg.apache.spark._\n",
       "\u001b[39m\n",
       "\u001b[32mimport \u001b[39m\u001b[36morg.apache.spark.sql.{functions => func, _}\n",
       "\u001b[39m\n",
       "\u001b[32mimport \u001b[39m\u001b[36morg.apache.spark.sql.functions._\n",
       "\u001b[39m\n",
       "\u001b[32mimport \u001b[39m\u001b[36morg.apache.spark.sql.types._\n",
       "\n",
       "\u001b[39m\n",
       "\u001b[32mimport \u001b[39m\u001b[36morg.slf4j.LoggerFactory\n",
       "\u001b[39m\n",
       "\u001b[32mimport \u001b[39m\u001b[36morg.apache.log4j.{Level, Logger}\n",
       "\n",
       "\u001b[39m\n",
       "\u001b[36mspark\u001b[39m: \u001b[32mSparkSession\u001b[39m = org.apache.spark.sql.SparkSession@9565ae0\n",
       "\u001b[32mimport \u001b[39m\u001b[36mspark.implicits._\n",
       "\n",
       "\u001b[39m\n",
       "defined \u001b[32mfunction\u001b[39m \u001b[36mrun\u001b[39m"
      ]
     },
     "execution_count": 1,
     "metadata": {},
     "output_type": "execute_result"
    }
   ],
   "source": [
    "import $ivy.`org.apache.spark::spark-sql:2.4.3`\n",
    "import $ivy.`sh.almond::almond-spark:0.6.0`\n",
    "\n",
    "import org.apache.spark._\n",
    "import org.apache.spark.sql.{functions => func, _}\n",
    "import org.apache.spark.sql.functions._\n",
    "import org.apache.spark.sql.types._\n",
    "\n",
    "import org.slf4j.LoggerFactory\n",
    "import org.apache.log4j.{Level, Logger}\n",
    "\n",
    "val spark = NotebookSparkSession\n",
    "      .builder()\n",
    "      .config(\"spark.sql.join.preferSortMergeJoin\", false)\n",
    "      .config(\"spark.sql.shuffle.partitions\", 64)\n",
    "      .master(\"local[*]\")\n",
    "      .getOrCreate()\n",
    "\n",
    "import spark.implicits._\n",
    "\n",
    "Logger.getRootLogger().setLevel(Level.ERROR)\n",
    "\n",
    "def run[A](code: => A): A = {\n",
    "    val start = System.currentTimeMillis()\n",
    "    val res = code\n",
    "    println(s\"Took ${System.currentTimeMillis() - start}\")\n",
    "    res\n",
    "}"
   ]
  },
  {
   "cell_type": "code",
   "execution_count": 2,
   "id": "8acb1b2a",
   "metadata": {},
   "outputs": [
    {
     "data": {
      "text/plain": [
       "\u001b[32mimport \u001b[39m\u001b[36m$ivy.$                                      \n",
       "\u001b[39m\n",
       "\u001b[32mimport \u001b[39m\u001b[36mplotly._, plotly.element._, plotly.layout._, plotly.Almond._\n",
       "\n",
       "// if you want to have the plots available without an internet connection:\n",
       "//init(offline=true)\n",
       "\n",
       "// restrict the output height to avoid scrolling in output cells\n",
       "\u001b[39m"
      ]
     },
     "execution_count": 2,
     "metadata": {},
     "output_type": "execute_result"
    }
   ],
   "source": [
    "import $ivy.`org.plotly-scala::plotly-almond:0.7.0`\n",
    "import plotly._, plotly.element._, plotly.layout._, plotly.Almond._\n",
    "\n",
    "// if you want to have the plots available without an internet connection:\n",
    "//init(offline=true)\n",
    "\n",
    "// restrict the output height to avoid scrolling in output cells\n",
    "repl.pprinter() = repl.pprinter().copy(defaultHeight = 3)"
   ]
  },
  {
   "cell_type": "code",
   "execution_count": 3,
   "id": "e2be4ff4",
   "metadata": {},
   "outputs": [
    {
     "data": {
      "text/plain": [
       "\u001b[32mimport \u001b[39m\u001b[36morg.apache.spark.sql.expressions.Window\u001b[39m"
      ]
     },
     "execution_count": 3,
     "metadata": {},
     "output_type": "execute_result"
    }
   ],
   "source": [
    "import org.apache.spark.sql.expressions.Window"
   ]
  },
  {
   "cell_type": "code",
   "execution_count": 4,
   "id": "950883cf",
   "metadata": {},
   "outputs": [
    {
     "data": {
      "text/html": [
       "<script>\n",
       "var comm = Jupyter.notebook.kernel.comm_manager.new_comm('cancel-stage-63084985-d071-44a0-827d-552a7747adc4', {});\n",
       "\n",
       "function cancelStage(stageId) {\n",
       "  console.log('Cancelling stage ' + stageId);\n",
       "  comm.send({ 'stageId': stageId });\n",
       "}\n",
       "</script>\n",
       "          "
      ]
     },
     "metadata": {},
     "output_type": "display_data"
    },
    {
     "data": {
      "text/html": [
       "<div>\n",
       "  <span style=\"float: left;\">load at cmd3.sc:4</span>\n",
       "</div>\n"
      ]
     },
     "metadata": {},
     "output_type": "display_data"
    },
    {
     "data": {
      "text/html": [
       "<div class=\"progress\">\n",
       "  <div class=\"progress-bar\" role=\"progressbar\" style=\"background-color: blue; width: 100%; word-wrap: normal; white-space: nowrap; text-align: center; color: white\" aria-valuenow=\"100\" aria-valuemin=\"0\" aria-valuemax=\"100\">\n",
       "    1 / 1\n",
       "  </div>\n",
       "  <div class=\"progress-bar\" role=\"progressbar\" style=\"background-color: red; width: 0%\" aria-valuenow=\"0\" aria-valuemin=\"0\" aria-valuemax=\"100\"></div>\n",
       "</div>\n"
      ]
     },
     "metadata": {},
     "output_type": "display_data"
    },
    {
     "data": {
      "text/plain": [
       "\u001b[36mraces\u001b[39m: \u001b[32mDataset\u001b[39m[\u001b[32mRow\u001b[39m] = [raceId: string, year: string]"
      ]
     },
     "execution_count": 4,
     "metadata": {},
     "output_type": "execute_result"
    }
   ],
   "source": [
    "val races = spark.read.format(\"csv\")\n",
    "    .option(\"header\", \"true\")\n",
    "    .option(\"sep\", \",\")\n",
    "    .load(\"../data/races.csv\")\n",
    "    .select(\"raceId\", \"year\")\n",
    "    .where(col(\"year\") === 2021)"
   ]
  },
  {
   "cell_type": "code",
   "execution_count": 5,
   "id": "706bd707",
   "metadata": {},
   "outputs": [
    {
     "data": {
      "text/html": [
       "<div>\n",
       "  <span style=\"float: left;\">load at cmd4.sc:4</span>\n",
       "</div>\n"
      ]
     },
     "metadata": {},
     "output_type": "display_data"
    },
    {
     "data": {
      "text/html": [
       "<div class=\"progress\">\n",
       "  <div class=\"progress-bar\" role=\"progressbar\" style=\"background-color: blue; width: 100%; word-wrap: normal; white-space: nowrap; text-align: center; color: white\" aria-valuenow=\"100\" aria-valuemin=\"0\" aria-valuemax=\"100\">\n",
       "    1 / 1\n",
       "  </div>\n",
       "  <div class=\"progress-bar\" role=\"progressbar\" style=\"background-color: red; width: 0%\" aria-valuenow=\"0\" aria-valuemin=\"0\" aria-valuemax=\"100\"></div>\n",
       "</div>\n"
      ]
     },
     "metadata": {},
     "output_type": "display_data"
    },
    {
     "data": {
      "text/plain": [
       "\u001b[36mdrivers\u001b[39m: \u001b[32mDataFrame\u001b[39m = [driverId: string, driverRef: string ... 7 more fields]"
      ]
     },
     "execution_count": 5,
     "metadata": {},
     "output_type": "execute_result"
    }
   ],
   "source": [
    "val drivers = spark.read.format(\"csv\")\n",
    "    .option(\"header\", \"true\")\n",
    "    .option(\"sep\", \",\")\n",
    "    .load(\"../data/drivers.csv\")"
   ]
  },
  {
   "cell_type": "code",
   "execution_count": 6,
   "id": "9cbb4438",
   "metadata": {},
   "outputs": [
    {
     "data": {
      "text/plain": [
       "\u001b[36mdriverWindow\u001b[39m: \u001b[32mexpressions\u001b[39m.\u001b[32mWindowSpec\u001b[39m = org.apache.spark.sql.expressions.WindowSpec@290de9d0\n",
       "\u001b[36mseasonWindow\u001b[39m: \u001b[32mexpressions\u001b[39m.\u001b[32mWindowSpec\u001b[39m = org.apache.spark.sql.expressions.WindowSpec@590c5d44\n",
       "\u001b[36mdriverRaceWindow\u001b[39m: \u001b[32mexpressions\u001b[39m.\u001b[32mWindowSpec\u001b[39m = org.apache.spark.sql.expressions.WindowSpec@719fc36\n",
       "\u001b[36mraceDriverLapWindow\u001b[39m: \u001b[32mexpressions\u001b[39m.\u001b[32mWindowSpec\u001b[39m = org.apache.spark.sql.expressions.WindowSpec@5694e0d5"
      ]
     },
     "execution_count": 6,
     "metadata": {},
     "output_type": "execute_result"
    }
   ],
   "source": [
    "val driverWindow = Window.partitionBy(\"driverId\")\n",
    "val seasonWindow = Window.partitionBy(\"year\")\n",
    "val driverRaceWindow = Window.partitionBy(\"driverId\", \"raceId\")\n",
    "val raceDriverLapWindow = Window.partitionBy(\"driverId\", \"raceId\").orderBy(\"lap\")"
   ]
  },
  {
   "cell_type": "code",
   "execution_count": 10,
   "id": "ef7ccd54",
   "metadata": {},
   "outputs": [
    {
     "data": {
      "text/html": [
       "<div>\n",
       "  <span style=\"float: left;\">load at cmd9.sc:4</span>\n",
       "</div>\n"
      ]
     },
     "metadata": {},
     "output_type": "display_data"
    },
    {
     "data": {
      "text/html": [
       "<div class=\"progress\">\n",
       "  <div class=\"progress-bar\" role=\"progressbar\" style=\"background-color: blue; width: 100%; word-wrap: normal; white-space: nowrap; text-align: center; color: white\" aria-valuenow=\"100\" aria-valuemin=\"0\" aria-valuemax=\"100\">\n",
       "    1 / 1\n",
       "  </div>\n",
       "  <div class=\"progress-bar\" role=\"progressbar\" style=\"background-color: red; width: 0%\" aria-valuenow=\"0\" aria-valuemin=\"0\" aria-valuemax=\"100\"></div>\n",
       "</div>\n"
      ]
     },
     "metadata": {},
     "output_type": "display_data"
    },
    {
     "data": {
      "text/plain": [
       "\u001b[36mdriverStats\u001b[39m: \u001b[32mDataset\u001b[39m[\u001b[32mRow\u001b[39m] = [raceId: string, driverId: string ... 4 more fields]"
      ]
     },
     "execution_count": 10,
     "metadata": {},
     "output_type": "execute_result"
    }
   ],
   "source": [
    "val driverStats = spark.read.format(\"csv\")\n",
    "    .option(\"header\", \"true\")\n",
    "    .option(\"sep\", \",\")\n",
    "    .load(\"../data/lap_times.csv\")\n",
    "\n",
    "    .withColumn(\"position\", col(\"position\").cast(IntegerType)) \n",
    "    .withColumn(\"lap\", col(\"lap\").cast(IntegerType)) \n",
    "    .join(races, \"raceId\")\n",
    "\n",
    "    .withColumn(\"positionNextLap\", lead(col(\"position\"), 1).over(raceDriverLapWindow))\n",
    "    .withColumn(\"positionsGainedLap\", when(col(\"positionNextLap\") < col(\"position\") , abs(col(\"position\") - col(\"positionNextLap\"))).otherwise(0))\n",
    "    .withColumn(\"positionsLostLap\", when(col(\"positionNextLap\") > col(\"position\"), abs(col(\"position\") - col(\"positionNextLap\"))).otherwise(0))\n",
    "    .withColumn(\"positionsGained\", sum(col(\"positionsGainedLap\")).over(driverRaceWindow))\n",
    "    .withColumn(\"positionsLost\", sum(col(\"positionsLostLap\")).over(driverRaceWindow))\n",
    "    .withColumn(\"lapLeader\", when(col(\"position\") === 1, 1).otherwise(0))\n",
    "    .withColumn(\"lapsLed\", sum(col(\"lapLeader\")).over(driverWindow))\n",
    "    .withColumn(\"totalLaps\", sum(col(\"lapLeader\")).over(seasonWindow))\n",
    "    .withColumn(\"percLapsLed\", round(col(\"lapsLed\") / col(\"totalLaps\"), 2))\n",
    "    .select(\"raceId\", \"driverId\", \"positionsGained\", \"positionsLost\", \"lapsLed\", \"percLapsLed\")\n",
    "    .dropDuplicates()"
   ]
  },
  {
   "cell_type": "code",
   "execution_count": 12,
   "id": "2468ec96",
   "metadata": {},
   "outputs": [
    {
     "data": {
      "text/html": [
       "<div>\n",
       "  <span style=\"float: left;\">load at cmd11.sc:4</span>\n",
       "</div>\n"
      ]
     },
     "metadata": {},
     "output_type": "display_data"
    },
    {
     "data": {
      "text/html": [
       "<div class=\"progress\">\n",
       "  <div class=\"progress-bar\" role=\"progressbar\" style=\"background-color: blue; width: 100%; word-wrap: normal; white-space: nowrap; text-align: center; color: white\" aria-valuenow=\"100\" aria-valuemin=\"0\" aria-valuemax=\"100\">\n",
       "    1 / 1\n",
       "  </div>\n",
       "  <div class=\"progress-bar\" role=\"progressbar\" style=\"background-color: red; width: 0%\" aria-valuenow=\"0\" aria-valuemin=\"0\" aria-valuemax=\"100\"></div>\n",
       "</div>\n"
      ]
     },
     "metadata": {},
     "output_type": "display_data"
    },
    {
     "data": {
      "text/plain": [
       "\u001b[36mresults\u001b[39m: \u001b[32mDataset\u001b[39m[\u001b[32mRow\u001b[39m] = [code: string, champPoints: bigint ... 11 more fields]"
      ]
     },
     "execution_count": 12,
     "metadata": {},
     "output_type": "execute_result"
    }
   ],
   "source": [
    "val results = spark.read.format(\"csv\")\n",
    "    .option(\"header\", \"true\")\n",
    "    .option(\"sep\", \",\")\n",
    "    .load(\"../data/results.csv\")\n",
    "\n",
    "    .withColumn(\"position\", col(\"position\").cast(IntegerType))    \n",
    "    .withColumn(\"grid\", col(\"grid\").cast(IntegerType))    \n",
    "    .withColumn(\"points\", col(\"points\").cast(IntegerType))\n",
    "\n",
    "    .join(races, \"raceId\")\n",
    "    .join(driverStats, Seq(\"raceId\", \"driverId\"), \"left\")\n",
    "    .join(drivers, \"driverId\")\n",
    "\n",
    "    .withColumn(\"podium\", when(col(\"position\") === 1 || col(\"position\") === 2 ||col(\"position\") === 3, lit(1)).otherwise(lit(0)))\n",
    "    .withColumn(\"averagePoints\", round(avg(col(\"points\")).over(driverWindow), 2))\n",
    "    .withColumn(\"maxAvgPoints\", max(col(\"averagePoints\")).over(seasonWindow))\n",
    "\n",
    "    .select(\n",
    "        col(\"code\"),\n",
    "        sum(col(\"points\")).over(driverWindow).as(\"champPoints\"),\n",
    "        col(\"averagePoints\"),\n",
    "        round(col(\"averagePoints\") / col(\"maxAvgPoints\"),2).as(\"pointPercent\"),\n",
    "        sum(col(\"podium\")).over(driverWindow).as(\"totalPodiums\"),\n",
    "        round(sum(col(\"podium\")).over(driverWindow) / count(col(\"podium\")).over(driverWindow), 2).as(\"podiumPercent\"),\n",
    "        round(avg(col(\"position\") - col(\"grid\")).over(driverWindow), 2).as(\"positionDelta\"),\n",
    "        round(avg(col(\"positionsLost\")).over(driverWindow), 2).as(\"avgPositionsLost\"),\n",
    "        round(avg(col(\"positionsGained\")).over(driverWindow), 2).as(\"avgPositionsWon\"),\n",
    "        sum(col(\"positionsLost\")).over(driverWindow).as(\"totalPositionsLost\"),\n",
    "        sum(col(\"positionsGained\")).over(driverWindow).as(\"totalPositionsWon\"),\n",
    "        col(\"lapsLed\"),\n",
    "        col(\"percLapsLed\")\n",
    "    )\n",
    "\n",
    "    .na.fill(0)\n",
    "    .dropDuplicates(Seq(\"code\"))\n",
    "    .sort(col(\"avgPositionsLost\").desc)"
   ]
  },
  {
   "cell_type": "code",
   "execution_count": 31,
   "id": "c2b95b19",
   "metadata": {},
   "outputs": [
    {
     "data": {
      "text/html": [
       "<div>\n",
       "  <span style=\"float: left;\">run at ThreadPoolExecutor.java:1149</span>\n",
       "</div>\n"
      ]
     },
     "metadata": {},
     "output_type": "display_data"
    },
    {
     "data": {
      "text/html": [
       "<div class=\"progress\">\n",
       "  <div class=\"progress-bar\" role=\"progressbar\" style=\"background-color: blue; width: 100%; word-wrap: normal; white-space: nowrap; text-align: center; color: white\" aria-valuenow=\"100\" aria-valuemin=\"0\" aria-valuemax=\"100\">\n",
       "    1 / 1\n",
       "  </div>\n",
       "  <div class=\"progress-bar\" role=\"progressbar\" style=\"background-color: red; width: 0%\" aria-valuenow=\"0\" aria-valuemin=\"0\" aria-valuemax=\"100\"></div>\n",
       "</div>\n"
      ]
     },
     "metadata": {},
     "output_type": "display_data"
    },
    {
     "data": {
      "text/html": [
       "<div>\n",
       "  <span style=\"float: left;\">run at ThreadPoolExecutor.java:1149</span>\n",
       "</div>\n"
      ]
     },
     "metadata": {},
     "output_type": "display_data"
    },
    {
     "data": {
      "text/html": [
       "<div class=\"progress\">\n",
       "  <div class=\"progress-bar\" role=\"progressbar\" style=\"background-color: blue; width: 100%; word-wrap: normal; white-space: nowrap; text-align: center; color: white\" aria-valuenow=\"100\" aria-valuemin=\"0\" aria-valuemax=\"100\">\n",
       "    1 / 1\n",
       "  </div>\n",
       "  <div class=\"progress-bar\" role=\"progressbar\" style=\"background-color: red; width: 0%\" aria-valuenow=\"0\" aria-valuemin=\"0\" aria-valuemax=\"100\"></div>\n",
       "</div>\n"
      ]
     },
     "metadata": {},
     "output_type": "display_data"
    },
    {
     "data": {
      "text/html": [
       "<div>\n",
       "  <span style=\"float: left;\">collect at cmd30.sc:3</span>\n",
       "</div>\n"
      ]
     },
     "metadata": {},
     "output_type": "display_data"
    },
    {
     "data": {
      "text/html": [
       "<div class=\"progress\">\n",
       "  <div class=\"progress-bar\" role=\"progressbar\" style=\"background-color: blue; width: 100%; word-wrap: normal; white-space: nowrap; text-align: center; color: white\" aria-valuenow=\"100\" aria-valuemin=\"0\" aria-valuemax=\"100\">\n",
       "    1 / 1\n",
       "  </div>\n",
       "  <div class=\"progress-bar\" role=\"progressbar\" style=\"background-color: red; width: 0%\" aria-valuenow=\"0\" aria-valuemin=\"0\" aria-valuemax=\"100\"></div>\n",
       "</div>\n"
      ]
     },
     "metadata": {},
     "output_type": "display_data"
    },
    {
     "data": {
      "text/html": [
       "<div>\n",
       "  <span style=\"float: left;\">collect at cmd30.sc:3</span>\n",
       "</div>\n"
      ]
     },
     "metadata": {},
     "output_type": "display_data"
    },
    {
     "data": {
      "text/html": [
       "<div class=\"progress\">\n",
       "  <div class=\"progress-bar\" role=\"progressbar\" style=\"background-color: blue; width: 100%; word-wrap: normal; white-space: nowrap; text-align: center; color: white\" aria-valuenow=\"100\" aria-valuemin=\"0\" aria-valuemax=\"100\">\n",
       "    4 / 4\n",
       "  </div>\n",
       "  <div class=\"progress-bar\" role=\"progressbar\" style=\"background-color: red; width: 0%\" aria-valuenow=\"0\" aria-valuemin=\"0\" aria-valuemax=\"100\"></div>\n",
       "</div>\n"
      ]
     },
     "metadata": {},
     "output_type": "display_data"
    },
    {
     "data": {
      "text/html": [
       "<div>\n",
       "  <span style=\"float: left;\">collect at cmd30.sc:3</span>\n",
       "</div>\n"
      ]
     },
     "metadata": {},
     "output_type": "display_data"
    },
    {
     "data": {
      "text/html": [
       "<div class=\"progress\">\n",
       "  <div class=\"progress-bar\" role=\"progressbar\" style=\"background-color: blue; width: 100%; word-wrap: normal; white-space: nowrap; text-align: center; color: white\" aria-valuenow=\"100\" aria-valuemin=\"0\" aria-valuemax=\"100\">\n",
       "    1 / 1\n",
       "  </div>\n",
       "  <div class=\"progress-bar\" role=\"progressbar\" style=\"background-color: red; width: 0%\" aria-valuenow=\"0\" aria-valuemin=\"0\" aria-valuemax=\"100\"></div>\n",
       "</div>\n"
      ]
     },
     "metadata": {},
     "output_type": "display_data"
    },
    {
     "data": {
      "text/html": [
       "<div>\n",
       "  <span style=\"float: left;\">collect at cmd30.sc:3</span>\n",
       "</div>\n"
      ]
     },
     "metadata": {},
     "output_type": "display_data"
    },
    {
     "data": {
      "text/html": [
       "<div class=\"progress\">\n",
       "  <div class=\"progress-bar\" role=\"progressbar\" style=\"background-color: blue; width: 100%; word-wrap: normal; white-space: nowrap; text-align: center; color: white\" aria-valuenow=\"100\" aria-valuemin=\"0\" aria-valuemax=\"100\">\n",
       "    64 / 64\n",
       "  </div>\n",
       "  <div class=\"progress-bar\" role=\"progressbar\" style=\"background-color: red; width: 0%\" aria-valuenow=\"0\" aria-valuemin=\"0\" aria-valuemax=\"100\"></div>\n",
       "</div>\n"
      ]
     },
     "metadata": {},
     "output_type": "display_data"
    },
    {
     "data": {
      "text/html": [
       "<div>\n",
       "  <span style=\"float: left;\">collect at cmd30.sc:3</span>\n",
       "</div>\n"
      ]
     },
     "metadata": {},
     "output_type": "display_data"
    },
    {
     "data": {
      "text/html": [
       "<div class=\"progress\">\n",
       "  <div class=\"progress-bar\" role=\"progressbar\" style=\"background-color: blue; width: 100%; word-wrap: normal; white-space: nowrap; text-align: center; color: white\" aria-valuenow=\"100\" aria-valuemin=\"0\" aria-valuemax=\"100\">\n",
       "    64 / 64\n",
       "  </div>\n",
       "  <div class=\"progress-bar\" role=\"progressbar\" style=\"background-color: red; width: 0%\" aria-valuenow=\"0\" aria-valuemin=\"0\" aria-valuemax=\"100\"></div>\n",
       "</div>\n"
      ]
     },
     "metadata": {},
     "output_type": "display_data"
    },
    {
     "data": {
      "text/html": [
       "<div>\n",
       "  <span style=\"float: left;\">collect at cmd30.sc:3</span>\n",
       "</div>\n"
      ]
     },
     "metadata": {},
     "output_type": "display_data"
    },
    {
     "data": {
      "text/html": [
       "<div class=\"progress\">\n",
       "  <div class=\"progress-bar\" role=\"progressbar\" style=\"background-color: blue; width: 100%; word-wrap: normal; white-space: nowrap; text-align: center; color: white\" aria-valuenow=\"100\" aria-valuemin=\"0\" aria-valuemax=\"100\">\n",
       "    64 / 64\n",
       "  </div>\n",
       "  <div class=\"progress-bar\" role=\"progressbar\" style=\"background-color: red; width: 0%\" aria-valuenow=\"0\" aria-valuemin=\"0\" aria-valuemax=\"100\"></div>\n",
       "</div>\n"
      ]
     },
     "metadata": {},
     "output_type": "display_data"
    },
    {
     "data": {
      "text/html": [
       "<div>\n",
       "  <span style=\"float: left;\">collect at cmd30.sc:3</span>\n",
       "</div>\n"
      ]
     },
     "metadata": {},
     "output_type": "display_data"
    },
    {
     "data": {
      "text/html": [
       "<div class=\"progress\">\n",
       "  <div class=\"progress-bar\" role=\"progressbar\" style=\"background-color: blue; width: 100%; word-wrap: normal; white-space: nowrap; text-align: center; color: white\" aria-valuenow=\"100\" aria-valuemin=\"0\" aria-valuemax=\"100\">\n",
       "    64 / 64\n",
       "  </div>\n",
       "  <div class=\"progress-bar\" role=\"progressbar\" style=\"background-color: red; width: 0%\" aria-valuenow=\"0\" aria-valuemin=\"0\" aria-valuemax=\"100\"></div>\n",
       "</div>\n"
      ]
     },
     "metadata": {},
     "output_type": "display_data"
    },
    {
     "data": {
      "text/html": [
       "<div>\n",
       "  <span style=\"float: left;\">collect at cmd30.sc:3</span>\n",
       "</div>\n"
      ]
     },
     "metadata": {},
     "output_type": "display_data"
    },
    {
     "data": {
      "text/html": [
       "<div class=\"progress\">\n",
       "  <div class=\"progress-bar\" role=\"progressbar\" style=\"background-color: blue; width: 100%; word-wrap: normal; white-space: nowrap; text-align: center; color: white\" aria-valuenow=\"100\" aria-valuemin=\"0\" aria-valuemax=\"100\">\n",
       "    64 / 64\n",
       "  </div>\n",
       "  <div class=\"progress-bar\" role=\"progressbar\" style=\"background-color: red; width: 0%\" aria-valuenow=\"0\" aria-valuemin=\"0\" aria-valuemax=\"100\"></div>\n",
       "</div>\n"
      ]
     },
     "metadata": {},
     "output_type": "display_data"
    },
    {
     "data": {
      "text/html": [
       "<div>\n",
       "  <span style=\"float: left;\">collect at cmd30.sc:3</span>\n",
       "</div>\n"
      ]
     },
     "metadata": {},
     "output_type": "display_data"
    },
    {
     "data": {
      "text/html": [
       "<div class=\"progress\">\n",
       "  <div class=\"progress-bar\" role=\"progressbar\" style=\"background-color: blue; width: 100%; word-wrap: normal; white-space: nowrap; text-align: center; color: white\" aria-valuenow=\"100\" aria-valuemin=\"0\" aria-valuemax=\"100\">\n",
       "    21 / 21\n",
       "  </div>\n",
       "  <div class=\"progress-bar\" role=\"progressbar\" style=\"background-color: red; width: 0%\" aria-valuenow=\"0\" aria-valuemin=\"0\" aria-valuemax=\"100\"></div>\n",
       "</div>\n"
      ]
     },
     "metadata": {},
     "output_type": "display_data"
    },
    {
     "data": {
      "text/html": [
       "<div>\n",
       "  <span style=\"float: left;\">run at ThreadPoolExecutor.java:1149</span>\n",
       "</div>\n"
      ]
     },
     "metadata": {},
     "output_type": "display_data"
    },
    {
     "data": {
      "text/html": [
       "<div class=\"progress\">\n",
       "  <div class=\"progress-bar\" role=\"progressbar\" style=\"background-color: blue; width: 100%; word-wrap: normal; white-space: nowrap; text-align: center; color: white\" aria-valuenow=\"100\" aria-valuemin=\"0\" aria-valuemax=\"100\">\n",
       "    1 / 1\n",
       "  </div>\n",
       "  <div class=\"progress-bar\" role=\"progressbar\" style=\"background-color: red; width: 0%\" aria-valuenow=\"0\" aria-valuemin=\"0\" aria-valuemax=\"100\"></div>\n",
       "</div>\n"
      ]
     },
     "metadata": {},
     "output_type": "display_data"
    },
    {
     "data": {
      "text/html": [
       "<div>\n",
       "  <span style=\"float: left;\">run at ThreadPoolExecutor.java:1149</span>\n",
       "</div>\n"
      ]
     },
     "metadata": {},
     "output_type": "display_data"
    },
    {
     "data": {
      "text/html": [
       "<div class=\"progress\">\n",
       "  <div class=\"progress-bar\" role=\"progressbar\" style=\"background-color: blue; width: 100%; word-wrap: normal; white-space: nowrap; text-align: center; color: white\" aria-valuenow=\"100\" aria-valuemin=\"0\" aria-valuemax=\"100\">\n",
       "    1 / 1\n",
       "  </div>\n",
       "  <div class=\"progress-bar\" role=\"progressbar\" style=\"background-color: red; width: 0%\" aria-valuenow=\"0\" aria-valuemin=\"0\" aria-valuemax=\"100\"></div>\n",
       "</div>\n"
      ]
     },
     "metadata": {},
     "output_type": "display_data"
    },
    {
     "data": {
      "text/html": [
       "<div>\n",
       "  <span style=\"float: left;\">collect at cmd30.sc:9</span>\n",
       "</div>\n"
      ]
     },
     "metadata": {},
     "output_type": "display_data"
    },
    {
     "data": {
      "text/html": [
       "<div class=\"progress\">\n",
       "  <div class=\"progress-bar\" role=\"progressbar\" style=\"background-color: blue; width: 100%; word-wrap: normal; white-space: nowrap; text-align: center; color: white\" aria-valuenow=\"100\" aria-valuemin=\"0\" aria-valuemax=\"100\">\n",
       "    1 / 1\n",
       "  </div>\n",
       "  <div class=\"progress-bar\" role=\"progressbar\" style=\"background-color: red; width: 0%\" aria-valuenow=\"0\" aria-valuemin=\"0\" aria-valuemax=\"100\"></div>\n",
       "</div>\n"
      ]
     },
     "metadata": {},
     "output_type": "display_data"
    },
    {
     "data": {
      "text/html": [
       "<div>\n",
       "  <span style=\"float: left;\">collect at cmd30.sc:9</span>\n",
       "</div>\n"
      ]
     },
     "metadata": {},
     "output_type": "display_data"
    },
    {
     "data": {
      "text/html": [
       "<div class=\"progress\">\n",
       "  <div class=\"progress-bar\" role=\"progressbar\" style=\"background-color: blue; width: 100%; word-wrap: normal; white-space: nowrap; text-align: center; color: white\" aria-valuenow=\"100\" aria-valuemin=\"0\" aria-valuemax=\"100\">\n",
       "    4 / 4\n",
       "  </div>\n",
       "  <div class=\"progress-bar\" role=\"progressbar\" style=\"background-color: red; width: 0%\" aria-valuenow=\"0\" aria-valuemin=\"0\" aria-valuemax=\"100\"></div>\n",
       "</div>\n"
      ]
     },
     "metadata": {},
     "output_type": "display_data"
    },
    {
     "data": {
      "text/html": [
       "<div>\n",
       "  <span style=\"float: left;\">collect at cmd30.sc:9</span>\n",
       "</div>\n"
      ]
     },
     "metadata": {},
     "output_type": "display_data"
    },
    {
     "data": {
      "text/html": [
       "<div class=\"progress\">\n",
       "  <div class=\"progress-bar\" role=\"progressbar\" style=\"background-color: blue; width: 100%; word-wrap: normal; white-space: nowrap; text-align: center; color: white\" aria-valuenow=\"100\" aria-valuemin=\"0\" aria-valuemax=\"100\">\n",
       "    1 / 1\n",
       "  </div>\n",
       "  <div class=\"progress-bar\" role=\"progressbar\" style=\"background-color: red; width: 0%\" aria-valuenow=\"0\" aria-valuemin=\"0\" aria-valuemax=\"100\"></div>\n",
       "</div>\n"
      ]
     },
     "metadata": {},
     "output_type": "display_data"
    },
    {
     "data": {
      "text/html": [
       "<div>\n",
       "  <span style=\"float: left;\">collect at cmd30.sc:9</span>\n",
       "</div>\n"
      ]
     },
     "metadata": {},
     "output_type": "display_data"
    },
    {
     "data": {
      "text/html": [
       "<div class=\"progress\">\n",
       "  <div class=\"progress-bar\" role=\"progressbar\" style=\"background-color: blue; width: 100%; word-wrap: normal; white-space: nowrap; text-align: center; color: white\" aria-valuenow=\"100\" aria-valuemin=\"0\" aria-valuemax=\"100\">\n",
       "    64 / 64\n",
       "  </div>\n",
       "  <div class=\"progress-bar\" role=\"progressbar\" style=\"background-color: red; width: 0%\" aria-valuenow=\"0\" aria-valuemin=\"0\" aria-valuemax=\"100\"></div>\n",
       "</div>\n"
      ]
     },
     "metadata": {},
     "output_type": "display_data"
    },
    {
     "data": {
      "text/html": [
       "<div>\n",
       "  <span style=\"float: left;\">collect at cmd30.sc:9</span>\n",
       "</div>\n"
      ]
     },
     "metadata": {},
     "output_type": "display_data"
    },
    {
     "data": {
      "text/html": [
       "<div class=\"progress\">\n",
       "  <div class=\"progress-bar\" role=\"progressbar\" style=\"background-color: blue; width: 100%; word-wrap: normal; white-space: nowrap; text-align: center; color: white\" aria-valuenow=\"100\" aria-valuemin=\"0\" aria-valuemax=\"100\">\n",
       "    64 / 64\n",
       "  </div>\n",
       "  <div class=\"progress-bar\" role=\"progressbar\" style=\"background-color: red; width: 0%\" aria-valuenow=\"0\" aria-valuemin=\"0\" aria-valuemax=\"100\"></div>\n",
       "</div>\n"
      ]
     },
     "metadata": {},
     "output_type": "display_data"
    },
    {
     "data": {
      "text/html": [
       "<div>\n",
       "  <span style=\"float: left;\">collect at cmd30.sc:9</span>\n",
       "</div>\n"
      ]
     },
     "metadata": {},
     "output_type": "display_data"
    },
    {
     "data": {
      "text/html": [
       "<div class=\"progress\">\n",
       "  <div class=\"progress-bar\" role=\"progressbar\" style=\"background-color: blue; width: 100%; word-wrap: normal; white-space: nowrap; text-align: center; color: white\" aria-valuenow=\"100\" aria-valuemin=\"0\" aria-valuemax=\"100\">\n",
       "    64 / 64\n",
       "  </div>\n",
       "  <div class=\"progress-bar\" role=\"progressbar\" style=\"background-color: red; width: 0%\" aria-valuenow=\"0\" aria-valuemin=\"0\" aria-valuemax=\"100\"></div>\n",
       "</div>\n"
      ]
     },
     "metadata": {},
     "output_type": "display_data"
    },
    {
     "data": {
      "text/html": [
       "<div>\n",
       "  <span style=\"float: left;\">collect at cmd30.sc:9</span>\n",
       "</div>\n"
      ]
     },
     "metadata": {},
     "output_type": "display_data"
    },
    {
     "data": {
      "text/html": [
       "<div class=\"progress\">\n",
       "  <div class=\"progress-bar\" role=\"progressbar\" style=\"background-color: blue; width: 100%; word-wrap: normal; white-space: nowrap; text-align: center; color: white\" aria-valuenow=\"100\" aria-valuemin=\"0\" aria-valuemax=\"100\">\n",
       "    64 / 64\n",
       "  </div>\n",
       "  <div class=\"progress-bar\" role=\"progressbar\" style=\"background-color: red; width: 0%\" aria-valuenow=\"0\" aria-valuemin=\"0\" aria-valuemax=\"100\"></div>\n",
       "</div>\n"
      ]
     },
     "metadata": {},
     "output_type": "display_data"
    },
    {
     "data": {
      "text/html": [
       "<div>\n",
       "  <span style=\"float: left;\">collect at cmd30.sc:9</span>\n",
       "</div>\n"
      ]
     },
     "metadata": {},
     "output_type": "display_data"
    },
    {
     "data": {
      "text/html": [
       "<div class=\"progress\">\n",
       "  <div class=\"progress-bar\" role=\"progressbar\" style=\"background-color: blue; width: 100%; word-wrap: normal; white-space: nowrap; text-align: center; color: white\" aria-valuenow=\"100\" aria-valuemin=\"0\" aria-valuemax=\"100\">\n",
       "    64 / 64\n",
       "  </div>\n",
       "  <div class=\"progress-bar\" role=\"progressbar\" style=\"background-color: red; width: 0%\" aria-valuenow=\"0\" aria-valuemin=\"0\" aria-valuemax=\"100\"></div>\n",
       "</div>\n"
      ]
     },
     "metadata": {},
     "output_type": "display_data"
    },
    {
     "data": {
      "text/html": [
       "<div>\n",
       "  <span style=\"float: left;\">collect at cmd30.sc:9</span>\n",
       "</div>\n"
      ]
     },
     "metadata": {},
     "output_type": "display_data"
    },
    {
     "data": {
      "text/html": [
       "<div class=\"progress\">\n",
       "  <div class=\"progress-bar\" role=\"progressbar\" style=\"background-color: blue; width: 100%; word-wrap: normal; white-space: nowrap; text-align: center; color: white\" aria-valuenow=\"100\" aria-valuemin=\"0\" aria-valuemax=\"100\">\n",
       "    21 / 21\n",
       "  </div>\n",
       "  <div class=\"progress-bar\" role=\"progressbar\" style=\"background-color: red; width: 0%\" aria-valuenow=\"0\" aria-valuemin=\"0\" aria-valuemax=\"100\"></div>\n",
       "</div>\n"
      ]
     },
     "metadata": {},
     "output_type": "display_data"
    },
    {
     "data": {
      "application/vnd.plotly.v1+json": {
       "data": [
        {
         "type": "bar",
         "x": [
          "VET",
          "RAI",
          "GAS",
          "TSU",
          "RUS",
          "GIO",
          "LEC",
          "STR",
          "ALO",
          "KUB",
          "OCO",
          "RIC",
          "SAI",
          "NOR",
          "LAT",
          "PER",
          "MSC",
          "BOT",
          "HAM",
          "MAZ",
          "VER"
         ],
         "y": [
          "8.23",
          "8.1",
          "7.91",
          "7.9",
          "7.59",
          "7.59",
          "7.55",
          "7.52",
          "7.45",
          "7.0",
          "6.9",
          "6.5",
          "6.14",
          "6.05",
          "5.95",
          "5.67",
          "4.67",
          "4.33",
          "4.32",
          "3.5",
          "2.71"
         ]
        }
       ],
       "layout": {
        "barmode": "group"
       }
      },
      "text/html": [
       "<div class=\"chart\" id=\"plot-0b2dcfb7-6f55-47cd-80f0-70a137b6e63d\"></div>\n",
       "<script>require(['plotly'], function(Plotly) {\n",
       "  (function () {\n",
       "  var data0 = {\"x\":[\"VET\",\"RAI\",\"GAS\",\"TSU\",\"RUS\",\"GIO\",\"LEC\",\"STR\",\"ALO\",\"KUB\",\"OCO\",\"RIC\",\"SAI\",\"NOR\",\"LAT\",\"PER\",\"MSC\",\"BOT\",\"HAM\",\"MAZ\",\"VER\"],\"y\":[\"8.23\",\"8.1\",\"7.91\",\"7.9\",\"7.59\",\"7.59\",\"7.55\",\"7.52\",\"7.45\",\"7.0\",\"6.9\",\"6.5\",\"6.14\",\"6.05\",\"5.95\",\"5.67\",\"4.67\",\"4.33\",\"4.32\",\"3.5\",\"2.71\"],\"type\":\"bar\"};\n",
       "\n",
       "  var data = [data0];\n",
       "  var layout = {\"barmode\":\"group\"};\n",
       "\n",
       "  Plotly.plot('plot-0b2dcfb7-6f55-47cd-80f0-70a137b6e63d', data, layout);\n",
       "})();\n",
       "});\n",
       "      </script>\n",
       "           "
      ]
     },
     "metadata": {},
     "output_type": "display_data"
    },
    {
     "data": {
      "text/plain": [
       "\u001b[36mdriverCodes\u001b[39m: \u001b[32mList\u001b[39m[\u001b[32mString\u001b[39m] = \u001b[33mList\u001b[39m(\n",
       "  \u001b[32m\"VET\"\u001b[39m,\n",
       "...\n",
       "\u001b[36mlapsLed\u001b[39m: \u001b[32mList\u001b[39m[\u001b[32mString\u001b[39m] = \u001b[33mList\u001b[39m(\n",
       "  \u001b[32m\"8.23\"\u001b[39m,\n",
       "...\n",
       "\u001b[36mdata\u001b[39m: \u001b[32mSeq\u001b[39m[\u001b[32mBar\u001b[39m] = \u001b[33mList\u001b[39m(\n",
       "  \u001b[33mBar\u001b[39m(\n",
       "...\n",
       "\u001b[36mlayout\u001b[39m: \u001b[32mLayout\u001b[39m = \u001b[33mLayout\u001b[39m(\n",
       "  \u001b[32mNone\u001b[39m,\n",
       "...\n",
       "\u001b[36mres30_4\u001b[39m: \u001b[32mString\u001b[39m = \u001b[32m\"plot-0b2dcfb7-6f55-47cd-80f0-70a137b6e63d\"\u001b[39m"
      ]
     },
     "execution_count": 31,
     "metadata": {},
     "output_type": "execute_result"
    }
   ],
   "source": [
    "val driverCodes = results\n",
    "    .select(\"code\")\n",
    "    .as[String]\n",
    "    .collect()\n",
    "    .toList\n",
    "\n",
    "val lapsLed = results\n",
    "    .select(\"avgPositionsLost\")\n",
    "    .as[String]\n",
    "    .collect()\n",
    "    .toList\n",
    "\n",
    "val data = Seq(\n",
    "  Bar(\n",
    "      driverCodes,  \n",
    "      lapsLed\n",
    "  )\n",
    ")\n",
    "\n",
    "val layout = Layout( \n",
    "  barmode = BarMode.Group\n",
    ")\n",
    "\n",
    "plot(data, layout)\n"
   ]
  },
  {
   "cell_type": "code",
   "execution_count": null,
   "id": "30fd2d88",
   "metadata": {},
   "outputs": [],
   "source": []
  }
 ],
 "metadata": {
  "kernelspec": {
   "display_name": "Scala (2.12)",
   "language": "scala",
   "name": "scala212"
  },
  "language_info": {
   "codemirror_mode": "text/x-scala",
   "file_extension": ".sc",
   "mimetype": "text/x-scala",
   "name": "scala",
   "nbconvert_exporter": "script",
   "version": "2.12.12"
  }
 },
 "nbformat": 4,
 "nbformat_minor": 5
}
