{
 "cells": [
  {
   "cell_type": "code",
   "execution_count": 1,
   "id": "a18dead9",
   "metadata": {},
   "outputs": [
    {
     "name": "stderr",
     "output_type": "stream",
     "text": [
      "Using Spark's default log4j profile: org/apache/spark/log4j-defaults.properties\n",
      "Setting default log level to \"WARN\".\n",
      "To adjust logging level use sc.setLogLevel(newLevel). For SparkR, use setLogLevel(newLevel).\n",
      "22/05/04 20:28:40 WARN NativeCodeLoader: Unable to load native-hadoop library for your platform... using builtin-java classes where applicable\n"
     ]
    }
   ],
   "source": [
    "from pyspark.sql import SparkSession\n",
    "from pyspark.sql import functions as F\n",
    "from pyspark.sql import types as T\n",
    "from pyspark.sql.types import *\n",
    "from pyspark.sql import Window\n",
    "\n",
    "spark = SparkSession.builder\\\n",
    "      .config(\"spark.sql.shuffle.partitions\", 4)\\\n",
    "      .master(\"local[4]\")\\\n",
    "      .getOrCreate()\n"
   ]
  },
  {
   "cell_type": "code",
   "execution_count": 2,
   "id": "8b0b3e8c",
   "metadata": {},
   "outputs": [],
   "source": [
    "entiretable = spark.read.format(\"csv\")\\\n",
    "    .option(\"header\", \"true\")\\\n",
    "    .option(\"sep\", \",\")\\\n",
    "    .load(\"../data/police/NYPD_Complaint_Data_Historic.csv\")\\\n",
    "    .withColumn(\"CMPLNT_FR_DATETIME\", F.to_timestamp(F.concat(F.col(\"CMPLNT_FR_DT\"), F.lit(\" \"), F.col(\"CMPLNT_FR_TM\")), \"MM/dd/yyyy HH:mm:ss\"))\\\n",
    "    .withColumn(\"COMPLETE_LOC\", F.concat(F.col(\"LOC_OF_OCCUR_DESC\"), F.lit(\" \"), F.col(\"PREM_TYP_DESC\")))\n",
    "\n",
    "crimesManh = entiretable\\\n",
    "    .withColumn(\"CMPLNT_FR_DATETIME_2H_AFTER\", F.col(\"CMPLNT_FR_DATETIME\") + F.expr(\"INTERVAL 2 HOURS\"))\\\n",
    "    .where((F.col(\"COMPLETE_LOC\") == \"INSIDE BAR/NIGHT CLUB\") & ((F.col(\"BORO_NM\") == \"MANHATTAN\") | (F.col(\"BORO_NM\") == \"BRONX\")) &\n",
    "          (F.dayofmonth(F.col(\"CMPLNT_FR_DATETIME\")) == 30) & (F.month(F.col(\"CMPLNT_FR_DATETIME\")) == 12) & (F.year(F.col(\"CMPLNT_FR_DATETIME\")) == 2015))\\\n",
    "    .withColumnRenamed(\"CMPLNT_FR_DATETIME\", \"CMPLNT_FR_DATETIME_MANH\")\\\n",
    "    .withColumnRenamed(\"CMPLNT_FR_DATETIME_2H_AFTER\", \"CMPLNT_FR_DATETIME_2H_AFTER_MANH\")\\\n",
    "    .withColumnRenamed(\"CMPLNT_FR_DT\", \"CMPLNT_FR_DT_MANH\")\\\n",
    "    .withColumnRenamed(\"CMPLNT_NUM\", \"CMPLNT_NUM_MANH\")\\\n",
    "    .select(\"CMPLNT_FR_DATETIME_MANH\", \"CMPLNT_FR_DATETIME_2H_AFTER_MANH\", \"CMPLNT_FR_DT_MANH\", \"CMPLNT_NUM_MANH\")\n",
    "    \n",
    "crimesQue = entiretable\\\n",
    "    .withColumn(\"CMPLNT_FR_DATETIME_2H_AFTER_QUE\", F.col(\"CMPLNT_FR_DATETIME\") + F.expr(\"INTERVAL 2 HOURS\"))\\\n",
    "    .where((F.col(\"COMPLETE_LOC\") == \"INSIDE DRUG STORE\") & ((F.col(\"BORO_NM\") == \"QUEENS\") | (F.col(\"BORO_NM\") == \"BROOKLYN\")) &\n",
    "          (F.dayofmonth(F.col(\"CMPLNT_FR_DATETIME\")) == 30) & (F.month(F.col(\"CMPLNT_FR_DATETIME\")) == 12) & (F.year(F.col(\"CMPLNT_FR_DATETIME\")) == 2015))\\\n",
    "    .withColumnRenamed(\"CMPLNT_FR_DATETIME\", \"CMPLNT_FR_DATETIME_QUE\")\\\n",
    "    .withColumnRenamed(\"CMPLNT_FR_DATETIME_2H_AFTER\", \"CMPLNT_FR_DATETIME_2H_AFTER_QUE\")\\\n",
    "    .withColumnRenamed(\"CMPLNT_FR_DT\", \"CMPLNT_FR_DT_QUE\")\\\n",
    "    .withColumnRenamed(\"CMPLNT_NUM\", \"CMPLNT_NUM_QUE\")\\\n",
    "    .select(\"CMPLNT_FR_DATETIME_QUE\", \"CMPLNT_FR_DATETIME_2H_AFTER_QUE\", \"CMPLNT_FR_DT_QUE\", \"CMPLNT_NUM_QUE\")\n",
    "\n",
    "results = crimesManh\\\n",
    "    .join(crimesQue, crimesManh.CMPLNT_FR_DT_MANH == crimesQue.CMPLNT_FR_DT_QUE, \"fullouter\")\\\n",
    "    .where((F.col(\"CMPLNT_FR_DATETIME_QUE\") <= F.col(\"CMPLNT_FR_DATETIME_2H_AFTER_MANH\")) &\n",
    "               (F.col(\"CMPLNT_FR_DATETIME_QUE\") >= F.col(\"CMPLNT_FR_DATETIME_MANH\")))\\\n",
    "    .select(\"CMPLNT_FR_DATETIME_MANH\", \"CMPLNT_NUM_MANH\", \"CMPLNT_FR_DATETIME_QUE\", \"CMPLNT_NUM_QUE\")"
   ]
  },
  {
   "cell_type": "code",
   "execution_count": 3,
   "id": "5fcd2d0c",
   "metadata": {},
   "outputs": [
    {
     "name": "stderr",
     "output_type": "stream",
     "text": [
      "                                                                                \r"
     ]
    }
   ],
   "source": [
    "results.write.mode(\"overwrite\").parquet(\"../out/police.parquet\")"
   ]
  },
  {
   "cell_type": "code",
   "execution_count": null,
   "id": "119b7f53",
   "metadata": {},
   "outputs": [],
   "source": []
  }
 ],
 "metadata": {
  "kernelspec": {
   "display_name": "Python 3 (ipykernel)",
   "language": "python",
   "name": "python3"
  },
  "language_info": {
   "codemirror_mode": {
    "name": "ipython",
    "version": 3
   },
   "file_extension": ".py",
   "mimetype": "text/x-python",
   "name": "python",
   "nbconvert_exporter": "python",
   "pygments_lexer": "ipython3",
   "version": "3.10.4"
  }
 },
 "nbformat": 4,
 "nbformat_minor": 5
}
