{
 "cells": [
  {
   "cell_type": "code",
   "execution_count": 1,
   "id": "2ede4cc9",
   "metadata": {},
   "outputs": [],
   "source": [
    "from pyspark.sql import SparkSession\n",
    "from pyspark.sql import functions as F\n",
    "from pyspark.sql import types as T\n",
    "from pyspark.sql import Window"
   ]
  },
  {
   "cell_type": "code",
   "execution_count": 2,
   "id": "455d314e",
   "metadata": {},
   "outputs": [
    {
     "name": "stderr",
     "output_type": "stream",
     "text": [
      "Using Spark's default log4j profile: org/apache/spark/log4j-defaults.properties\n",
      "Setting default log level to \"WARN\".\n",
      "To adjust logging level use sc.setLogLevel(newLevel). For SparkR, use setLogLevel(newLevel).\n",
      "22/05/05 09:32:57 WARN NativeCodeLoader: Unable to load native-hadoop library for your platform... using builtin-java classes where applicable\n"
     ]
    }
   ],
   "source": [
    "spark = SparkSession.builder\\\n",
    "      .config(\"spark.sql.shuffle.partitions\", 4)\\\n",
    "      .master(\"local[4]\")\\\n",
    "      .getOrCreate()"
   ]
  },
  {
   "cell_type": "code",
   "execution_count": 3,
   "id": "e2be4ff4",
   "metadata": {},
   "outputs": [],
   "source": [
    "races = spark.read.parquet(\"../../../data/parquetnopart/races.parquet\")\\\n",
    "    .select(\"raceId\", \"year\")"
   ]
  },
  {
   "cell_type": "code",
   "execution_count": 4,
   "id": "68c3af81",
   "metadata": {},
   "outputs": [],
   "source": [
    "seasonWindow = Window.partitionBy(\"year\")\n",
    "driverRaceWindow = Window.partitionBy(\"driverId\", \"raceId\")\n",
    "raceDriverLapWindow = Window.partitionBy(\"driverId\", \"raceId\").orderBy(\"lap\")"
   ]
  },
  {
   "cell_type": "code",
   "execution_count": 5,
   "id": "08228f70",
   "metadata": {},
   "outputs": [],
   "source": [
    "overtakes = spark.read.parquet(\"../../../data/parquetnopart/lap_times.parquet\")\\\n",
    "    .withColumn(\"position\", F.col(\"position\").cast(T.IntegerType()))\\\n",
    "    .withColumn(\"lap\", F.col(\"lap\").cast(T.IntegerType()))\\\n",
    "    .join(races, \"raceId\")\\\n",
    "    .withColumn(\"positionNextLap\", F.lead(F.col(\"position\"), 1).over(raceDriverLapWindow))\\\n",
    "    .withColumn(\"positionsGainedLap\", F.when(F.col(\"positionNextLap\") < F.col(\"position\") , F.abs(F.col(\"position\") - F.col(\"positionNextLap\"))).otherwise(0))\\\n",
    "    .groupBy(\"year\")\\\n",
    "    .agg(F.sum(F.col(\"positionsGainedLap\")).alias(\"positionsGainedSeason\"))\\\n",
    "    .withColumn(\"rankPositionsGained\", F.rank().over(Window.orderBy(F.col(\"positionsGainedSeason\").desc())))"
   ]
  },
  {
   "cell_type": "code",
   "execution_count": 6,
   "id": "295fc145",
   "metadata": {},
   "outputs": [],
   "source": [
    "leadersTroughoutSeason = spark.read.parquet(\"../../../data/parquetnopart/driver_standings.parquet\")\\\n",
    "    .join(races, \"raceId\")\\\n",
    "    .where(F.col(\"position\") == 1)\\\n",
    "    .dropDuplicates([\"driverId\", \"position\", \"year\"])\\\n",
    "    .groupBy(\"year\")\\\n",
    "    .agg(F.approx_count_distinct(F.col(\"driverId\")).alias(\"distinctLeaders\"))\\\n",
    "    .withColumn(\"rankDistinctLeaders\", F.rank().over(Window.orderBy(F.col(\"distinctLeaders\").desc())))"
   ]
  },
  {
   "cell_type": "code",
   "execution_count": 7,
   "id": "e81c29e9",
   "metadata": {},
   "outputs": [],
   "source": [
    "winnersTroughoutSeason = spark.read.parquet(\"../../../data/parquetnopart/results.parquet\")\\\n",
    "    .join(races, \"raceId\")\\\n",
    "    .where(F.col(\"position\") == 1)\\\n",
    "    .dropDuplicates([\"driverId\", \"position\", \"year\"])\\\n",
    "    .groupBy(\"year\")\\\n",
    "    .agg(F.approx_count_distinct(F.col(\"driverId\")).alias(\"distinctWinners\"))\\\n",
    "    .withColumn(\"rankDistinctWinners\", F.rank().over(Window.orderBy(F.col(\"distinctWinners\").desc())))"
   ]
  },
  {
   "cell_type": "code",
   "execution_count": 8,
   "id": "d37099ee",
   "metadata": {},
   "outputs": [],
   "source": [
    "def averageRank(cols):\n",
    "    return sum(cols) / len(cols)"
   ]
  },
  {
   "cell_type": "code",
   "execution_count": 9,
   "id": "59f46b13",
   "metadata": {},
   "outputs": [],
   "source": [
    "averageRank = F.udf(averageRank, T.IntegerType())"
   ]
  },
  {
   "cell_type": "markdown",
   "id": "3842c834",
   "metadata": {},
   "source": [
    "Usar la UDF definida arriba da resultados erróneos. Por ello se suman las columnas y se divide entre 3. Esto es menos flexible ya que si quisiera hacer la media del contenido de 6 columnas tendría que hacerlo a mano. Para solucionarlo también se puede castear la columna avgRank a Integer. Por defecto debe ser que las UDF devuelven un String en Python. Es importante establecer el tipo del output de la función."
   ]
  },
  {
   "cell_type": "code",
   "execution_count": 10,
   "id": "7552edd6",
   "metadata": {},
   "outputs": [],
   "source": [
    "results = overtakes\\\n",
    "    .join(leadersTroughoutSeason, \"year\", \"inner\")\\\n",
    "    .join(winnersTroughoutSeason, \"year\", \"inner\")\\\n",
    "    .withColumn(\"avgRank\", averageRank(F.array(F.col(\"rankDistinctWinners\"), F.col(\"rankDistinctLeaders\"), F.col(\"rankPositionsGained\"))))\\\n",
    "    .withColumn(\"overallRank\", F.rank().over(Window.orderBy(\"avgRank\")))\\\n",
    "    .sort(\"overallRank\")"
   ]
  },
  {
   "cell_type": "code",
   "execution_count": 11,
   "id": "0071274c",
   "metadata": {},
   "outputs": [
    {
     "name": "stderr",
     "output_type": "stream",
     "text": [
      "22/05/05 09:33:01 WARN WindowExec: No Partition Defined for Window operation! Moving all data to a single partition, this can cause serious performance degradation.\n",
      "22/05/05 09:33:01 WARN WindowExec: No Partition Defined for Window operation! Moving all data to a single partition, this can cause serious performance degradation.\n",
      "22/05/05 09:33:01 WARN WindowExec: No Partition Defined for Window operation! Moving all data to a single partition, this can cause serious performance degradation.\n",
      "22/05/05 09:33:01 WARN WindowExec: No Partition Defined for Window operation! Moving all data to a single partition, this can cause serious performance degradation.\n",
      "22/05/05 09:33:01 WARN package: Truncated the string representation of a plan since it was too large. This behavior can be adjusted by setting 'spark.sql.debug.maxToStringFields'.\n",
      "22/05/05 09:33:02 WARN WindowExec: No Partition Defined for Window operation! Moving all data to a single partition, this can cause serious performance degradation.\n",
      "22/05/05 09:33:02 WARN WindowExec: No Partition Defined for Window operation! Moving all data to a single partition, this can cause serious performance degradation.\n",
      "22/05/05 09:33:02 WARN WindowExec: No Partition Defined for Window operation! Moving all data to a single partition, this can cause serious performance degradation.\n",
      "22/05/05 09:33:02 WARN WindowExec: No Partition Defined for Window operation! Moving all data to a single partition, this can cause serious performance degradation.\n",
      "22/05/05 09:33:02 WARN WindowExec: No Partition Defined for Window operation! Moving all data to a single partition, this can cause serious performance degradation.\n",
      "22/05/05 09:33:02 WARN WindowExec: No Partition Defined for Window operation! Moving all data to a single partition, this can cause serious performance degradation.\n",
      "22/05/05 09:33:02 WARN WindowExec: No Partition Defined for Window operation! Moving all data to a single partition, this can cause serious performance degradation.\n",
      "22/05/05 09:33:02 WARN WindowExec: No Partition Defined for Window operation! Moving all data to a single partition, this can cause serious performance degradation.\n",
      "22/05/05 09:33:02 WARN WindowExec: No Partition Defined for Window operation! Moving all data to a single partition, this can cause serious performance degradation.\n",
      "22/05/05 09:33:02 WARN WindowExec: No Partition Defined for Window operation! Moving all data to a single partition, this can cause serious performance degradation.\n",
      "22/05/05 09:33:02 WARN WindowExec: No Partition Defined for Window operation! Moving all data to a single partition, this can cause serious performance degradation.\n",
      "22/05/05 09:33:02 WARN WindowExec: No Partition Defined for Window operation! Moving all data to a single partition, this can cause serious performance degradation.\n",
      "22/05/05 09:33:02 WARN WindowExec: No Partition Defined for Window operation! Moving all data to a single partition, this can cause serious performance degradation.\n",
      "22/05/05 09:33:02 WARN WindowExec: No Partition Defined for Window operation! Moving all data to a single partition, this can cause serious performance degradation.\n",
      "22/05/05 09:33:02 WARN WindowExec: No Partition Defined for Window operation! Moving all data to a single partition, this can cause serious performance degradation.\n",
      "22/05/05 09:33:02 WARN WindowExec: No Partition Defined for Window operation! Moving all data to a single partition, this can cause serious performance degradation.\n",
      "22/05/05 09:33:02 WARN WindowExec: No Partition Defined for Window operation! Moving all data to a single partition, this can cause serious performance degradation.\n",
      "22/05/05 09:33:02 WARN WindowExec: No Partition Defined for Window operation! Moving all data to a single partition, this can cause serious performance degradation.\n",
      "22/05/05 09:33:02 WARN WindowExec: No Partition Defined for Window operation! Moving all data to a single partition, this can cause serious performance degradation.\n",
      "22/05/05 09:33:02 WARN WindowExec: No Partition Defined for Window operation! Moving all data to a single partition, this can cause serious performance degradation.\n",
      "22/05/05 09:33:03 WARN WindowExec: No Partition Defined for Window operation! Moving all data to a single partition, this can cause serious performance degradation.\n",
      "22/05/05 09:33:03 WARN WindowExec: No Partition Defined for Window operation! Moving all data to a single partition, this can cause serious performance degradation.\n",
      "22/05/05 09:33:03 WARN WindowExec: No Partition Defined for Window operation! Moving all data to a single partition, this can cause serious performance degradation.\n",
      "22/05/05 09:33:03 WARN WindowExec: No Partition Defined for Window operation! Moving all data to a single partition, this can cause serious performance degradation.\n",
      "22/05/05 09:33:03 WARN WindowExec: No Partition Defined for Window operation! Moving all data to a single partition, this can cause serious performance degradation.\n",
      "22/05/05 09:33:03 WARN WindowExec: No Partition Defined for Window operation! Moving all data to a single partition, this can cause serious performance degradation.\n",
      "22/05/05 09:33:03 WARN WindowExec: No Partition Defined for Window operation! Moving all data to a single partition, this can cause serious performance degradation.\n",
      "22/05/05 09:33:03 WARN WindowExec: No Partition Defined for Window operation! Moving all data to a single partition, this can cause serious performance degradation.\n",
      "22/05/05 09:33:03 WARN WindowExec: No Partition Defined for Window operation! Moving all data to a single partition, this can cause serious performance degradation.\n",
      "22/05/05 09:33:03 WARN WindowExec: No Partition Defined for Window operation! Moving all data to a single partition, this can cause serious performance degradation.\n",
      "22/05/05 09:33:03 WARN WindowExec: No Partition Defined for Window operation! Moving all data to a single partition, this can cause serious performance degradation.\n",
      "22/05/05 09:33:03 WARN WindowExec: No Partition Defined for Window operation! Moving all data to a single partition, this can cause serious performance degradation.\n",
      "22/05/05 09:33:03 WARN WindowExec: No Partition Defined for Window operation! Moving all data to a single partition, this can cause serious performance degradation.\n",
      "22/05/05 09:33:03 WARN WindowExec: No Partition Defined for Window operation! Moving all data to a single partition, this can cause serious performance degradation.\n",
      "22/05/05 09:33:03 WARN WindowExec: No Partition Defined for Window operation! Moving all data to a single partition, this can cause serious performance degradation.\n"
     ]
    }
   ],
   "source": [
    "import time\n",
    "def current_milli_time():\n",
    "    return round(time.time() * 1000)\n",
    "\n",
    "def run():\n",
    "    start = current_milli_time()\n",
    "    results.collect()\n",
    "    return current_milli_time() - start\n",
    "\n",
    "def average(l):\n",
    "    return sum(l)/len(l)\n",
    "    \n",
    "def time_test():\n",
    "    l = list()\n",
    "    for i in range(25):\n",
    "        l.append(run())\n",
    "    return average(l)\n",
    "\n",
    "res = time_test()\n"
   ]
  },
  {
   "cell_type": "code",
   "execution_count": null,
   "id": "4805eb81",
   "metadata": {},
   "outputs": [],
   "source": []
  }
 ],
 "metadata": {
  "kernelspec": {
   "display_name": "Python 3 (ipykernel)",
   "language": "python",
   "name": "python3"
  },
  "language_info": {
   "codemirror_mode": {
    "name": "ipython",
    "version": 3
   },
   "file_extension": ".py",
   "mimetype": "text/x-python",
   "name": "python",
   "nbconvert_exporter": "python",
   "pygments_lexer": "ipython3",
   "version": "3.10.4"
  }
 },
 "nbformat": 4,
 "nbformat_minor": 5
}
